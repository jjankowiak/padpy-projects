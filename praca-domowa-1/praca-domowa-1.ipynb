{
 "cells": [
  {
   "cell_type": "markdown",
   "metadata": {},
   "source": [
    "# Praca domowa nr 1\n",
    "## Justyna Jankowiak"
   ]
  },
  {
   "cell_type": "markdown",
   "metadata": {},
   "source": [
    "#### 1. Zadanie 4 \n",
    "Napisz funkcję `prostokat()`, która dla danych 3 dodatnich liczb rzeczywistych `a, b, c` sprawdzi, czy może istnieć trójkąt prostokątny o bokach podanych długości.\n",
    "\n",
    "Pozwoliłam sobie wyznaczyć najdłuższy bok wbudowaną funkcją `max()`, ponieważ pisaliśmy już ową funkcję na zajęciach (por. zadanie 1)"
   ]
  },
  {
   "cell_type": "code",
   "execution_count": 15,
   "metadata": {
    "collapsed": false
   },
   "outputs": [],
   "source": [
    "def prostokat(a, b, c):\n",
    "    \"\"\"\n",
    "    Funcja przyjmuje 3 argumenty - długości boków trójkąta\n",
    "    Zwraca wartość logiczną: \n",
    "    * True jeżeli trójkąt o bokach zadanej długości może być trójkątem prostokątnym\n",
    "    * False w przeciwnym przypadku\n",
    "    \"\"\"\n",
    "    lista_bokow = [a, b, c]\n",
    "    przekatna = max(lista_bokow)\n",
    "    lista_bokow.remove(przekatna)\n",
    "    if lista_bokow[0]**2 + lista_bokow[1]**2 == przekatna**2:\n",
    "        return True\n",
    "    else:\n",
    "        return False"
   ]
  },
  {
   "cell_type": "code",
   "execution_count": 16,
   "metadata": {
    "collapsed": false
   },
   "outputs": [
    {
     "data": {
      "text/plain": [
       "True"
      ]
     },
     "execution_count": 16,
     "metadata": {},
     "output_type": "execute_result"
    }
   ],
   "source": [
    "prostokat(5, 4, 3)"
   ]
  },
  {
   "cell_type": "code",
   "execution_count": 17,
   "metadata": {
    "collapsed": false
   },
   "outputs": [
    {
     "data": {
      "text/plain": [
       "True"
      ]
     },
     "execution_count": 17,
     "metadata": {},
     "output_type": "execute_result"
    }
   ],
   "source": [
    "prostokat(5, 12, 13)"
   ]
  },
  {
   "cell_type": "code",
   "execution_count": 18,
   "metadata": {
    "collapsed": false
   },
   "outputs": [
    {
     "data": {
      "text/plain": [
       "False"
      ]
     },
     "execution_count": 18,
     "metadata": {},
     "output_type": "execute_result"
    }
   ],
   "source": [
    "prostokat(3.5, 8, 7)"
   ]
  },
  {
   "cell_type": "markdown",
   "metadata": {},
   "source": [
    "#### 2. Zadanie 6\n",
    "Napisz funkcję, która dla danych liczb rzeczywistych a, b, c wyznaczy rozwiązanie równania $ax^2+bx+c=0$ (względem $x$). Zwróć krotkę o długości od 0 do 2."
   ]
  },
  {
   "cell_type": "code",
   "execution_count": 19,
   "metadata": {
    "collapsed": false
   },
   "outputs": [],
   "source": [
    "def miejsca_zerowe(a, b, c):\n",
    "    \"\"\"\n",
    "    Funkcja przyjmuje trzy argumenty - współczynniki równania kwadratowego a, b, c\n",
    "    Zwraca krotkę z rozwiązaniem, tzn.:\n",
    "    - pusta krotka gdy równanie nie ma rozwiązania\n",
    "    - krotka jednoelementowa gdy równanie ma jedno rozwiązanie\n",
    "    - krotka dwuelementowa gdy równanie ma dwa rozwiązania\n",
    "    \"\"\"\n",
    "    delta = b**2 - 4 * a * c\n",
    "    if delta < 0: \n",
    "        return ()\n",
    "    elif delta == 0:\n",
    "        return (- b / (2 * a),)\n",
    "    else:\n",
    "        return ((- b + delta ** 0.5)/ (2 * a), (- b - delta ** 0.5)/ (2 * a))\n",
    "    \n",
    "    "
   ]
  },
  {
   "cell_type": "code",
   "execution_count": 20,
   "metadata": {
    "collapsed": false
   },
   "outputs": [
    {
     "data": {
      "text/plain": [
       "()"
      ]
     },
     "execution_count": 20,
     "metadata": {},
     "output_type": "execute_result"
    }
   ],
   "source": [
    "miejsca_zerowe(1, 0.2, 3)"
   ]
  },
  {
   "cell_type": "code",
   "execution_count": 21,
   "metadata": {
    "collapsed": false
   },
   "outputs": [
    {
     "data": {
      "text/plain": [
       "(-1.0,)"
      ]
     },
     "execution_count": 21,
     "metadata": {},
     "output_type": "execute_result"
    }
   ],
   "source": [
    "miejsca_zerowe(1, 2, 1)"
   ]
  },
  {
   "cell_type": "code",
   "execution_count": 22,
   "metadata": {
    "collapsed": false
   },
   "outputs": [
    {
     "data": {
      "text/plain": [
       "(1.4494897427831779, -3.449489742783178)"
      ]
     },
     "execution_count": 22,
     "metadata": {},
     "output_type": "execute_result"
    }
   ],
   "source": [
    "miejsca_zerowe(1, 2, -5)"
   ]
  },
  {
   "cell_type": "markdown",
   "metadata": {},
   "source": [
    "#### 3. Zadanie 7 \n",
    "Napisz funkcję, która zwraca przybliżenie wartości liczby $\\pi$ za pomocą wzoru: $\\pi \\simeq 4\\left(1-\\frac{1}{3}+\\frac{1}{5}-\\frac{1}{7}+\\dots\\right)$ na podstawie $n$ (argument funkcji) pierwszych elementów tego szeregu liczbowego."
   ]
  },
  {
   "cell_type": "code",
   "execution_count": 23,
   "metadata": {
    "collapsed": true
   },
   "outputs": [],
   "source": [
    "def przyblizenie_pi(n):\n",
    "    \"\"\"\n",
    "    Funkcja przyjmuje jako argument liczbę naturalną n\n",
    "    Zwraca przybliżenie liczby pi wg wzoru jak w treści zadania\n",
    "    \"\"\"\n",
    "    nawias = 0\n",
    "    for i in range(1, 2 * n, 2):\n",
    "        if i % 4 == 1:\n",
    "            nawias += 1 / i\n",
    "        else:\n",
    "            nawias -= 1 / i\n",
    "    return 4 * nawias"
   ]
  },
  {
   "cell_type": "code",
   "execution_count": 24,
   "metadata": {
    "collapsed": false
   },
   "outputs": [
    {
     "data": {
      "text/plain": [
       "3.09162380666784"
      ]
     },
     "execution_count": 24,
     "metadata": {},
     "output_type": "execute_result"
    }
   ],
   "source": [
    "przyblizenie_pi(20)"
   ]
  },
  {
   "cell_type": "code",
   "execution_count": 25,
   "metadata": {
    "collapsed": false
   },
   "outputs": [
    {
     "data": {
      "text/plain": [
       "3.1315929035585537"
      ]
     },
     "execution_count": 25,
     "metadata": {},
     "output_type": "execute_result"
    }
   ],
   "source": [
    "przyblizenie_pi(100)"
   ]
  },
  {
   "cell_type": "markdown",
   "metadata": {},
   "source": [
    "#### 4. Zadanie 8\n",
    "Wyrazy ciągu Fibonacciego $(F_n)_{n=0,1,\\dots}$ określone są wzorem $F_0=F_1=1$ oraz $F_n=F{n-1}+F_{n-2}$ dla $n\\ge 2$. Napisz funkcję, która dla danego $k$ zwróci takie $i$, że $F_i$ jest najmniejszym elementem, który ma dokładnie $k$ cyfr w zapisie dziesiętnym. Na przykład dla $k=3$ jest to $12$, bo $F_{12}=144$, a $F_{11}=89$. Uwaga: funkcja ma działać także np. dla $k=1000$.\n",
    "\n",
    "Tutaj dużo lepiej sprawdzi się funkcja do obliczania liczb Fibonacciego w wersji nierekurencyjnej."
   ]
  },
  {
   "cell_type": "code",
   "execution_count": 3,
   "metadata": {
    "collapsed": true
   },
   "outputs": [],
   "source": [
    "def cyfry_fibonacci(k):\n",
    "    \"\"\"\n",
    "    Funkcja przyjmuje argument k - liczbę naturalną. Dla danego k zwraca takie i, że F_i jest najmniejszym\n",
    "    elementem, który ma dokładnie k cyfr w zapisie dziesiętnym (gdzie F_i to i-ta liczba Fibonacciego).\n",
    "    \"\"\"\n",
    "    def fibonacci(n):\n",
    "        if n == 0 or n == 1:\n",
    "            return 1\n",
    "        else:\n",
    "            obecna = 1\n",
    "            poprzednia = 1\n",
    "            for i in range(2, n):\n",
    "                tmp = obecna\n",
    "                obecna += poprzednia\n",
    "                poprzednia = tmp\n",
    "        return obecna\n",
    "\n",
    "    i = 1\n",
    "    while len(str(fibonacci(i))) < k:\n",
    "        i += 1\n",
    "    return i"
   ]
  },
  {
   "cell_type": "code",
   "execution_count": 2,
   "metadata": {
    "collapsed": false
   },
   "outputs": [
    {
     "data": {
      "text/plain": [
       "4782"
      ]
     },
     "execution_count": 2,
     "metadata": {},
     "output_type": "execute_result"
    }
   ],
   "source": [
    "cyfry_fibonacci(1000)"
   ]
  },
  {
   "cell_type": "markdown",
   "metadata": {},
   "source": [
    "#### 5. Zadanie 11\n",
    "Napisz funkcję która przyjmuje 3 argumenty a,b,c. Znajdź ich permutację taką, że a' <= b' <= c' i zwróć je jako krotkę (a',b',c').\n",
    "\n",
    "Nie jestem pewna czy to zadanie jest takie proste czy mi się tylko tak wydaje. Moja interpretacja - posortuj liczby i zwróć je jako krotkę. Podobnie jak w zadaniu 4 korzystam z wbudowanej funkcji `max()`."
   ]
  },
  {
   "cell_type": "code",
   "execution_count": 26,
   "metadata": {
    "collapsed": true
   },
   "outputs": [],
   "source": [
    "def permutacja(a, b, c):\n",
    "    \"\"\"\n",
    "    Funkcja przyjmuje trzy argumenty a, b, c, znajduje ich niemalejacą permutację i zwraca ją jako krotkę.\n",
    "    \"\"\"\n",
    "    lista = [a, b, c]\n",
    "    cc = max(lista)\n",
    "    lista.remove(cc)\n",
    "    aa = lista[0]\n",
    "    bb = lista[1]\n",
    "    if aa <= bb <= cc:\n",
    "        return (aa, bb, cc)\n",
    "    else:\n",
    "        return (bb, aa, cc)"
   ]
  },
  {
   "cell_type": "code",
   "execution_count": 27,
   "metadata": {
    "collapsed": false
   },
   "outputs": [
    {
     "data": {
      "text/plain": [
       "(1, 2, 3)"
      ]
     },
     "execution_count": 27,
     "metadata": {},
     "output_type": "execute_result"
    }
   ],
   "source": [
    "permutacja(1, 2, 3)"
   ]
  },
  {
   "cell_type": "code",
   "execution_count": 28,
   "metadata": {
    "collapsed": false
   },
   "outputs": [
    {
     "data": {
      "text/plain": [
       "(7, 10, 10)"
      ]
     },
     "execution_count": 28,
     "metadata": {},
     "output_type": "execute_result"
    }
   ],
   "source": [
    "permutacja(10, 10, 7)"
   ]
  },
  {
   "cell_type": "code",
   "execution_count": 29,
   "metadata": {
    "collapsed": false
   },
   "outputs": [
    {
     "data": {
      "text/plain": [
       "(3, 6, 8.5)"
      ]
     },
     "execution_count": 29,
     "metadata": {},
     "output_type": "execute_result"
    }
   ],
   "source": [
    "permutacja(8.5, 3, 6)"
   ]
  },
  {
   "cell_type": "markdown",
   "metadata": {
    "collapsed": true
   },
   "source": [
    "#### 6. Zadanie 12\n",
    "(Szklana pułapka) Masz do dyspozycji pojemniki na wodę o objętości `x` i `y` litrów oraz dowolną ilość wody w basenie. Czy przy ich pomocy (pojemniki wypełnione do pełna) można wybrać `z` litrów wody? Napisz pseudokod algorytmu, który to sprawdza i dokonaj obliczeń dla\n",
    "\n",
    "a) `x` = 13, `y` = 31, `z` = 1111, b) `x` = 12, `y` = 21, `z` = 111.\n",
    "\n",
    "Korzystam z dwóch pętli, które iterują od 0 do odpowiednio `k` i `l`, gdzie `k` to wynik dzielenia liczby `z` przez `x` a `l` analogicznie dla `y` - w ten sposób sprawdzam kolejne kombinacje `i * x + j * y = z`. Jeżeli znajdę odpowiednie `i` i `j` to wychodzę z pętli."
   ]
  },
  {
   "cell_type": "code",
   "execution_count": 30,
   "metadata": {
    "collapsed": true
   },
   "outputs": [],
   "source": [
    "def pulapka(x, y, z):\n",
    "    \"\"\"\n",
    "    Funkcja przyjmuje na wejściu trzy liczby x, y i z. \n",
    "    Sprawdza, czy jest możliwa kombinacja a * x + b * y = z, gdzie a i b to liczby naturalne >=0.\n",
    "    Funkcja zwraca wartość True gdy taka kombinacja istanieje i False w przeciwnym przypadku.\n",
    "    \"\"\"\n",
    "    k = int(z / x)\n",
    "    l = int(z / y)\n",
    "    flag = False\n",
    "    for i in range(0, k + 1):\n",
    "        if flag == True:\n",
    "            break\n",
    "        for j in range(0, l + 1):\n",
    "            if i * x + j * y == z:\n",
    "                flag = True\n",
    "                break\n",
    "    return flag"
   ]
  },
  {
   "cell_type": "code",
   "execution_count": 31,
   "metadata": {
    "collapsed": false
   },
   "outputs": [
    {
     "data": {
      "text/plain": [
       "True"
      ]
     },
     "execution_count": 31,
     "metadata": {},
     "output_type": "execute_result"
    }
   ],
   "source": [
    "pulapka(13, 31, 1111)"
   ]
  },
  {
   "cell_type": "code",
   "execution_count": 32,
   "metadata": {
    "collapsed": false
   },
   "outputs": [
    {
     "data": {
      "text/plain": [
       "True"
      ]
     },
     "execution_count": 32,
     "metadata": {},
     "output_type": "execute_result"
    }
   ],
   "source": [
    "pulapka(12, 21, 111)"
   ]
  },
  {
   "cell_type": "code",
   "execution_count": 33,
   "metadata": {
    "collapsed": false
   },
   "outputs": [
    {
     "data": {
      "text/plain": [
       "True"
      ]
     },
     "execution_count": 33,
     "metadata": {},
     "output_type": "execute_result"
    }
   ],
   "source": [
    "pulapka(2, 5, 8)"
   ]
  },
  {
   "cell_type": "code",
   "execution_count": 34,
   "metadata": {
    "collapsed": false
   },
   "outputs": [
    {
     "data": {
      "text/plain": [
       "False"
      ]
     },
     "execution_count": 34,
     "metadata": {},
     "output_type": "execute_result"
    }
   ],
   "source": [
    "pulapka(10, 12, 25)"
   ]
  },
  {
   "cell_type": "markdown",
   "metadata": {},
   "source": [
    "#### 7. Zadanie 16 \n",
    "Dana jest lista t składająca się z liczb całkowitych od 0 do 19. Napisz funkcję, która wyznaczy jej dominantę (modę), czyli najczęściej pojawiającą się wartość. Wskazówka: skorzystaj z pomocniczej, 20-elementowej listy, przy użyciu której zliczysz, ile razy w t występuje każda możliwa wartość."
   ]
  },
  {
   "cell_type": "code",
   "execution_count": 35,
   "metadata": {
    "collapsed": false
   },
   "outputs": [],
   "source": [
    "def moda(lista):\n",
    "    \"\"\"\n",
    "    Funkcja jako argument przyjmuje listę składającą się z liczb całkowitych od 0 do 19 a następnie\n",
    "    wyznacza jej dominantę. W przypadku gdy mamy więcej niż jedną modę funkcja zwraca tę mniejszą.\n",
    "    \"\"\"\n",
    "    pom = [0] * 20\n",
    "    for i in range(0, len(lista)):\n",
    "        index = lista[i]\n",
    "        pom[index] += 1\n",
    "    \n",
    "    maks = pom[0]\n",
    "    for i in pom[1:]:\n",
    "        if i > maks:\n",
    "            maks = i\n",
    "    j = 0\n",
    "    while maks != pom[j]:\n",
    "        j += 1\n",
    "    return j\n",
    "        "
   ]
  },
  {
   "cell_type": "code",
   "execution_count": 36,
   "metadata": {
    "collapsed": false
   },
   "outputs": [
    {
     "data": {
      "text/plain": [
       "2"
      ]
     },
     "execution_count": 36,
     "metadata": {},
     "output_type": "execute_result"
    }
   ],
   "source": [
    "moda([1,1,5,6,3,4,5,2,2,2,2,4,4])"
   ]
  },
  {
   "cell_type": "code",
   "execution_count": 37,
   "metadata": {
    "collapsed": false
   },
   "outputs": [
    {
     "data": {
      "text/plain": [
       "2"
      ]
     },
     "execution_count": 37,
     "metadata": {},
     "output_type": "execute_result"
    }
   ],
   "source": [
    "moda([5,5,2,2])"
   ]
  },
  {
   "cell_type": "markdown",
   "metadata": {},
   "source": [
    "#### 8. Zadanie 22\n",
    "Dana jest `n`-elementowa, już posortowana lista liczb całkowitych oraz liczba całkowita `x`. Napisz funkcję, która za pomocą wyszukiwania binarnego (połówkowego) sprawdzi, czy wartość `x` jest elementem listy i jeśli tak jest w istocie, to poda pod którym indeksem listy się znajduje bądź zwróci -1 w przeciwnym przypadku."
   ]
  },
  {
   "cell_type": "code",
   "execution_count": 38,
   "metadata": {
    "collapsed": true
   },
   "outputs": [],
   "source": [
    "def czy_zawiera(lista, x):\n",
    "    \"\"\"\n",
    "    Funkcja przyjmuje posortowaną listę liczb całkowitych i liczbę całkowitą x. \n",
    "    Za pomocą wyszukiwania binarnego sprawdzane jest czy x jest elementem listy.\n",
    "    Jeżeli jest zwracany jest ne indeksu, na którym owa wartość się znajduje lub -1 w przeciwnym przypadku.\n",
    "    \"\"\"\n",
    "    poczatek = 0\n",
    "    koniec = len(lista)\n",
    "    while poczatek < koniec:\n",
    "        srodek = int((poczatek + koniec) / 2)\n",
    "        sr = lista[srodek]\n",
    "        if sr < x:\n",
    "            poczatek = srodek + 1\n",
    "        elif sr > x:\n",
    "            koniec = srodek\n",
    "        else:\n",
    "            return srodek\n",
    "    return -1"
   ]
  },
  {
   "cell_type": "code",
   "execution_count": 39,
   "metadata": {
    "collapsed": false
   },
   "outputs": [
    {
     "data": {
      "text/plain": [
       "2"
      ]
     },
     "execution_count": 39,
     "metadata": {},
     "output_type": "execute_result"
    }
   ],
   "source": [
    "czy_zawiera([1, 3, 5], 5)"
   ]
  },
  {
   "cell_type": "code",
   "execution_count": 40,
   "metadata": {
    "collapsed": false
   },
   "outputs": [
    {
     "data": {
      "text/plain": [
       "-1"
      ]
     },
     "execution_count": 40,
     "metadata": {},
     "output_type": "execute_result"
    }
   ],
   "source": [
    "czy_zawiera([6,6,7,7,8,9], 3)"
   ]
  },
  {
   "cell_type": "code",
   "execution_count": 41,
   "metadata": {
    "collapsed": false
   },
   "outputs": [
    {
     "data": {
      "text/plain": [
       "3"
      ]
     },
     "execution_count": 41,
     "metadata": {},
     "output_type": "execute_result"
    }
   ],
   "source": [
    "czy_zawiera([1,2,3, 4,4,5], 4)"
   ]
  },
  {
   "cell_type": "markdown",
   "metadata": {},
   "source": [
    "#### 9. Zadanie 26\n",
    "Napisz funkcję, która dla danej listy zwróci nowa listę z pominiętymi wszystkimi wartościami 0, None i napisami pustymi."
   ]
  },
  {
   "cell_type": "code",
   "execution_count": 42,
   "metadata": {
    "collapsed": true
   },
   "outputs": [],
   "source": [
    "def pomin(lista):\n",
    "    \"\"\"\n",
    "    Funkcja dla danej listy zwraca listę bez wartości 0, None i ''.\n",
    "    Tu pierwsza wersja, korzystająca z metody remove()\n",
    "    \"\"\"\n",
    "    for i in [0, None, '']:\n",
    "        while i in lista:\n",
    "            lista.remove(i)\n",
    "    return lista"
   ]
  },
  {
   "cell_type": "code",
   "execution_count": 43,
   "metadata": {
    "collapsed": false
   },
   "outputs": [
    {
     "data": {
      "text/plain": [
       "[]"
      ]
     },
     "execution_count": 43,
     "metadata": {},
     "output_type": "execute_result"
    }
   ],
   "source": [
    "pomin([0, 0, 0])"
   ]
  },
  {
   "cell_type": "code",
   "execution_count": 44,
   "metadata": {
    "collapsed": false
   },
   "outputs": [
    {
     "data": {
      "text/plain": [
       "[1, 'Ola', 5, True]"
      ]
     },
     "execution_count": 44,
     "metadata": {},
     "output_type": "execute_result"
    }
   ],
   "source": [
    "pomin([1, 'Ola', '', None, 5, True])"
   ]
  },
  {
   "cell_type": "code",
   "execution_count": 45,
   "metadata": {
    "collapsed": true
   },
   "outputs": [],
   "source": [
    "def pomin2(lista):\n",
    "    \"\"\"\n",
    "    A tu druga wersja z wyrażeniem listowym.\n",
    "    \"\"\"\n",
    "    lista_clear = [i for i in lista if i not in [0, None, '']]\n",
    "    return lista_clear"
   ]
  },
  {
   "cell_type": "code",
   "execution_count": 46,
   "metadata": {
    "collapsed": false
   },
   "outputs": [
    {
     "data": {
      "text/plain": [
       "[]"
      ]
     },
     "execution_count": 46,
     "metadata": {},
     "output_type": "execute_result"
    }
   ],
   "source": [
    "pomin2([0, None, ''])"
   ]
  },
  {
   "cell_type": "code",
   "execution_count": 47,
   "metadata": {
    "collapsed": false
   },
   "outputs": [
    {
     "data": {
      "text/plain": [
       "[3, 2, 1]"
      ]
     },
     "execution_count": 47,
     "metadata": {},
     "output_type": "execute_result"
    }
   ],
   "source": [
    "pomin2([3, 2, 1])"
   ]
  },
  {
   "cell_type": "markdown",
   "metadata": {},
   "source": [
    "#### 10. Zadanie 27\n",
    "Napisz funkcję, która dla danej listy zwraca jej wersję z elementami w odwróconej kolejności."
   ]
  },
  {
   "cell_type": "code",
   "execution_count": 48,
   "metadata": {
    "collapsed": true
   },
   "outputs": [],
   "source": [
    "def odwrotna(lista):\n",
    "    \"\"\"\n",
    "    Dla danej funckji funkcja zwraca jej odwrotność.\n",
    "    Iterujemy \"co -1\" co daje nam pożądany wynik.\n",
    "    \"\"\"\n",
    "    return lista[::-1]"
   ]
  },
  {
   "cell_type": "code",
   "execution_count": 49,
   "metadata": {
    "collapsed": false
   },
   "outputs": [
    {
     "data": {
      "text/plain": [
       "[None, True, 'Ola', 2, 1]"
      ]
     },
     "execution_count": 49,
     "metadata": {},
     "output_type": "execute_result"
    }
   ],
   "source": [
    "odwrotna([1, 2, 'Ola', True, None])"
   ]
  },
  {
   "cell_type": "markdown",
   "metadata": {
    "collapsed": true
   },
   "source": [
    "#### 11. Zadanie 28 \n",
    "Napisz funkcję, która sprawdza, czy dana lista jest palindromem."
   ]
  },
  {
   "cell_type": "code",
   "execution_count": 50,
   "metadata": {
    "collapsed": true
   },
   "outputs": [],
   "source": [
    "def palindrom(lista):\n",
    "    \"\"\"\n",
    "    Funkcja sprawdza czy lista jest palindromem.\n",
    "    Sprawdzamy czy lista jest równa swojej odwrotności.\n",
    "    \"\"\"\n",
    "    if lista[::-1] == lista:\n",
    "        return True\n",
    "    else:\n",
    "        return False"
   ]
  },
  {
   "cell_type": "code",
   "execution_count": 51,
   "metadata": {
    "collapsed": false
   },
   "outputs": [
    {
     "data": {
      "text/plain": [
       "True"
      ]
     },
     "execution_count": 51,
     "metadata": {},
     "output_type": "execute_result"
    }
   ],
   "source": [
    "palindrom([0, 1, 7, 1, 0])"
   ]
  },
  {
   "cell_type": "code",
   "execution_count": 52,
   "metadata": {
    "collapsed": false
   },
   "outputs": [
    {
     "data": {
      "text/plain": [
       "True"
      ]
     },
     "execution_count": 52,
     "metadata": {},
     "output_type": "execute_result"
    }
   ],
   "source": [
    "palindrom(['Ala', 'Ola', 'Ola', 'Ala'])"
   ]
  },
  {
   "cell_type": "code",
   "execution_count": 53,
   "metadata": {
    "collapsed": false
   },
   "outputs": [
    {
     "data": {
      "text/plain": [
       "False"
      ]
     },
     "execution_count": 53,
     "metadata": {},
     "output_type": "execute_result"
    }
   ],
   "source": [
    "palindrom([1, 2, 3])"
   ]
  }
 ],
 "metadata": {
  "kernelspec": {
   "display_name": "Python 3",
   "language": "python",
   "name": "python3"
  },
  "language_info": {
   "codemirror_mode": {
    "name": "ipython",
    "version": 3
   },
   "file_extension": ".py",
   "mimetype": "text/x-python",
   "name": "python",
   "nbconvert_exporter": "python",
   "pygments_lexer": "ipython3",
   "version": "3.4.0"
  }
 },
 "nbformat": 4,
 "nbformat_minor": 0
}
