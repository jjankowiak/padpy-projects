{
 "cells": [
  {
   "cell_type": "markdown",
   "metadata": {},
   "source": [
    "tmp"
   ]
  },
  {
   "cell_type": "code",
   "execution_count": 5,
   "metadata": {
    "collapsed": false
   },
   "outputs": [],
   "source": [
    "import pandas as pd\n",
    "import scipy.io.wavfile as wav\n",
    "import numpy as np\n",
    "from os import path"
   ]
  },
  {
   "cell_type": "code",
   "execution_count": 6,
   "metadata": {
    "collapsed": true
   },
   "outputs": [],
   "source": [
    "folder = 'wygibasy'"
   ]
  },
  {
   "cell_type": "code",
   "execution_count": 75,
   "metadata": {
    "collapsed": true
   },
   "outputs": [],
   "source": [
    "def take_track_names(folder):\n",
    "    dir_to_song = path.join(folder, \"song.txt\")\n",
    "    song = pd.read_csv(dir_to_song, header = None, dtype = str)\n",
    "    # all unique tracks used in the song\n",
    "    track_numbers = list(set(song.loc[:, 0]))\n",
    "    num_of_tracks = len(track_numbers)\n",
    "    name_of_track = [None] * num_of_tracks\n",
    "    for i in range(num_of_tracks):\n",
    "        name_of_track[i] = 'track' + track_numbers[i] + '.txt'\n",
    "    return name_of_track"
   ]
  },
  {
   "cell_type": "code",
   "execution_count": 76,
   "metadata": {
    "collapsed": false
   },
   "outputs": [],
   "source": [
    "def create_all_track(name_of_track, bpm, folder):\n",
    "    # unique tracks\n",
    "    num_of_tracks = len(name_of_track)\n",
    "    dict_of_tracks = {}\n",
    "    for i in range(num_of_tracks):\n",
    "        dict_of_tracks[name_of_track[i]] = create_track(name_of_track[i], bpm, folder)\n",
    "    return dict_of_tracks"
   ]
  },
  {
   "cell_type": "code",
   "execution_count": 109,
   "metadata": {
    "collapsed": false,
    "scrolled": true
   },
   "outputs": [
    {
     "name": "stderr",
     "output_type": "stream",
     "text": [
      "/usr/lib/python3/dist-packages/scipy/io/wavfile.py:172: WavFileWarning: Chunk (non-data) not understood, skipping it.\n",
      "  WavFileWarning)\n"
     ]
    }
   ],
   "source": [
    "name_of_track = take_track_names(folder)\n",
    "dict_of_tracks = create_all_track(name_of_track, bpm, folder) #ok!"
   ]
  },
  {
   "cell_type": "code",
   "execution_count": 110,
   "metadata": {
    "collapsed": false
   },
   "outputs": [
    {
     "data": {
      "text/plain": [
       "{'track01.txt': [array([[  6,   4],\n",
       "         [ -1, -10],\n",
       "         [  5,  14],\n",
       "         ..., \n",
       "         [  0,   0],\n",
       "         [  0,   0],\n",
       "         [  0,   0]], dtype=int16), 235200, 379829],\n",
       " 'track02.txt': [array([[ 6,  3],\n",
       "         [ 5,  4],\n",
       "         [-4, -4],\n",
       "         ..., \n",
       "         [ 0,  0],\n",
       "         [ 0,  0],\n",
       "         [ 0,  0]], dtype=int16), 235200, 336035],\n",
       " 'track03.txt': [array([[ 9,  5],\n",
       "         [ 2, -7],\n",
       "         [-2,  6],\n",
       "         ..., \n",
       "         [ 0,  0],\n",
       "         [ 0,  0],\n",
       "         [ 0,  0]], dtype=int16), 235200, 379829]}"
      ]
     },
     "execution_count": 110,
     "metadata": {},
     "output_type": "execute_result"
    }
   ],
   "source": [
    "dict_of_tracks"
   ]
  },
  {
   "cell_type": "code",
   "execution_count": null,
   "metadata": {
    "collapsed": true
   },
   "outputs": [],
   "source": []
  },
  {
   "cell_type": "code",
   "execution_count": 124,
   "metadata": {
    "collapsed": false
   },
   "outputs": [],
   "source": [
    "def create_song(dict_of_tracks, folder):\n",
    "    dir_to_song = path.join(folder, \"song.txt\")\n",
    "    song = pd.read_csv(dir_to_song, header = None, dtype = str)\n",
    "    # all tracks used in the song in the order\n",
    "    track_names = 'track' + song.loc[:, 0] + '.txt'\n",
    "    # the length of the song = sum of raw length of every track + eventually additional ending of the last track\n",
    "    length_of_song = 0\n",
    "    for i, j in enumerate(track_names):\n",
    "        if i != len(track_names) - 1:\n",
    "            length_of_song += dict_of_tracks[j][1]\n",
    "        else:\n",
    "            length_of_song += dict_of_tracks[j][2]\n",
    "    song = np.zeros((length_of_song, 2))\n",
    "    for i, j in enumerate(track_names):\n",
    "        if i == 0:\n",
    "            where_to_start = 0\n",
    "            raw_length_of_track = dict_of_tracks[j][1]\n",
    "            true_length_of_track = dict_of_tracks[j][2]\n",
    "            song[where_to_start:true_length_of_track, :] += dict_of_tracks[j][0]\n",
    "            where_to_start += raw_length_of_track \n",
    "        else:\n",
    "            raw_length_of_track_new = dict_of_tracks[j][1]\n",
    "            true_length_of_track_new = dict_of_tracks[j][2]\n",
    "            song[where_to_start:(where_to_start + true_length_of_track_new), :] += dict_of_tracks[j][0]\n",
    "            where_to_start += raw_length_of_track_new\n",
    "    song = np.array(song, dtype = 'int16')\n",
    "    return song"
   ]
  },
  {
   "cell_type": "code",
   "execution_count": 125,
   "metadata": {
    "collapsed": false
   },
   "outputs": [],
   "source": [
    "piosenka = create_song(dict_of_tracks, folder)"
   ]
  },
  {
   "cell_type": "code",
   "execution_count": 126,
   "metadata": {
    "collapsed": false
   },
   "outputs": [
    {
     "data": {
      "text/plain": [
       "array([[  6,   4],\n",
       "       [ -1, -10],\n",
       "       [  5,  14],\n",
       "       ..., \n",
       "       [  0,   0],\n",
       "       [  0,   0],\n",
       "       [  0,   0]], dtype=int16)"
      ]
     },
     "execution_count": 126,
     "metadata": {},
     "output_type": "execute_result"
    }
   ],
   "source": [
    "piosenka"
   ]
  },
  {
   "cell_type": "code",
   "execution_count": 128,
   "metadata": {
    "collapsed": false
   },
   "outputs": [
    {
     "data": {
      "text/plain": [
       "array([[0, 0],\n",
       "       [0, 0],\n",
       "       [0, 0],\n",
       "       ..., \n",
       "       [0, 0],\n",
       "       [0, 0],\n",
       "       [0, 0]], dtype=int16)"
      ]
     },
     "execution_count": 128,
     "metadata": {},
     "output_type": "execute_result"
    }
   ],
   "source": [
    "piosenka[2000000:, ]"
   ]
  },
  {
   "cell_type": "code",
   "execution_count": 95,
   "metadata": {
    "collapsed": false
   },
   "outputs": [
    {
     "data": {
      "text/plain": [
       "(2959679, 2)"
      ]
     },
     "execution_count": 95,
     "metadata": {},
     "output_type": "execute_result"
    }
   ],
   "source": [
    "piosenka.shape #shape ok"
   ]
  },
  {
   "cell_type": "code",
   "execution_count": 123,
   "metadata": {
    "collapsed": false
   },
   "outputs": [
    {
     "data": {
      "text/plain": [
       "32767"
      ]
     },
     "execution_count": 123,
     "metadata": {},
     "output_type": "execute_result"
    }
   ],
   "source": [
    "max(piosenka[:, 1]) #na pograniczu maksa"
   ]
  },
  {
   "cell_type": "code",
   "execution_count": 97,
   "metadata": {
    "collapsed": false
   },
   "outputs": [],
   "source": [
    "bpm = 180\n",
    "folder = 'wygibasy'\n",
    "track1 = 'track01.txt'"
   ]
  },
  {
   "cell_type": "code",
   "execution_count": 129,
   "metadata": {
    "collapsed": true
   },
   "outputs": [],
   "source": [
    "wav.write('wygibasy/piosenka.wav', 44100, piosenka)"
   ]
  },
  {
   "cell_type": "code",
   "execution_count": 130,
   "metadata": {
    "collapsed": false
   },
   "outputs": [
    {
     "data": {
      "text/plain": [
       "[\"Playing WAVE 'wygibasy/piosenka.wav' : Signed 16 bit Little Endian, Rate 44100 Hz, Stereo\"]"
      ]
     },
     "execution_count": 130,
     "metadata": {},
     "output_type": "execute_result"
    }
   ],
   "source": [
    "!!aplay 'wygibasy/piosenka.wav'"
   ]
  },
  {
   "cell_type": "code",
   "execution_count": 14,
   "metadata": {
    "collapsed": true
   },
   "outputs": [],
   "source": [
    "def concatenate_one_type_of_sample(column_of_track, length_of_column, folder, next_sample):\n",
    "    column = np.zeros((length_of_column, 2))\n",
    "    # check the number of sample\n",
    "    num_of_sample = list(set(column_of_track).difference(['--']))[0]\n",
    "    sample = wav.read(path.join(folder, 'sample' + num_of_sample + '.wav'))\n",
    "    # number of bits in the sample\n",
    "    n = sample[1].shape[0]\n",
    "    # if length of sample is bigger than number of sounds (?) per bit we add more columns at the end of array\n",
    "    if n > next_sample:\n",
    "        how_many_to_add = n - next_sample\n",
    "        column = np.zeros((length_of_column + how_many_to_add, 2))\n",
    "    # concatenate sample and 'empty sounds' in order\n",
    "    for i, j in enumerate(column_of_track):\n",
    "        if j != '--':\n",
    "            column[i * next_sample : i * next_sample + n, :] += sample[1]\n",
    "    column = np.array(column, dtype = 'int16')\n",
    "    return column"
   ]
  },
  {
   "cell_type": "code",
   "execution_count": 15,
   "metadata": {
    "collapsed": true
   },
   "outputs": [],
   "source": [
    "def concatenate_all_samples_in_track(track, bpm, folder):\n",
    "    nrow_track = track.shape[0]\n",
    "    ncol_track = track.shape[1]\n",
    "    # bit per second\n",
    "    bps = bpm / 60\n",
    "    # all samples have the same sample rate\n",
    "    f = 44100\n",
    "    next_sample = int(f // bps)\n",
    "    N = next_sample * nrow_track\n",
    "    list_of_samples = list()\n",
    "    for k in range(ncol_track):\n",
    "        column_of_track = track.loc[:, k]\n",
    "        column = concatenate_one_type_of_sample(column_of_track, N, folder, next_sample)\n",
    "        list_of_samples.append(column)\n",
    "    return [N, list_of_samples]"
   ]
  },
  {
   "cell_type": "code",
   "execution_count": 16,
   "metadata": {
    "collapsed": false
   },
   "outputs": [],
   "source": [
    "def merge_all_concatenated_samples(list_of_samples):\n",
    "    k = len(list_of_samples)\n",
    "    # look for maximum number of rows in all samples\n",
    "    num_of_rows = [None] * k\n",
    "    for i in range(k):\n",
    "        num_of_rows[i] = list_of_samples[i].shape[0]\n",
    "    max_of_rows = max(num_of_rows)                 \n",
    "    # append all arrays with zeros to have the same shape\n",
    "    for i in range(k):             \n",
    "        n = list_of_samples[i].shape[0]\n",
    "        if n != max_of_rows:\n",
    "            list_of_samples[i] = np.vstack((list_of_samples[i], np.zeros((max_of_rows - n, 2))))  \n",
    "    #mix all sample into one array (average)\n",
    "    sample_all = np.zeros((max_of_rows, 2))\n",
    "    for i in range(k):\n",
    "        sample_all += 1/k * list_of_samples[i]\n",
    "    sample_all = np.array(sample_all, dtype = 'int16')\n",
    "    return sample_all"
   ]
  },
  {
   "cell_type": "code",
   "execution_count": 33,
   "metadata": {
    "collapsed": false
   },
   "outputs": [],
   "source": [
    "def create_track(track_name, bmp, folder):\n",
    "    path_to_track = path.join(folder, track_name)\n",
    "    track = pd.read_csv(path_to_track, sep = ' ', header = None, dtype = str)\n",
    "    raw_num_of_rows_and_list_of_samples = concatenate_all_samples_in_track(track, bpm, folder)\n",
    "    raw_num_of_rows = raw_num_of_rows_and_list_of_samples[0]\n",
    "    track_array = merge_all_concatenated_samples(raw_num_of_rows_and_list_of_samples[1])\n",
    "    true_num_of_rows = track_array.shape[0]\n",
    "    return [track_array, raw_num_of_rows, true_num_of_rows]"
   ]
  },
  {
   "cell_type": "code",
   "execution_count": 99,
   "metadata": {
    "collapsed": false
   },
   "outputs": [
    {
     "name": "stderr",
     "output_type": "stream",
     "text": [
      "/usr/lib/python3/dist-packages/scipy/io/wavfile.py:172: WavFileWarning: Chunk (non-data) not understood, skipping it.\n",
      "  WavFileWarning)\n"
     ]
    }
   ],
   "source": [
    "a = create_track(track1, bpm, folder)\n",
    "b = create_track('track02.txt', bpm, folder)\n",
    "c = create_track('track03.txt', bpm, folder)"
   ]
  },
  {
   "cell_type": "code",
   "execution_count": 111,
   "metadata": {
    "collapsed": false
   },
   "outputs": [
    {
     "data": {
      "text/plain": [
       "[array([[  6,   4],\n",
       "        [ -1, -10],\n",
       "        [  5,  14],\n",
       "        ..., \n",
       "        [  0,   0],\n",
       "        [  0,   0],\n",
       "        [  0,   0]], dtype=int16), 235200, 379829]"
      ]
     },
     "execution_count": 111,
     "metadata": {},
     "output_type": "execute_result"
    }
   ],
   "source": [
    "a"
   ]
  },
  {
   "cell_type": "code",
   "execution_count": 112,
   "metadata": {
    "collapsed": false
   },
   "outputs": [
    {
     "data": {
      "text/plain": [
       "[array([[ 6,  3],\n",
       "        [ 5,  4],\n",
       "        [-4, -4],\n",
       "        ..., \n",
       "        [ 0,  0],\n",
       "        [ 0,  0],\n",
       "        [ 0,  0]], dtype=int16), 235200, 336035]"
      ]
     },
     "execution_count": 112,
     "metadata": {},
     "output_type": "execute_result"
    }
   ],
   "source": [
    "b"
   ]
  },
  {
   "cell_type": "code",
   "execution_count": 113,
   "metadata": {
    "collapsed": false
   },
   "outputs": [
    {
     "data": {
      "text/plain": [
       "[array([[ 9,  5],\n",
       "        [ 2, -7],\n",
       "        [-2,  6],\n",
       "        ..., \n",
       "        [ 0,  0],\n",
       "        [ 0,  0],\n",
       "        [ 0,  0]], dtype=int16), 235200, 379829]"
      ]
     },
     "execution_count": 113,
     "metadata": {},
     "output_type": "execute_result"
    }
   ],
   "source": [
    "c"
   ]
  },
  {
   "cell_type": "code",
   "execution_count": 102,
   "metadata": {
    "collapsed": false
   },
   "outputs": [],
   "source": [
    "wav.write('wygibasy/a.wav', 44100, a[0])\n",
    "wav.write('wygibasy/b.wav', 44100, b[0])\n",
    "wav.write('wygibasy/c.wav', 44100, c[0])"
   ]
  },
  {
   "cell_type": "code",
   "execution_count": 106,
   "metadata": {
    "collapsed": false
   },
   "outputs": [
    {
     "data": {
      "text/plain": [
       "[\"Playing WAVE 'wygibasy/a.wav' : Signed 16 bit Little Endian, Rate 44100 Hz, Stereo\"]"
      ]
     },
     "execution_count": 106,
     "metadata": {},
     "output_type": "execute_result"
    }
   ],
   "source": [
    "!!aplay 'wygibasy/a.wav'"
   ]
  },
  {
   "cell_type": "code",
   "execution_count": 107,
   "metadata": {
    "collapsed": false
   },
   "outputs": [
    {
     "data": {
      "text/plain": [
       "[\"Playing WAVE 'wygibasy/b.wav' : Signed 16 bit Little Endian, Rate 44100 Hz, Stereo\"]"
      ]
     },
     "execution_count": 107,
     "metadata": {},
     "output_type": "execute_result"
    }
   ],
   "source": [
    "!!aplay 'wygibasy/b.wav'"
   ]
  },
  {
   "cell_type": "code",
   "execution_count": 108,
   "metadata": {
    "collapsed": false
   },
   "outputs": [
    {
     "data": {
      "text/plain": [
       "[\"Playing WAVE 'wygibasy/c.wav' : Signed 16 bit Little Endian, Rate 44100 Hz, Stereo\"]"
      ]
     },
     "execution_count": 108,
     "metadata": {},
     "output_type": "execute_result"
    }
   ],
   "source": [
    "!!aplay 'wygibasy/c.wav'"
   ]
  }
 ],
 "metadata": {
  "kernelspec": {
   "display_name": "Python 3",
   "language": "python",
   "name": "python3"
  },
  "language_info": {
   "codemirror_mode": {
    "name": "ipython",
    "version": 3
   },
   "file_extension": ".py",
   "mimetype": "text/x-python",
   "name": "python",
   "nbconvert_exporter": "python",
   "pygments_lexer": "ipython3",
   "version": "3.4.3"
  }
 },
 "nbformat": 4,
 "nbformat_minor": 0
}
