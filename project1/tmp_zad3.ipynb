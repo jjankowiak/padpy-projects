{
 "cells": [
  {
   "cell_type": "markdown",
   "metadata": {},
   "source": [
    "tmp"
   ]
  },
  {
   "cell_type": "code",
   "execution_count": 20,
   "metadata": {
    "collapsed": false
   },
   "outputs": [],
   "source": [
    "import pandas as pd\n",
    "import scipy.io.wavfile as wav\n",
    "import numpy as np\n",
    "from os import path"
   ]
  },
  {
   "cell_type": "code",
   "execution_count": 2,
   "metadata": {
    "collapsed": true
   },
   "outputs": [],
   "source": [
    "bpm = 120\n",
    "bps = bpm / 60"
   ]
  },
  {
   "cell_type": "code",
   "execution_count": 3,
   "metadata": {
    "collapsed": false
   },
   "outputs": [],
   "source": [
    "folder = \"wygibasy\"\n",
    "dir_to_song = path.join(folder, \"song.txt\")"
   ]
  },
  {
   "cell_type": "code",
   "execution_count": 4,
   "metadata": {
    "collapsed": false
   },
   "outputs": [
    {
     "data": {
      "text/plain": [
       "'wygibasy/song.txt'"
      ]
     },
     "execution_count": 4,
     "metadata": {},
     "output_type": "execute_result"
    }
   ],
   "source": [
    "dir_to_song"
   ]
  },
  {
   "cell_type": "code",
   "execution_count": 5,
   "metadata": {
    "collapsed": false
   },
   "outputs": [
    {
     "data": {
      "text/html": [
       "<div>\n",
       "<table border=\"1\" class=\"dataframe\">\n",
       "  <thead>\n",
       "    <tr style=\"text-align: right;\">\n",
       "      <th></th>\n",
       "      <th>0</th>\n",
       "    </tr>\n",
       "  </thead>\n",
       "  <tbody>\n",
       "    <tr>\n",
       "      <th>0</th>\n",
       "      <td>01</td>\n",
       "    </tr>\n",
       "    <tr>\n",
       "      <th>1</th>\n",
       "      <td>01</td>\n",
       "    </tr>\n",
       "    <tr>\n",
       "      <th>2</th>\n",
       "      <td>01</td>\n",
       "    </tr>\n",
       "    <tr>\n",
       "      <th>3</th>\n",
       "      <td>02</td>\n",
       "    </tr>\n",
       "    <tr>\n",
       "      <th>4</th>\n",
       "      <td>01</td>\n",
       "    </tr>\n",
       "    <tr>\n",
       "      <th>5</th>\n",
       "      <td>01</td>\n",
       "    </tr>\n",
       "    <tr>\n",
       "      <th>6</th>\n",
       "      <td>01</td>\n",
       "    </tr>\n",
       "    <tr>\n",
       "      <th>7</th>\n",
       "      <td>03</td>\n",
       "    </tr>\n",
       "  </tbody>\n",
       "</table>\n",
       "</div>"
      ],
      "text/plain": [
       "    0\n",
       "0  01\n",
       "1  01\n",
       "2  01\n",
       "3  02\n",
       "4  01\n",
       "5  01\n",
       "6  01\n",
       "7  03"
      ]
     },
     "execution_count": 5,
     "metadata": {},
     "output_type": "execute_result"
    }
   ],
   "source": [
    "song = pd.read_csv(dir_to_song, header = None, dtype = str)\n",
    "song"
   ]
  },
  {
   "cell_type": "code",
   "execution_count": 6,
   "metadata": {
    "collapsed": false
   },
   "outputs": [],
   "source": [
    "nrow_song = len(song)\n",
    "path_to_track = [None] * nrow_song\n",
    "for i in range(nrow_song):\n",
    "    name_of_track = 'track' + song.loc[i, 0] + '.txt'\n",
    "    path_to_track[i] = path.join(folder, name_of_track)"
   ]
  },
  {
   "cell_type": "code",
   "execution_count": 7,
   "metadata": {
    "collapsed": false
   },
   "outputs": [
    {
     "data": {
      "text/plain": [
       "['wygibasy/track01.txt',\n",
       " 'wygibasy/track01.txt',\n",
       " 'wygibasy/track01.txt',\n",
       " 'wygibasy/track02.txt',\n",
       " 'wygibasy/track01.txt',\n",
       " 'wygibasy/track01.txt',\n",
       " 'wygibasy/track01.txt',\n",
       " 'wygibasy/track03.txt']"
      ]
     },
     "execution_count": 7,
     "metadata": {},
     "output_type": "execute_result"
    }
   ],
   "source": [
    "path_to_track"
   ]
  },
  {
   "cell_type": "code",
   "execution_count": 8,
   "metadata": {
    "collapsed": false
   },
   "outputs": [],
   "source": [
    "#bierzemy pod lupe tylko pierwsza sciezke\n",
    "track = pd.read_csv(path_to_track[0], sep = ' ', header = None, dtype = str)"
   ]
  },
  {
   "cell_type": "code",
   "execution_count": 9,
   "metadata": {
    "collapsed": true
   },
   "outputs": [],
   "source": [
    "#wszystkie sample mają taką samą częstotliwosć próbkowania\n",
    "f = 44100"
   ]
  },
  {
   "cell_type": "code",
   "execution_count": 10,
   "metadata": {
    "collapsed": true
   },
   "outputs": [],
   "source": [
    "next_sample = f // bps"
   ]
  },
  {
   "cell_type": "code",
   "execution_count": 11,
   "metadata": {
    "collapsed": false
   },
   "outputs": [],
   "source": [
    "next_sample = int(next_sample) #tyle wierszy zajmie jedna linijka w track"
   ]
  },
  {
   "cell_type": "code",
   "execution_count": 12,
   "metadata": {
    "collapsed": false
   },
   "outputs": [
    {
     "data": {
      "text/plain": [
       "22050"
      ]
     },
     "execution_count": 12,
     "metadata": {},
     "output_type": "execute_result"
    }
   ],
   "source": [
    "next_sample"
   ]
  },
  {
   "cell_type": "code",
   "execution_count": null,
   "metadata": {
    "collapsed": true
   },
   "outputs": [],
   "source": []
  },
  {
   "cell_type": "code",
   "execution_count": null,
   "metadata": {
    "collapsed": true
   },
   "outputs": [],
   "source": []
  },
  {
   "cell_type": "code",
   "execution_count": 14,
   "metadata": {
    "collapsed": false
   },
   "outputs": [
    {
     "data": {
      "text/plain": [
       "16"
      ]
     },
     "execution_count": 14,
     "metadata": {},
     "output_type": "execute_result"
    }
   ],
   "source": [
    "nrow_track = track.shape[0]\n",
    "nrow_track"
   ]
  },
  {
   "cell_type": "code",
   "execution_count": 15,
   "metadata": {
    "collapsed": false
   },
   "outputs": [
    {
     "data": {
      "text/plain": [
       "4"
      ]
     },
     "execution_count": 15,
     "metadata": {},
     "output_type": "execute_result"
    }
   ],
   "source": [
    "ncol_track = track.shape[1]\n",
    "ncol_track"
   ]
  },
  {
   "cell_type": "code",
   "execution_count": 17,
   "metadata": {
    "collapsed": false
   },
   "outputs": [],
   "source": [
    "N = next_sample * nrow_track #+'ostatki' zeby ich nie ucinac"
   ]
  },
  {
   "cell_type": "code",
   "execution_count": 21,
   "metadata": {
    "collapsed": false
   },
   "outputs": [],
   "source": [
    "track_all = np.zeros((N, ncol_track))"
   ]
  },
  {
   "cell_type": "code",
   "execution_count": 22,
   "metadata": {
    "collapsed": false
   },
   "outputs": [
    {
     "data": {
      "text/plain": [
       "array([[ 0.,  0.,  0.,  0.],\n",
       "       [ 0.,  0.,  0.,  0.],\n",
       "       [ 0.,  0.,  0.,  0.],\n",
       "       ..., \n",
       "       [ 0.,  0.,  0.,  0.],\n",
       "       [ 0.,  0.,  0.,  0.],\n",
       "       [ 0.,  0.,  0.,  0.]])"
      ]
     },
     "execution_count": 22,
     "metadata": {},
     "output_type": "execute_result"
    }
   ],
   "source": [
    "track_all"
   ]
  },
  {
   "cell_type": "code",
   "execution_count": 41,
   "metadata": {
    "collapsed": false
   },
   "outputs": [
    {
     "name": "stderr",
     "output_type": "stream",
     "text": [
      "/usr/lib/python3/dist-packages/scipy/io/wavfile.py:172: WavFileWarning: Chunk (non-data) not understood, skipping it.\n",
      "  WavFileWarning)\n"
     ]
    }
   ],
   "source": [
    "list_of_samples = list()\n",
    "for k in range(ncol_track):\n",
    "    column_sample = track.loc[:, k]\n",
    "    #zakladam, ze w kolumnie tylko 1 ten sam sample\n",
    "    column = np.zeros((N, 2))\n",
    "    #sprawdzić, jaki numer\n",
    "    num_sample = list(set(column_sample).difference(['--']))[0]\n",
    "    sample = wav.read('wygibasy/sample' + num_sample + '.wav')\n",
    "    n = sample[1].shape[0]\n",
    "    if n > next_sample:\n",
    "        #ubezpieczamy sie na wyrost, nawet jezeli sample nie bedzie na koncu bo bedzie --\n",
    "        how_many_to_add = n - next_sample\n",
    "        column = np.zeros((N + how_many_to_add, 2))\n",
    "    for i, j in enumerate(column_sample):\n",
    "        if j != '--':\n",
    "            column[i * next_sample : i * next_sample + n, :] += sample[1]\n",
    "            #tu też powinniśmy normalizować w sumie bo jak dodajemy duzo na siebie to moze byc kicha\n",
    "    column = np.array(column, dtype = 'int16')\n",
    "    list_of_samples.append(column)"
   ]
  },
  {
   "cell_type": "code",
   "execution_count": 42,
   "metadata": {
    "collapsed": false
   },
   "outputs": [
    {
     "data": {
      "text/plain": [
       "[array([[ 13,   8],\n",
       "        [-12, -48],\n",
       "        [  8,  44],\n",
       "        ..., \n",
       "        [  0,   0],\n",
       "        [  0,   0],\n",
       "        [  0,   0]], dtype=int16), array([[0, 0],\n",
       "        [0, 0],\n",
       "        [0, 0],\n",
       "        ..., \n",
       "        [0, 0],\n",
       "        [0, 0],\n",
       "        [0, 0]], dtype=int16), array([[ 0,  0],\n",
       "        [ 0,  0],\n",
       "        [ 0,  1],\n",
       "        ..., \n",
       "        [ 4, -1],\n",
       "        [ 3,  0],\n",
       "        [ 4, -2]], dtype=int16), array([[12,  8],\n",
       "        [ 8,  8],\n",
       "        [12, 13],\n",
       "        ..., \n",
       "        [ 0,  0],\n",
       "        [ 0,  0],\n",
       "        [ 1,  0]], dtype=int16)]"
      ]
     },
     "execution_count": 42,
     "metadata": {},
     "output_type": "execute_result"
    }
   ],
   "source": [
    "list_of_samples"
   ]
  },
  {
   "cell_type": "code",
   "execution_count": 60,
   "metadata": {
    "collapsed": false
   },
   "outputs": [],
   "source": [
    "#podstawowa ilosc wierszy to N\n",
    "num_of_rows = [None] * ncol_track\n",
    "for i in range(ncol_track):\n",
    "    num_of_rows[i] = list_of_samples[i].shape[0]\n",
    "max_of_rows = max(num_of_rows)\n",
    "\n",
    "for i in range(ncol_track):\n",
    "    n = list_of_samples[i].shape[0]\n",
    "    if n != max_of_rows:\n",
    "        list_of_samples[i] = np.vstack((list_of_samples[i], np.zeros((max_of_rows - n, 2))))"
   ]
  },
  {
   "cell_type": "code",
   "execution_count": 61,
   "metadata": {
    "collapsed": false
   },
   "outputs": [
    {
     "data": {
      "text/plain": [
       "[array([[ 13.,   8.],\n",
       "        [-12., -48.],\n",
       "        [  8.,  44.],\n",
       "        ..., \n",
       "        [  0.,   0.],\n",
       "        [  0.,   0.],\n",
       "        [  0.,   0.]]), array([[ 0.,  0.],\n",
       "        [ 0.,  0.],\n",
       "        [ 0.,  0.],\n",
       "        ..., \n",
       "        [ 0.,  0.],\n",
       "        [ 0.,  0.],\n",
       "        [ 0.,  0.]]), array([[ 0,  0],\n",
       "        [ 0,  0],\n",
       "        [ 0,  1],\n",
       "        ..., \n",
       "        [ 4, -1],\n",
       "        [ 3,  0],\n",
       "        [ 4, -2]], dtype=int16), array([[ 12.,   8.],\n",
       "        [  8.,   8.],\n",
       "        [ 12.,  13.],\n",
       "        ..., \n",
       "        [  0.,   0.],\n",
       "        [  0.,   0.],\n",
       "        [  0.,   0.]])]"
      ]
     },
     "execution_count": 61,
     "metadata": {},
     "output_type": "execute_result"
    }
   ],
   "source": [
    "list_of_samples"
   ]
  },
  {
   "cell_type": "code",
   "execution_count": 64,
   "metadata": {
    "collapsed": false
   },
   "outputs": [],
   "source": [
    "sample_all = np.zeros((max_of_rows, 2))\n",
    "for i in range(len(list_of_samples)):\n",
    "    sample_all += 1/ncol_track * list_of_samples[i]"
   ]
  },
  {
   "cell_type": "code",
   "execution_count": 67,
   "metadata": {
    "collapsed": false
   },
   "outputs": [],
   "source": [
    "sample_all = np.array(sample_all, dtype = 'int16')"
   ]
  },
  {
   "cell_type": "code",
   "execution_count": 68,
   "metadata": {
    "collapsed": false
   },
   "outputs": [],
   "source": [
    "wav.write('wygibasy/track1.wav', 44100, sample_all)"
   ]
  },
  {
   "cell_type": "code",
   "execution_count": 72,
   "metadata": {
    "collapsed": false
   },
   "outputs": [
    {
     "data": {
      "text/plain": [
       "[\"Playing WAVE 'wygibasy/track1.wav' : Signed 16 bit Little Endian, Rate 44100 Hz, Stereo\"]"
      ]
     },
     "execution_count": 72,
     "metadata": {},
     "output_type": "execute_result"
    }
   ],
   "source": [
    "!!aplay 'wygibasy/track1.wav'"
   ]
  },
  {
   "cell_type": "code",
   "execution_count": null,
   "metadata": {
    "collapsed": true
   },
   "outputs": [],
   "source": []
  }
 ],
 "metadata": {
  "kernelspec": {
   "display_name": "Python 3",
   "language": "python",
   "name": "python3"
  },
  "language_info": {
   "codemirror_mode": {
    "name": "ipython",
    "version": 3
   },
   "file_extension": ".py",
   "mimetype": "text/x-python",
   "name": "python",
   "nbconvert_exporter": "python",
   "pygments_lexer": "ipython3",
   "version": "3.4.3"
  }
 },
 "nbformat": 4,
 "nbformat_minor": 0
}
