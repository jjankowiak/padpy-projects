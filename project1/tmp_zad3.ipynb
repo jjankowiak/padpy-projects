{
 "cells": [
  {
   "cell_type": "markdown",
   "metadata": {},
   "source": [
    "tmp"
   ]
  },
  {
   "cell_type": "code",
   "execution_count": 1,
   "metadata": {
    "collapsed": false
   },
   "outputs": [],
   "source": [
    "import pandas as pd\n",
    "import scipy.io.wavfile as wav\n",
    "import numpy as np\n",
    "from os import path"
   ]
  },
  {
   "cell_type": "code",
   "execution_count": 56,
   "metadata": {
    "collapsed": true
   },
   "outputs": [],
   "source": [
    "folder = 'wygibasy'\n",
    "bpm = 180"
   ]
  },
  {
   "cell_type": "code",
   "execution_count": 52,
   "metadata": {
    "collapsed": false
   },
   "outputs": [
    {
     "name": "stderr",
     "output_type": "stream",
     "text": [
      "/usr/lib/python3/dist-packages/scipy/io/wavfile.py:172: WavFileWarning: Chunk (non-data) not understood, skipping it.\n",
      "  WavFileWarning)\n"
     ]
    }
   ],
   "source": [
    "piosenka = create_song(bpm, folder)"
   ]
  },
  {
   "cell_type": "code",
   "execution_count": 53,
   "metadata": {
    "collapsed": false
   },
   "outputs": [
    {
     "data": {
      "text/plain": [
       "array([[ 3,  2],\n",
       "       [ 0, -5],\n",
       "       [ 2,  7],\n",
       "       ..., \n",
       "       [ 0,  0],\n",
       "       [ 0,  0],\n",
       "       [ 0,  0]], dtype=int16)"
      ]
     },
     "execution_count": 53,
     "metadata": {},
     "output_type": "execute_result"
    }
   ],
   "source": [
    "piosenka"
   ]
  },
  {
   "cell_type": "code",
   "execution_count": 54,
   "metadata": {
    "collapsed": true
   },
   "outputs": [],
   "source": [
    "wav.write('wygibasy/piosenka2.wav', 44100, piosenka)"
   ]
  },
  {
   "cell_type": "code",
   "execution_count": 55,
   "metadata": {
    "collapsed": false
   },
   "outputs": [
    {
     "data": {
      "text/plain": [
       "[\"Playing WAVE 'wygibasy/piosenka2.wav' : Signed 16 bit Little Endian, Rate 44100 Hz, Stereo\"]"
      ]
     },
     "execution_count": 55,
     "metadata": {},
     "output_type": "execute_result"
    }
   ],
   "source": [
    "!!aplay 'wygibasy/piosenka2.wav'"
   ]
  },
  {
   "cell_type": "code",
   "execution_count": 66,
   "metadata": {
    "collapsed": false
   },
   "outputs": [],
   "source": [
    "defs = pd.read_json('wygibasy/defs.txt', typ = 'series')"
   ]
  },
  {
   "cell_type": "code",
   "execution_count": 67,
   "metadata": {
    "collapsed": false
   },
   "outputs": [
    {
     "data": {
      "text/plain": [
       "bpm    120\n",
       "dtype: int64"
      ]
     },
     "execution_count": 67,
     "metadata": {},
     "output_type": "execute_result"
    }
   ],
   "source": [
    "defs"
   ]
  },
  {
   "cell_type": "code",
   "execution_count": 68,
   "metadata": {
    "collapsed": false
   },
   "outputs": [
    {
     "data": {
      "text/plain": [
       "120"
      ]
     },
     "execution_count": 68,
     "metadata": {},
     "output_type": "execute_result"
    }
   ],
   "source": [
    "defs['bpm']"
   ]
  },
  {
   "cell_type": "code",
   "execution_count": 69,
   "metadata": {
    "collapsed": false
   },
   "outputs": [
    {
     "ename": "KeyError",
     "evalue": "'dupa'",
     "output_type": "error",
     "traceback": [
      "\u001b[1;31m---------------------------------------------------------------------------\u001b[0m",
      "\u001b[1;31mTypeError\u001b[0m                                 Traceback (most recent call last)",
      "\u001b[1;32m/usr/local/lib/python3.4/dist-packages/pandas/core/index.py\u001b[0m in \u001b[0;36mget_value\u001b[1;34m(self, series, key)\u001b[0m\n\u001b[0;32m   1728\u001b[0m             \u001b[1;32mtry\u001b[0m\u001b[1;33m:\u001b[0m\u001b[1;33m\u001b[0m\u001b[0m\n\u001b[1;32m-> 1729\u001b[1;33m                 \u001b[1;32mreturn\u001b[0m \u001b[0mtslib\u001b[0m\u001b[1;33m.\u001b[0m\u001b[0mget_value_box\u001b[0m\u001b[1;33m(\u001b[0m\u001b[0ms\u001b[0m\u001b[1;33m,\u001b[0m \u001b[0mkey\u001b[0m\u001b[1;33m)\u001b[0m\u001b[1;33m\u001b[0m\u001b[0m\n\u001b[0m\u001b[0;32m   1730\u001b[0m             \u001b[1;32mexcept\u001b[0m \u001b[0mIndexError\u001b[0m\u001b[1;33m:\u001b[0m\u001b[1;33m\u001b[0m\u001b[0m\n",
      "\u001b[1;32mpandas/tslib.pyx\u001b[0m in \u001b[0;36mpandas.tslib.get_value_box (pandas/tslib.c:16156)\u001b[1;34m()\u001b[0m\n",
      "\u001b[1;32mpandas/tslib.pyx\u001b[0m in \u001b[0;36mpandas.tslib.get_value_box (pandas/tslib.c:15824)\u001b[1;34m()\u001b[0m\n",
      "\u001b[1;31mTypeError\u001b[0m: 'str' object cannot be interpreted as an integer",
      "\nDuring handling of the above exception, another exception occurred:\n",
      "\u001b[1;31mKeyError\u001b[0m                                  Traceback (most recent call last)",
      "\u001b[1;32m<ipython-input-69-b2324d3ffff6>\u001b[0m in \u001b[0;36m<module>\u001b[1;34m()\u001b[0m\n\u001b[1;32m----> 1\u001b[1;33m \u001b[0mdefs\u001b[0m\u001b[1;33m[\u001b[0m\u001b[1;34m'dupa'\u001b[0m\u001b[1;33m]\u001b[0m\u001b[1;33m\u001b[0m\u001b[0m\n\u001b[0m",
      "\u001b[1;32m/usr/local/lib/python3.4/dist-packages/pandas/core/series.py\u001b[0m in \u001b[0;36m__getitem__\u001b[1;34m(self, key)\u001b[0m\n\u001b[0;32m    549\u001b[0m     \u001b[1;32mdef\u001b[0m \u001b[0m__getitem__\u001b[0m\u001b[1;33m(\u001b[0m\u001b[0mself\u001b[0m\u001b[1;33m,\u001b[0m \u001b[0mkey\u001b[0m\u001b[1;33m)\u001b[0m\u001b[1;33m:\u001b[0m\u001b[1;33m\u001b[0m\u001b[0m\n\u001b[0;32m    550\u001b[0m         \u001b[1;32mtry\u001b[0m\u001b[1;33m:\u001b[0m\u001b[1;33m\u001b[0m\u001b[0m\n\u001b[1;32m--> 551\u001b[1;33m             \u001b[0mresult\u001b[0m \u001b[1;33m=\u001b[0m \u001b[0mself\u001b[0m\u001b[1;33m.\u001b[0m\u001b[0mindex\u001b[0m\u001b[1;33m.\u001b[0m\u001b[0mget_value\u001b[0m\u001b[1;33m(\u001b[0m\u001b[0mself\u001b[0m\u001b[1;33m,\u001b[0m \u001b[0mkey\u001b[0m\u001b[1;33m)\u001b[0m\u001b[1;33m\u001b[0m\u001b[0m\n\u001b[0m\u001b[0;32m    552\u001b[0m \u001b[1;33m\u001b[0m\u001b[0m\n\u001b[0;32m    553\u001b[0m             \u001b[1;32mif\u001b[0m \u001b[1;32mnot\u001b[0m \u001b[0mnp\u001b[0m\u001b[1;33m.\u001b[0m\u001b[0misscalar\u001b[0m\u001b[1;33m(\u001b[0m\u001b[0mresult\u001b[0m\u001b[1;33m)\u001b[0m\u001b[1;33m:\u001b[0m\u001b[1;33m\u001b[0m\u001b[0m\n",
      "\u001b[1;32m/usr/local/lib/python3.4/dist-packages/pandas/core/index.py\u001b[0m in \u001b[0;36mget_value\u001b[1;34m(self, series, key)\u001b[0m\n\u001b[0;32m   1735\u001b[0m                     \u001b[1;32mraise\u001b[0m \u001b[0mInvalidIndexError\u001b[0m\u001b[1;33m(\u001b[0m\u001b[0mkey\u001b[0m\u001b[1;33m)\u001b[0m\u001b[1;33m\u001b[0m\u001b[0m\n\u001b[0;32m   1736\u001b[0m                 \u001b[1;32melse\u001b[0m\u001b[1;33m:\u001b[0m\u001b[1;33m\u001b[0m\u001b[0m\n\u001b[1;32m-> 1737\u001b[1;33m                     \u001b[1;32mraise\u001b[0m \u001b[0me1\u001b[0m\u001b[1;33m\u001b[0m\u001b[0m\n\u001b[0m\u001b[0;32m   1738\u001b[0m             \u001b[1;32mexcept\u001b[0m \u001b[0mException\u001b[0m\u001b[1;33m:\u001b[0m  \u001b[1;31m# pragma: no cover\u001b[0m\u001b[1;33m\u001b[0m\u001b[0m\n\u001b[0;32m   1739\u001b[0m                 \u001b[1;32mraise\u001b[0m \u001b[0me1\u001b[0m\u001b[1;33m\u001b[0m\u001b[0m\n",
      "\u001b[1;32m/usr/local/lib/python3.4/dist-packages/pandas/core/index.py\u001b[0m in \u001b[0;36mget_value\u001b[1;34m(self, series, key)\u001b[0m\n\u001b[0;32m   1721\u001b[0m \u001b[1;33m\u001b[0m\u001b[0m\n\u001b[0;32m   1722\u001b[0m         \u001b[1;32mtry\u001b[0m\u001b[1;33m:\u001b[0m\u001b[1;33m\u001b[0m\u001b[0m\n\u001b[1;32m-> 1723\u001b[1;33m             \u001b[1;32mreturn\u001b[0m \u001b[0mself\u001b[0m\u001b[1;33m.\u001b[0m\u001b[0m_engine\u001b[0m\u001b[1;33m.\u001b[0m\u001b[0mget_value\u001b[0m\u001b[1;33m(\u001b[0m\u001b[0ms\u001b[0m\u001b[1;33m,\u001b[0m \u001b[0mk\u001b[0m\u001b[1;33m)\u001b[0m\u001b[1;33m\u001b[0m\u001b[0m\n\u001b[0m\u001b[0;32m   1724\u001b[0m         \u001b[1;32mexcept\u001b[0m \u001b[0mKeyError\u001b[0m \u001b[1;32mas\u001b[0m \u001b[0me1\u001b[0m\u001b[1;33m:\u001b[0m\u001b[1;33m\u001b[0m\u001b[0m\n\u001b[0;32m   1725\u001b[0m             \u001b[1;32mif\u001b[0m \u001b[0mlen\u001b[0m\u001b[1;33m(\u001b[0m\u001b[0mself\u001b[0m\u001b[1;33m)\u001b[0m \u001b[1;33m>\u001b[0m \u001b[1;36m0\u001b[0m \u001b[1;32mand\u001b[0m \u001b[0mself\u001b[0m\u001b[1;33m.\u001b[0m\u001b[0minferred_type\u001b[0m \u001b[1;32min\u001b[0m \u001b[1;33m[\u001b[0m\u001b[1;34m'integer'\u001b[0m\u001b[1;33m,\u001b[0m\u001b[1;34m'boolean'\u001b[0m\u001b[1;33m]\u001b[0m\u001b[1;33m:\u001b[0m\u001b[1;33m\u001b[0m\u001b[0m\n",
      "\u001b[1;32mpandas/index.pyx\u001b[0m in \u001b[0;36mpandas.index.IndexEngine.get_value (pandas/index.c:3204)\u001b[1;34m()\u001b[0m\n",
      "\u001b[1;32mpandas/index.pyx\u001b[0m in \u001b[0;36mpandas.index.IndexEngine.get_value (pandas/index.c:2903)\u001b[1;34m()\u001b[0m\n",
      "\u001b[1;32mpandas/index.pyx\u001b[0m in \u001b[0;36mpandas.index.IndexEngine.get_loc (pandas/index.c:3843)\u001b[1;34m()\u001b[0m\n",
      "\u001b[1;32mpandas/hashtable.pyx\u001b[0m in \u001b[0;36mpandas.hashtable.PyObjectHashTable.get_item (pandas/hashtable.c:12265)\u001b[1;34m()\u001b[0m\n",
      "\u001b[1;32mpandas/hashtable.pyx\u001b[0m in \u001b[0;36mpandas.hashtable.PyObjectHashTable.get_item (pandas/hashtable.c:12216)\u001b[1;34m()\u001b[0m\n",
      "\u001b[1;31mKeyError\u001b[0m: 'dupa'"
     ]
    }
   ],
   "source": [
    "defs['dupa']"
   ]
  },
  {
   "cell_type": "code",
   "execution_count": 64,
   "metadata": {
    "collapsed": false
   },
   "outputs": [
    {
     "data": {
      "text/plain": [
       "pandas.core.series.Series"
      ]
     },
     "execution_count": 64,
     "metadata": {},
     "output_type": "execute_result"
    }
   ],
   "source": [
    "type(defs)"
   ]
  },
  {
   "cell_type": "code",
   "execution_count": 3,
   "metadata": {
    "collapsed": true
   },
   "outputs": [],
   "source": [
    "def concatenate_one_type_of_sample(column_of_track, length_of_column, folder, next_sample):\n",
    "    column = np.zeros((length_of_column, 2))\n",
    "    # check the number of sample\n",
    "    num_of_sample = list(set(column_of_track).difference(['--']))[0]\n",
    "    sample = wav.read(path.join(folder, 'sample' + num_of_sample + '.wav'))\n",
    "    # number of bits in the sample\n",
    "    n = sample[1].shape[0]\n",
    "    # if length of sample is bigger than number of sounds (?) per bit we add more columns at the end of array\n",
    "    if n > next_sample:\n",
    "        how_many_to_add = n - next_sample\n",
    "        column = np.zeros((length_of_column + how_many_to_add, 2))\n",
    "    # concatenate sample and 'empty sounds' in order\n",
    "    for i, j in enumerate(column_of_track):\n",
    "        if j != '--':\n",
    "            column[i * next_sample : i * next_sample + n, :] += sample[1]\n",
    "    column = np.array(column, dtype = 'int16')\n",
    "    return column"
   ]
  },
  {
   "cell_type": "code",
   "execution_count": 4,
   "metadata": {
    "collapsed": true
   },
   "outputs": [],
   "source": [
    "def concatenate_all_samples_in_track(track, bpm, folder):\n",
    "    nrow_track = track.shape[0]\n",
    "    ncol_track = track.shape[1]\n",
    "    # bit per second\n",
    "    bps = bpm / 60\n",
    "    # all samples have the same sample rate\n",
    "    f = 44100\n",
    "    next_sample = int(f // bps)\n",
    "    N = next_sample * nrow_track\n",
    "    list_of_samples = list()\n",
    "    for k in range(ncol_track):\n",
    "        column_of_track = track.loc[:, k]\n",
    "        column = concatenate_one_type_of_sample(column_of_track, N, folder, next_sample)\n",
    "        list_of_samples.append(column)\n",
    "    return [N, list_of_samples]"
   ]
  },
  {
   "cell_type": "code",
   "execution_count": 5,
   "metadata": {
    "collapsed": false
   },
   "outputs": [],
   "source": [
    "def merge_all_concatenated_samples(list_of_samples):\n",
    "    k = len(list_of_samples)\n",
    "    # look for maximum number of rows in all samples\n",
    "    num_of_rows = [None] * k\n",
    "    for i in range(k):\n",
    "        num_of_rows[i] = list_of_samples[i].shape[0]\n",
    "    max_of_rows = max(num_of_rows)                 \n",
    "    # append all arrays with zeros to have the same shape\n",
    "    for i in range(k):             \n",
    "        n = list_of_samples[i].shape[0]\n",
    "        if n != max_of_rows:\n",
    "            list_of_samples[i] = np.vstack((list_of_samples[i], np.zeros((max_of_rows - n, 2))))  \n",
    "    #mix all sample into one array (average)\n",
    "    sample_all = np.zeros((max_of_rows, 2))\n",
    "    for i in range(k):\n",
    "        sample_all += 1/k * list_of_samples[i]\n",
    "    sample_all = np.array(sample_all, dtype = 'int16')\n",
    "    return sample_all"
   ]
  },
  {
   "cell_type": "code",
   "execution_count": 6,
   "metadata": {
    "collapsed": false
   },
   "outputs": [],
   "source": [
    "def create_track(track_name, bmp, folder):\n",
    "    path_to_track = path.join(folder, track_name)\n",
    "    track = pd.read_csv(path_to_track, sep = ' ', header = None, dtype = str)\n",
    "    raw_num_of_rows_and_list_of_samples = concatenate_all_samples_in_track(track, bpm, folder)\n",
    "    raw_num_of_rows = raw_num_of_rows_and_list_of_samples[0]\n",
    "    track_array = merge_all_concatenated_samples(raw_num_of_rows_and_list_of_samples[1])\n",
    "    true_num_of_rows = track_array.shape[0]\n",
    "    return [track_array, raw_num_of_rows, true_num_of_rows]"
   ]
  },
  {
   "cell_type": "code",
   "execution_count": 7,
   "metadata": {
    "collapsed": true
   },
   "outputs": [],
   "source": [
    "def take_track_names(folder):\n",
    "    dir_to_song = path.join(folder, \"song.txt\")\n",
    "    song = pd.read_csv(dir_to_song, header = None, dtype = str)\n",
    "    # all unique tracks used in the song\n",
    "    track_numbers = list(set(song.loc[:, 0]))\n",
    "    num_of_tracks = len(track_numbers)\n",
    "    name_of_track = [None] * num_of_tracks\n",
    "    for i in range(num_of_tracks):\n",
    "        name_of_track[i] = 'track' + track_numbers[i] + '.txt'\n",
    "    return name_of_track"
   ]
  },
  {
   "cell_type": "code",
   "execution_count": 8,
   "metadata": {
    "collapsed": false
   },
   "outputs": [],
   "source": [
    "def create_all_track(bpm, folder):\n",
    "    name_of_track = take_track_names(folder)\n",
    "    # unique tracks\n",
    "    num_of_tracks = len(name_of_track)\n",
    "    dict_of_tracks = {}\n",
    "    for i in range(num_of_tracks):\n",
    "        dict_of_tracks[name_of_track[i]] = create_track(name_of_track[i], bpm, folder)\n",
    "    return dict_of_tracks"
   ]
  },
  {
   "cell_type": "code",
   "execution_count": 36,
   "metadata": {
    "collapsed": false
   },
   "outputs": [],
   "source": [
    "def create_song(bpm, folder):\n",
    "    dict_of_tracks = create_all_track(bpm, folder)\n",
    "    dir_to_song = path.join(folder, \"song.txt\")\n",
    "    song = pd.read_csv(dir_to_song, header = None, dtype = str)\n",
    "    # all tracks used in the song in the order\n",
    "    track_names = 'track' + song.loc[:, 0] + '.txt'\n",
    "    # the length of the song = sum of raw length of every track + eventually additional ending of the last track\n",
    "    length_of_song = 0\n",
    "    for i, j in enumerate(track_names):\n",
    "        if i != len(track_names) - 1:\n",
    "            length_of_song += dict_of_tracks[j][1]\n",
    "        else:\n",
    "            length_of_song += dict_of_tracks[j][2]\n",
    "    song = np.zeros((length_of_song, 2))\n",
    "    for i, j in enumerate(track_names):\n",
    "        if i == 0:\n",
    "            where_to_start = 0\n",
    "            raw_length_of_track = dict_of_tracks[j][1]\n",
    "            true_length_of_track = dict_of_tracks[j][2]\n",
    "            song[where_to_start:true_length_of_track, :] += 0.5 * dict_of_tracks[j][0]\n",
    "            where_to_start += raw_length_of_track \n",
    "        else:\n",
    "            raw_length_of_track_new = dict_of_tracks[j][1]\n",
    "            true_length_of_track_new = dict_of_tracks[j][2]\n",
    "            song[where_to_start:(where_to_start + true_length_of_track_new), :] += 0.5 * dict_of_tracks[j][0]\n",
    "            where_to_start += raw_length_of_track_new\n",
    "    song = np.array(song, dtype = 'int16')\n",
    "    return song"
   ]
  },
  {
   "cell_type": "code",
   "execution_count": 76,
   "metadata": {
    "collapsed": false
   },
   "outputs": [],
   "source": [
    "def read_defs(folder):\n",
    "    defs = pd.read_json(path.join(folder, 'defs.txt'), typ = 'series')\n",
    "    return defs\n",
    "    \n",
    "defs = read_defs(folder)\n",
    "\n",
    "bpm = defs['bpm']"
   ]
  },
  {
   "cell_type": "code",
   "execution_count": 77,
   "metadata": {
    "collapsed": false
   },
   "outputs": [
    {
     "data": {
      "text/plain": [
       "150"
      ]
     },
     "execution_count": 77,
     "metadata": {},
     "output_type": "execute_result"
    }
   ],
   "source": [
    "bpm"
   ]
  },
  {
   "cell_type": "code",
   "execution_count": 15,
   "metadata": {
    "collapsed": false
   },
   "outputs": [
    {
     "data": {
      "text/plain": [
       "[\"Playing WAVE '/var/tmp/test.wav' : Signed 16 bit Little Endian, Rate 44100 Hz, Mono\"]"
      ]
     },
     "execution_count": 15,
     "metadata": {},
     "output_type": "execute_result"
    }
   ],
   "source": [
    "import numpy as np\n",
    "f = 440 # Hz\n",
    "T = 1 # s\n",
    "fs = 44100 # Hz, sampling frequency\n",
    "S = pow(2, 1/12)\n",
    "t = np.linspace(0, T, T*fs)\n",
    "y_A4 = np.sin(2*np.pi*f*t)\n",
    "y_C5 = np.sin(2*np.pi*f*(S**3)*t)\n",
    "y_E5 = np.sin(2*np.pi*f*(S**7)*t)\n",
    "# y = np.r_[y_A4, y_C5, y_E5]\n",
    "y = y_A4+y_C5+y_E5\n",
    "\n",
    "import scipy.io.wavfile\n",
    "scipy.io.wavfile.write('/var/tmp/test.wav',\n",
    "                       fs,\n",
    "                       np.int16(y/max(np.abs(y))*32767))\n",
    "!!aplay /var/tmp/test.wav"
   ]
  },
  {
   "cell_type": "code",
   "execution_count": 16,
   "metadata": {
    "collapsed": false
   },
   "outputs": [
    {
     "data": {
      "text/plain": [
       "44100"
      ]
     },
     "execution_count": 16,
     "metadata": {},
     "output_type": "execute_result"
    }
   ],
   "source": [
    "len(t)"
   ]
  },
  {
   "cell_type": "code",
   "execution_count": 11,
   "metadata": {
    "collapsed": false
   },
   "outputs": [],
   "source": [
    "def create_frequency(note_string):\n",
    "    letter = note_string[0]\n",
    "    sharp = note_string[1]\n",
    "    number = int(note_string[2])\n",
    "    f_basic = 440\n",
    "    S = 2 ** (1 / 12)\n",
    "    # dictionary with powers\n",
    "    dict_of_sound = {'A': 0, 'B': 2, 'C' : 3, 'D' : 5, 'E' : 7, 'F' : 8, 'G' : 10}\n",
    "    f = f_basic * (S ** dict_of_sound[letter])\n",
    "    if sharp == '#':\n",
    "        f *= S\n",
    "    diff_number = number - 4\n",
    "    f *= 2 ** diff_number\n",
    "    return f "
   ]
  },
  {
   "cell_type": "code",
   "execution_count": 14,
   "metadata": {
    "collapsed": false
   },
   "outputs": [
    {
     "data": {
      "text/plain": [
       "987.7666025122483"
      ]
     },
     "execution_count": 14,
     "metadata": {},
     "output_type": "execute_result"
    }
   ],
   "source": [
    "create_frequency('B-5')"
   ]
  },
  {
   "cell_type": "code",
   "execution_count": 23,
   "metadata": {
    "collapsed": false
   },
   "outputs": [
    {
     "data": {
      "text/plain": [
       "array([ 0.        ,  0.23092505,  0.46036327, ...,  1.85278018,\n",
       "        1.93316752,  1.99945861])"
      ]
     },
     "execution_count": 23,
     "metadata": {},
     "output_type": "execute_result"
    }
   ],
   "source": [
    "np.array(y)"
   ]
  },
  {
   "cell_type": "code",
   "execution_count": 24,
   "metadata": {
    "collapsed": false
   },
   "outputs": [
    {
     "ename": "AttributeError",
     "evalue": "'numpy.ndarray' object has no attribute 'vstack'",
     "output_type": "error",
     "traceback": [
      "\u001b[1;31m---------------------------------------------------------------------------\u001b[0m",
      "\u001b[1;31mAttributeError\u001b[0m                            Traceback (most recent call last)",
      "\u001b[1;32m<ipython-input-24-f81b44315b57>\u001b[0m in \u001b[0;36m<module>\u001b[1;34m()\u001b[0m\n\u001b[1;32m----> 1\u001b[1;33m \u001b[0my\u001b[0m\u001b[1;33m.\u001b[0m\u001b[0mvstack\u001b[0m\u001b[1;33m(\u001b[0m\u001b[0my\u001b[0m\u001b[1;33m)\u001b[0m\u001b[1;33m\u001b[0m\u001b[0m\n\u001b[0m",
      "\u001b[1;31mAttributeError\u001b[0m: 'numpy.ndarray' object has no attribute 'vstack'"
     ]
    }
   ],
   "source": [
    "y.vstack(y)"
   ]
  },
  {
   "cell_type": "code",
   "execution_count": 28,
   "metadata": {
    "collapsed": false
   },
   "outputs": [
    {
     "data": {
      "text/plain": [
       "array([[ 0.        ,  0.        ],\n",
       "       [ 0.23092505,  0.23092505],\n",
       "       [ 0.46036327,  0.46036327],\n",
       "       ..., \n",
       "       [ 1.85278018,  1.85278018],\n",
       "       [ 1.93316752,  1.93316752],\n",
       "       [ 1.99945861,  1.99945861]])"
      ]
     },
     "execution_count": 28,
     "metadata": {},
     "output_type": "execute_result"
    }
   ],
   "source": [
    "np.transpose(np.vstack((y, y)))"
   ]
  },
  {
   "cell_type": "code",
   "execution_count": 34,
   "metadata": {
    "collapsed": false
   },
   "outputs": [],
   "source": [
    "f = create_frequency('A-4')\n",
    "#do 1?\n",
    "t = np.linspace(0, 1, 22050)\n",
    "y = np.sin(2 * np.pi * f * t)\n",
    "y = np.int16(y / max(np.abs(y)) * 32767)\n",
    "sample = np.transpose(np.vstack((y, y)))"
   ]
  },
  {
   "cell_type": "code",
   "execution_count": 35,
   "metadata": {
    "collapsed": false
   },
   "outputs": [
    {
     "data": {
      "text/plain": [
       "array([[    0,     0],\n",
       "       [ 4097,  4097],\n",
       "       [ 8131,  8131],\n",
       "       ..., \n",
       "       [-8131, -8131],\n",
       "       [-4097, -4097],\n",
       "       [    0,     0]], dtype=int16)"
      ]
     },
     "execution_count": 35,
     "metadata": {},
     "output_type": "execute_result"
    }
   ],
   "source": [
    "sample"
   ]
  },
  {
   "cell_type": "code",
   "execution_count": 39,
   "metadata": {
    "collapsed": false
   },
   "outputs": [
    {
     "data": {
      "text/plain": [
       "[\"Playing WAVE '/var/tmp/test.wav' : Signed 16 bit Little Endian, Rate 44100 Hz, Stereo\"]"
      ]
     },
     "execution_count": 39,
     "metadata": {},
     "output_type": "execute_result"
    }
   ],
   "source": [
    "scipy.io.wavfile.write('/var/tmp/test.wav',\n",
    "                       44100,\n",
    "                       sample)\n",
    "!!aplay /var/tmp/test.wav"
   ]
  },
  {
   "cell_type": "code",
   "execution_count": null,
   "metadata": {
    "collapsed": true
   },
   "outputs": [],
   "source": []
  }
 ],
 "metadata": {
  "kernelspec": {
   "display_name": "Python 3",
   "language": "python",
   "name": "python3"
  },
  "language_info": {
   "codemirror_mode": {
    "name": "ipython",
    "version": 3
   },
   "file_extension": ".py",
   "mimetype": "text/x-python",
   "name": "python",
   "nbconvert_exporter": "python",
   "pygments_lexer": "ipython3",
   "version": "3.4.3"
  }
 },
 "nbformat": 4,
 "nbformat_minor": 0
}
