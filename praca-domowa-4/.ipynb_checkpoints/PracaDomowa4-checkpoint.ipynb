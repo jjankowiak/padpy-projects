{
 "cells": [
  {
   "cell_type": "markdown",
   "metadata": {},
   "source": [
    "# Praca domowa nr 4\n",
    "## Justyna Jankowiak"
   ]
  },
  {
   "cell_type": "markdown",
   "metadata": {},
   "source": [
    "## Informacje o danych\n",
    "\n",
    "#### Pobrane kolumny:\n",
    "\n",
    "* DayOfWeek\t- Day of Week\n",
    "* FlightDate - Flight Date (yyyymmdd)\n",
    "* AirlineID\t- An identification number assigned by US DOT to identify a unique airline (carrier).\n",
    "* OriginAirportID - Origin Airport, Airport ID. An identification number assigned by US DOT to identify a unique airport.\n",
    "* Origin - Origin Airport\n",
    "* OriginCityName - Origin Airport, City Name\t\t \n",
    "* OriginState - Origin Airport, State Code\n",
    "* DestAirportID\t- Destination Airport, Airport ID. An identification number assigned by US DOT to identify a unique airport.\n",
    "* Dest - Destination Airport\n",
    "* DestCityName - Destination Airport, City Name\t\t \n",
    "* DestState - Destination Airport, State Code\n",
    "* CRSDepTime - CRS Departure Time (local time: hhmm)\t\t \n",
    "* DepTime - Actual Departure Time (local time: hhmm)\t\t \n",
    "* DepDelay - Difference in minutes between scheduled and actual departure time. Early departures show negative numbers.\n",
    "* DepartureDelayGroups - Departure Delay intervals, every (15 minutes from <-15 to >180)\n",
    "* CRSArrTime - CRS Arrival Time (local time: hhmm)\t\t \n",
    "* ArrTime - Actual Arrival Time (local time: hhmm)\t\t \n",
    "* ArrDelay - Difference in minutes between scheduled and actual arrival time. Early arrivals show negative numbers.\n",
    "* ArrivalDelayGroups - Arrival Delay intervals, every (15-minutes from <-15 to >180)\n",
    "* Cancelled\t- Cancelled Flight Indicator (1=Yes)\n",
    "* CancellationCode - Specifies The Reason For Cancellation\n",
    "* Diverted - Diverted Flight Indicator (1=Yes)\t\t\n",
    "* Distance - Distance between airports (miles)\n",
    "* CarrierDelay\tCarrier Delay, in Minutes\t\t \n",
    "* WeatherDelay\tWeather Delay, in Minutes\t\t \n",
    "* NASDelay\tNational Air System Delay, in Minutes\t\t \n",
    "* SecurityDelay\tSecurity Delay, in Minutes\t\t \n",
    "* LateAircraftDelay\tLate Aircraft Delay, in Minutes\n",
    "\n",
    "#### Okres, z którego pochodzą dane\n",
    "\n",
    "* 960271134_T_ONTIME_2005 - styczeń 2005\n",
    "* 960271134_T_ONTIME_2015 - styczeń 2015\n",
    "\n",
    "#### Tabele pomocnicze\n",
    "\n",
    "* L_WEEKDAYS - DayOfWeek\n",
    "* L_AIRLINE_ID - AirlineID\n",
    "* L_AIRPORT_ID - OriginAirportID\n",
    "* L_AIRPORT - Origin\n",
    "* L_STATE_ABR_AVIATION - OriginState\n",
    "* L_ONTIME_DELAY_GRUOPS - DepartureDelayGroups\n",
    "* L_CANLELLATION - CancellationCode\n",
    "\n",
    "## Analiza\n",
    "### Wczytanie odpowiednich bibliotek"
   ]
  },
  {
   "cell_type": "code",
   "execution_count": 1,
   "metadata": {
    "collapsed": false
   },
   "outputs": [],
   "source": [
    "import numpy as np\n",
    "import pandas as pd\n",
    "import seaborn as sns\n",
    "%matplotlib inline\n",
    "import matplotlib.pyplot as plt"
   ]
  },
  {
   "cell_type": "markdown",
   "metadata": {},
   "source": [
    "### Wczytanie danych"
   ]
  },
  {
   "cell_type": "code",
   "execution_count": 2,
   "metadata": {
    "collapsed": false
   },
   "outputs": [],
   "source": [
    "#podstawowe dane\n",
    "dane2005 = pd.read_csv(\"960271134_T_ONTIME_2005.csv\")\n",
    "dane2015 = pd.read_csv(\"960271134_T_ONTIME_2015.csv\")\n",
    "\n",
    "#tabele pomocnicze\n",
    "weekdays = pd.read_csv(\"L_WEEKDAYS.csv\")\n",
    "airline_id = pd.read_csv(\"L_AIRLINE_ID.csv\")\n",
    "airport_id = pd.read_csv(\"L_AIRPORT_ID.csv\")\n",
    "airport = pd.read_csv(\"L_AIRPORT.csv\")\n",
    "states = pd.read_csv(\"L_STATE_ABR_AVIATION.csv\")\n",
    "delay = pd.read_csv(\"L_ONTIME_DELAY_GROUPS.csv\")\n",
    "cancel = pd.read_csv(\"L_CANCELLATION.csv\")"
   ]
  },
  {
   "cell_type": "markdown",
   "metadata": {},
   "source": [
    "### Próbka danych\n",
    "Dane z 2005 i 2015 roku wyglądają identycznie, różnią się tylko tym, że są z różnego okresu. Czasami będę analizowć tylko jeden zbiór a czasami oba, gdy będę chciała porównać zmianę danego czynnika/wartości w czasie."
   ]
  },
  {
   "cell_type": "code",
   "execution_count": 3,
   "metadata": {
    "collapsed": false
   },
   "outputs": [
    {
     "data": {
      "text/html": [
       "<div>\n",
       "<table border=\"1\" class=\"dataframe\">\n",
       "  <thead>\n",
       "    <tr style=\"text-align: right;\">\n",
       "      <th></th>\n",
       "      <th>DAY_OF_WEEK</th>\n",
       "      <th>FL_DATE</th>\n",
       "      <th>AIRLINE_ID</th>\n",
       "      <th>ORIGIN_AIRPORT_ID</th>\n",
       "      <th>ORIGIN</th>\n",
       "      <th>ORIGIN_CITY_NAME</th>\n",
       "      <th>ORIGIN_STATE_ABR</th>\n",
       "      <th>DEST_AIRPORT_ID</th>\n",
       "      <th>DEST</th>\n",
       "      <th>DEST_CITY_NAME</th>\n",
       "      <th>...</th>\n",
       "      <th>CANCELLED</th>\n",
       "      <th>CANCELLATION_CODE</th>\n",
       "      <th>DIVERTED</th>\n",
       "      <th>DISTANCE</th>\n",
       "      <th>CARRIER_DELAY</th>\n",
       "      <th>WEATHER_DELAY</th>\n",
       "      <th>NAS_DELAY</th>\n",
       "      <th>SECURITY_DELAY</th>\n",
       "      <th>LATE_AIRCRAFT_DELAY</th>\n",
       "      <th>Unnamed: 28</th>\n",
       "    </tr>\n",
       "  </thead>\n",
       "  <tbody>\n",
       "    <tr>\n",
       "      <th>0</th>\n",
       "      <td>1</td>\n",
       "      <td>2005-01-03</td>\n",
       "      <td>19805</td>\n",
       "      <td>12478</td>\n",
       "      <td>JFK</td>\n",
       "      <td>New York, NY</td>\n",
       "      <td>NY</td>\n",
       "      <td>12892</td>\n",
       "      <td>LAX</td>\n",
       "      <td>Los Angeles, CA</td>\n",
       "      <td>...</td>\n",
       "      <td>0</td>\n",
       "      <td>NaN</td>\n",
       "      <td>0</td>\n",
       "      <td>2475</td>\n",
       "      <td>0</td>\n",
       "      <td>0</td>\n",
       "      <td>28</td>\n",
       "      <td>0</td>\n",
       "      <td>0</td>\n",
       "      <td>NaN</td>\n",
       "    </tr>\n",
       "    <tr>\n",
       "      <th>1</th>\n",
       "      <td>1</td>\n",
       "      <td>2005-01-10</td>\n",
       "      <td>19805</td>\n",
       "      <td>12478</td>\n",
       "      <td>JFK</td>\n",
       "      <td>New York, NY</td>\n",
       "      <td>NY</td>\n",
       "      <td>12892</td>\n",
       "      <td>LAX</td>\n",
       "      <td>Los Angeles, CA</td>\n",
       "      <td>...</td>\n",
       "      <td>0</td>\n",
       "      <td>NaN</td>\n",
       "      <td>0</td>\n",
       "      <td>2475</td>\n",
       "      <td>NaN</td>\n",
       "      <td>NaN</td>\n",
       "      <td>NaN</td>\n",
       "      <td>NaN</td>\n",
       "      <td>NaN</td>\n",
       "      <td>NaN</td>\n",
       "    </tr>\n",
       "    <tr>\n",
       "      <th>2</th>\n",
       "      <td>1</td>\n",
       "      <td>2005-01-17</td>\n",
       "      <td>19805</td>\n",
       "      <td>12478</td>\n",
       "      <td>JFK</td>\n",
       "      <td>New York, NY</td>\n",
       "      <td>NY</td>\n",
       "      <td>12892</td>\n",
       "      <td>LAX</td>\n",
       "      <td>Los Angeles, CA</td>\n",
       "      <td>...</td>\n",
       "      <td>0</td>\n",
       "      <td>NaN</td>\n",
       "      <td>0</td>\n",
       "      <td>2475</td>\n",
       "      <td>0</td>\n",
       "      <td>0</td>\n",
       "      <td>53</td>\n",
       "      <td>0</td>\n",
       "      <td>0</td>\n",
       "      <td>NaN</td>\n",
       "    </tr>\n",
       "    <tr>\n",
       "      <th>3</th>\n",
       "      <td>1</td>\n",
       "      <td>2005-01-24</td>\n",
       "      <td>19805</td>\n",
       "      <td>12478</td>\n",
       "      <td>JFK</td>\n",
       "      <td>New York, NY</td>\n",
       "      <td>NY</td>\n",
       "      <td>12892</td>\n",
       "      <td>LAX</td>\n",
       "      <td>Los Angeles, CA</td>\n",
       "      <td>...</td>\n",
       "      <td>0</td>\n",
       "      <td>NaN</td>\n",
       "      <td>0</td>\n",
       "      <td>2475</td>\n",
       "      <td>NaN</td>\n",
       "      <td>NaN</td>\n",
       "      <td>NaN</td>\n",
       "      <td>NaN</td>\n",
       "      <td>NaN</td>\n",
       "      <td>NaN</td>\n",
       "    </tr>\n",
       "    <tr>\n",
       "      <th>4</th>\n",
       "      <td>1</td>\n",
       "      <td>2005-01-31</td>\n",
       "      <td>19805</td>\n",
       "      <td>12478</td>\n",
       "      <td>JFK</td>\n",
       "      <td>New York, NY</td>\n",
       "      <td>NY</td>\n",
       "      <td>12892</td>\n",
       "      <td>LAX</td>\n",
       "      <td>Los Angeles, CA</td>\n",
       "      <td>...</td>\n",
       "      <td>0</td>\n",
       "      <td>NaN</td>\n",
       "      <td>0</td>\n",
       "      <td>2475</td>\n",
       "      <td>NaN</td>\n",
       "      <td>NaN</td>\n",
       "      <td>NaN</td>\n",
       "      <td>NaN</td>\n",
       "      <td>NaN</td>\n",
       "      <td>NaN</td>\n",
       "    </tr>\n",
       "  </tbody>\n",
       "</table>\n",
       "<p>5 rows × 29 columns</p>\n",
       "</div>"
      ],
      "text/plain": [
       "   DAY_OF_WEEK     FL_DATE  AIRLINE_ID  ORIGIN_AIRPORT_ID ORIGIN  \\\n",
       "0            1  2005-01-03       19805              12478    JFK   \n",
       "1            1  2005-01-10       19805              12478    JFK   \n",
       "2            1  2005-01-17       19805              12478    JFK   \n",
       "3            1  2005-01-24       19805              12478    JFK   \n",
       "4            1  2005-01-31       19805              12478    JFK   \n",
       "\n",
       "  ORIGIN_CITY_NAME ORIGIN_STATE_ABR  DEST_AIRPORT_ID DEST   DEST_CITY_NAME  \\\n",
       "0     New York, NY               NY            12892  LAX  Los Angeles, CA   \n",
       "1     New York, NY               NY            12892  LAX  Los Angeles, CA   \n",
       "2     New York, NY               NY            12892  LAX  Los Angeles, CA   \n",
       "3     New York, NY               NY            12892  LAX  Los Angeles, CA   \n",
       "4     New York, NY               NY            12892  LAX  Los Angeles, CA   \n",
       "\n",
       "      ...      CANCELLED  CANCELLATION_CODE  DIVERTED  DISTANCE  \\\n",
       "0     ...              0                NaN         0      2475   \n",
       "1     ...              0                NaN         0      2475   \n",
       "2     ...              0                NaN         0      2475   \n",
       "3     ...              0                NaN         0      2475   \n",
       "4     ...              0                NaN         0      2475   \n",
       "\n",
       "   CARRIER_DELAY  WEATHER_DELAY  NAS_DELAY  SECURITY_DELAY  \\\n",
       "0              0              0         28               0   \n",
       "1            NaN            NaN        NaN             NaN   \n",
       "2              0              0         53               0   \n",
       "3            NaN            NaN        NaN             NaN   \n",
       "4            NaN            NaN        NaN             NaN   \n",
       "\n",
       "   LATE_AIRCRAFT_DELAY  Unnamed: 28  \n",
       "0                    0          NaN  \n",
       "1                  NaN          NaN  \n",
       "2                    0          NaN  \n",
       "3                  NaN          NaN  \n",
       "4                  NaN          NaN  \n",
       "\n",
       "[5 rows x 29 columns]"
      ]
     },
     "execution_count": 3,
     "metadata": {},
     "output_type": "execute_result"
    }
   ],
   "source": [
    "dane2005.head()"
   ]
  },
  {
   "cell_type": "code",
   "execution_count": 4,
   "metadata": {
    "collapsed": false
   },
   "outputs": [
    {
     "data": {
      "text/html": [
       "<div>\n",
       "<table border=\"1\" class=\"dataframe\">\n",
       "  <thead>\n",
       "    <tr style=\"text-align: right;\">\n",
       "      <th></th>\n",
       "      <th>DAY_OF_WEEK</th>\n",
       "      <th>FL_DATE</th>\n",
       "      <th>AIRLINE_ID</th>\n",
       "      <th>ORIGIN_AIRPORT_ID</th>\n",
       "      <th>ORIGIN</th>\n",
       "      <th>ORIGIN_CITY_NAME</th>\n",
       "      <th>ORIGIN_STATE_ABR</th>\n",
       "      <th>DEST_AIRPORT_ID</th>\n",
       "      <th>DEST</th>\n",
       "      <th>DEST_CITY_NAME</th>\n",
       "      <th>...</th>\n",
       "      <th>CANCELLED</th>\n",
       "      <th>CANCELLATION_CODE</th>\n",
       "      <th>DIVERTED</th>\n",
       "      <th>DISTANCE</th>\n",
       "      <th>CARRIER_DELAY</th>\n",
       "      <th>WEATHER_DELAY</th>\n",
       "      <th>NAS_DELAY</th>\n",
       "      <th>SECURITY_DELAY</th>\n",
       "      <th>LATE_AIRCRAFT_DELAY</th>\n",
       "      <th>Unnamed: 28</th>\n",
       "    </tr>\n",
       "  </thead>\n",
       "  <tbody>\n",
       "    <tr>\n",
       "      <th>0</th>\n",
       "      <td>1</td>\n",
       "      <td>2015-01-05</td>\n",
       "      <td>19805</td>\n",
       "      <td>12478</td>\n",
       "      <td>JFK</td>\n",
       "      <td>New York, NY</td>\n",
       "      <td>NY</td>\n",
       "      <td>12892</td>\n",
       "      <td>LAX</td>\n",
       "      <td>Los Angeles, CA</td>\n",
       "      <td>...</td>\n",
       "      <td>0</td>\n",
       "      <td>NaN</td>\n",
       "      <td>0</td>\n",
       "      <td>2475</td>\n",
       "      <td>NaN</td>\n",
       "      <td>NaN</td>\n",
       "      <td>NaN</td>\n",
       "      <td>NaN</td>\n",
       "      <td>NaN</td>\n",
       "      <td>NaN</td>\n",
       "    </tr>\n",
       "    <tr>\n",
       "      <th>1</th>\n",
       "      <td>1</td>\n",
       "      <td>2015-01-12</td>\n",
       "      <td>19805</td>\n",
       "      <td>12478</td>\n",
       "      <td>JFK</td>\n",
       "      <td>New York, NY</td>\n",
       "      <td>NY</td>\n",
       "      <td>12892</td>\n",
       "      <td>LAX</td>\n",
       "      <td>Los Angeles, CA</td>\n",
       "      <td>...</td>\n",
       "      <td>0</td>\n",
       "      <td>NaN</td>\n",
       "      <td>0</td>\n",
       "      <td>2475</td>\n",
       "      <td>NaN</td>\n",
       "      <td>NaN</td>\n",
       "      <td>NaN</td>\n",
       "      <td>NaN</td>\n",
       "      <td>NaN</td>\n",
       "      <td>NaN</td>\n",
       "    </tr>\n",
       "    <tr>\n",
       "      <th>2</th>\n",
       "      <td>1</td>\n",
       "      <td>2015-01-19</td>\n",
       "      <td>19805</td>\n",
       "      <td>12478</td>\n",
       "      <td>JFK</td>\n",
       "      <td>New York, NY</td>\n",
       "      <td>NY</td>\n",
       "      <td>12892</td>\n",
       "      <td>LAX</td>\n",
       "      <td>Los Angeles, CA</td>\n",
       "      <td>...</td>\n",
       "      <td>0</td>\n",
       "      <td>NaN</td>\n",
       "      <td>0</td>\n",
       "      <td>2475</td>\n",
       "      <td>NaN</td>\n",
       "      <td>NaN</td>\n",
       "      <td>NaN</td>\n",
       "      <td>NaN</td>\n",
       "      <td>NaN</td>\n",
       "      <td>NaN</td>\n",
       "    </tr>\n",
       "    <tr>\n",
       "      <th>3</th>\n",
       "      <td>1</td>\n",
       "      <td>2015-01-26</td>\n",
       "      <td>19805</td>\n",
       "      <td>12478</td>\n",
       "      <td>JFK</td>\n",
       "      <td>New York, NY</td>\n",
       "      <td>NY</td>\n",
       "      <td>12892</td>\n",
       "      <td>LAX</td>\n",
       "      <td>Los Angeles, CA</td>\n",
       "      <td>...</td>\n",
       "      <td>0</td>\n",
       "      <td>NaN</td>\n",
       "      <td>0</td>\n",
       "      <td>2475</td>\n",
       "      <td>NaN</td>\n",
       "      <td>NaN</td>\n",
       "      <td>NaN</td>\n",
       "      <td>NaN</td>\n",
       "      <td>NaN</td>\n",
       "      <td>NaN</td>\n",
       "    </tr>\n",
       "    <tr>\n",
       "      <th>4</th>\n",
       "      <td>1</td>\n",
       "      <td>2015-01-05</td>\n",
       "      <td>19805</td>\n",
       "      <td>12892</td>\n",
       "      <td>LAX</td>\n",
       "      <td>Los Angeles, CA</td>\n",
       "      <td>CA</td>\n",
       "      <td>12478</td>\n",
       "      <td>JFK</td>\n",
       "      <td>New York, NY</td>\n",
       "      <td>...</td>\n",
       "      <td>0</td>\n",
       "      <td>NaN</td>\n",
       "      <td>0</td>\n",
       "      <td>2475</td>\n",
       "      <td>NaN</td>\n",
       "      <td>NaN</td>\n",
       "      <td>NaN</td>\n",
       "      <td>NaN</td>\n",
       "      <td>NaN</td>\n",
       "      <td>NaN</td>\n",
       "    </tr>\n",
       "  </tbody>\n",
       "</table>\n",
       "<p>5 rows × 29 columns</p>\n",
       "</div>"
      ],
      "text/plain": [
       "   DAY_OF_WEEK     FL_DATE  AIRLINE_ID  ORIGIN_AIRPORT_ID ORIGIN  \\\n",
       "0            1  2015-01-05       19805              12478    JFK   \n",
       "1            1  2015-01-12       19805              12478    JFK   \n",
       "2            1  2015-01-19       19805              12478    JFK   \n",
       "3            1  2015-01-26       19805              12478    JFK   \n",
       "4            1  2015-01-05       19805              12892    LAX   \n",
       "\n",
       "  ORIGIN_CITY_NAME ORIGIN_STATE_ABR  DEST_AIRPORT_ID DEST   DEST_CITY_NAME  \\\n",
       "0     New York, NY               NY            12892  LAX  Los Angeles, CA   \n",
       "1     New York, NY               NY            12892  LAX  Los Angeles, CA   \n",
       "2     New York, NY               NY            12892  LAX  Los Angeles, CA   \n",
       "3     New York, NY               NY            12892  LAX  Los Angeles, CA   \n",
       "4  Los Angeles, CA               CA            12478  JFK     New York, NY   \n",
       "\n",
       "      ...      CANCELLED  CANCELLATION_CODE  DIVERTED  DISTANCE  \\\n",
       "0     ...              0                NaN         0      2475   \n",
       "1     ...              0                NaN         0      2475   \n",
       "2     ...              0                NaN         0      2475   \n",
       "3     ...              0                NaN         0      2475   \n",
       "4     ...              0                NaN         0      2475   \n",
       "\n",
       "   CARRIER_DELAY  WEATHER_DELAY  NAS_DELAY  SECURITY_DELAY  \\\n",
       "0            NaN            NaN        NaN             NaN   \n",
       "1            NaN            NaN        NaN             NaN   \n",
       "2            NaN            NaN        NaN             NaN   \n",
       "3            NaN            NaN        NaN             NaN   \n",
       "4            NaN            NaN        NaN             NaN   \n",
       "\n",
       "   LATE_AIRCRAFT_DELAY  Unnamed: 28  \n",
       "0                  NaN          NaN  \n",
       "1                  NaN          NaN  \n",
       "2                  NaN          NaN  \n",
       "3                  NaN          NaN  \n",
       "4                  NaN          NaN  \n",
       "\n",
       "[5 rows x 29 columns]"
      ]
     },
     "execution_count": 4,
     "metadata": {},
     "output_type": "execute_result"
    }
   ],
   "source": [
    "dane2015.head()"
   ]
  },
  {
   "cell_type": "markdown",
   "metadata": {},
   "source": [
    "Dane z pozostałych tabel to tabele pomocnicze, które można rozumieć tak naprawdę jako słowniki dla kodów/skrótów użytych w danych \"głównych\", np.:"
   ]
  },
  {
   "cell_type": "code",
   "execution_count": 5,
   "metadata": {
    "collapsed": false
   },
   "outputs": [
    {
     "data": {
      "text/html": [
       "<div>\n",
       "<table border=\"1\" class=\"dataframe\">\n",
       "  <thead>\n",
       "    <tr style=\"text-align: right;\">\n",
       "      <th></th>\n",
       "      <th>Code</th>\n",
       "      <th>Description</th>\n",
       "    </tr>\n",
       "  </thead>\n",
       "  <tbody>\n",
       "    <tr>\n",
       "      <th>0</th>\n",
       "      <td>-2</td>\n",
       "      <td>Delay &lt; -15 minutes</td>\n",
       "    </tr>\n",
       "    <tr>\n",
       "      <th>1</th>\n",
       "      <td>-1</td>\n",
       "      <td>Delay between -15 and -1 minutes</td>\n",
       "    </tr>\n",
       "    <tr>\n",
       "      <th>2</th>\n",
       "      <td>0</td>\n",
       "      <td>Delay between 0 and 14 minutes</td>\n",
       "    </tr>\n",
       "    <tr>\n",
       "      <th>3</th>\n",
       "      <td>1</td>\n",
       "      <td>Delay between 15 to 29 minutes</td>\n",
       "    </tr>\n",
       "    <tr>\n",
       "      <th>4</th>\n",
       "      <td>2</td>\n",
       "      <td>Delay between 30 to 44 minutes</td>\n",
       "    </tr>\n",
       "  </tbody>\n",
       "</table>\n",
       "</div>"
      ],
      "text/plain": [
       "   Code                       Description\n",
       "0    -2               Delay < -15 minutes\n",
       "1    -1  Delay between -15 and -1 minutes\n",
       "2     0    Delay between 0 and 14 minutes\n",
       "3     1    Delay between 15 to 29 minutes\n",
       "4     2    Delay between 30 to 44 minutes"
      ]
     },
     "execution_count": 5,
     "metadata": {},
     "output_type": "execute_result"
    }
   ],
   "source": [
    "delay.head()"
   ]
  },
  {
   "cell_type": "markdown",
   "metadata": {
    "collapsed": true
   },
   "source": [
    "## Pytania i odpowiedzi\n",
    "Analizę wykonam dosyć randomowo, po prostu zadałam sobie pytania, na które chciałabym poznać odpowiedź analizując dane."
   ]
  },
  {
   "cell_type": "markdown",
   "metadata": {},
   "source": [
    "### Ile lotów zarejestrowano w styczniu 2005 i styczniu 2015?"
   ]
  },
  {
   "cell_type": "code",
   "execution_count": 6,
   "metadata": {
    "collapsed": false
   },
   "outputs": [
    {
     "name": "stdout",
     "output_type": "stream",
     "text": [
      "Liczba lotów zarejestrowanych w styczniu 2005 wyniosła 594924 natomiast w 2015 roku 469968\n"
     ]
    }
   ],
   "source": [
    "ile_lotow_2005 = dane2005.shape[0]\n",
    "ile_lotow_2015 = dane2015.shape[0]\n",
    "print(\"Liczba lotów zarejestrowanych w styczniu 2005 wyniosła \" + str(ile_lotow_2005) + \" natomiast w 2015 roku \" + str(ile_lotow_2015))"
   ]
  },
  {
   "cell_type": "code",
   "execution_count": 7,
   "metadata": {
    "collapsed": false
   },
   "outputs": [
    {
     "data": {
      "image/png": "[encoded data removed]",
      "text/plain": [
       "<matplotlib.figure.Figure at 0x7f6c175e75c0>"
      ]
     },
     "metadata": {},
     "output_type": "display_data"
    }
   ],
   "source": [
    "width = 0.8\n",
    "ind = np.arange(2)\n",
    "plt.bar(left = ind, height = (ile_lotow_2005, ile_lotow_2015), width = width)\n",
    "plt.title('Porównanie liczby lotów w styczniu 2005 i 2015', fontsize = 15)\n",
    "plt.ylabel('Liczba lotów')\n",
    "plt.xlabel('Rok')\n",
    "plt.xticks(ind + width/2., ('2005', '2015'))\n",
    "plt.show()"
   ]
  },
  {
   "cell_type": "markdown",
   "metadata": {},
   "source": [
    "### W jakie dni tygodnia samoloty latają najczęściej? (2015)"
   ]
  },
  {
   "cell_type": "code",
   "execution_count": 8,
   "metadata": {
    "collapsed": false
   },
   "outputs": [
    {
     "data": {
      "text/html": [
       "<div>\n",
       "<table border=\"1\" class=\"dataframe\">\n",
       "  <thead>\n",
       "    <tr style=\"text-align: right;\">\n",
       "      <th></th>\n",
       "      <th>DAY_OF_WEEK</th>\n",
       "    </tr>\n",
       "    <tr>\n",
       "      <th>DAY_OF_WEEK</th>\n",
       "      <th></th>\n",
       "    </tr>\n",
       "  </thead>\n",
       "  <tbody>\n",
       "    <tr>\n",
       "      <th>1</th>\n",
       "      <td>64167</td>\n",
       "    </tr>\n",
       "    <tr>\n",
       "      <th>2</th>\n",
       "      <td>60837</td>\n",
       "    </tr>\n",
       "    <tr>\n",
       "      <th>3</th>\n",
       "      <td>62141</td>\n",
       "    </tr>\n",
       "    <tr>\n",
       "      <th>4</th>\n",
       "      <td>78022</td>\n",
       "    </tr>\n",
       "    <tr>\n",
       "      <th>5</th>\n",
       "      <td>80955</td>\n",
       "    </tr>\n",
       "    <tr>\n",
       "      <th>6</th>\n",
       "      <td>64165</td>\n",
       "    </tr>\n",
       "    <tr>\n",
       "      <th>7</th>\n",
       "      <td>59681</td>\n",
       "    </tr>\n",
       "  </tbody>\n",
       "</table>\n",
       "</div>"
      ],
      "text/plain": [
       "             DAY_OF_WEEK\n",
       "DAY_OF_WEEK             \n",
       "1                  64167\n",
       "2                  60837\n",
       "3                  62141\n",
       "4                  78022\n",
       "5                  80955\n",
       "6                  64165\n",
       "7                  59681"
      ]
     },
     "execution_count": 8,
     "metadata": {},
     "output_type": "execute_result"
    }
   ],
   "source": [
    "ile_w_dzien = dane2015.groupby(\"DAY_OF_WEEK\")[\"DAY_OF_WEEK\"].count()\n",
    "ile_w_dzien = pd.DataFrame(ile_w_dzien)\n",
    "ile_w_dzien"
   ]
  },
  {
   "cell_type": "code",
   "execution_count": 9,
   "metadata": {
    "collapsed": false
   },
   "outputs": [
    {
     "data": {
      "text/html": [
       "<div>\n",
       "<table border=\"1\" class=\"dataframe\">\n",
       "  <thead>\n",
       "    <tr style=\"text-align: right;\">\n",
       "      <th></th>\n",
       "      <th>DAY_OF_WEEK_count</th>\n",
       "    </tr>\n",
       "  </thead>\n",
       "  <tbody>\n",
       "    <tr>\n",
       "      <th>1</th>\n",
       "      <td>64167</td>\n",
       "    </tr>\n",
       "    <tr>\n",
       "      <th>2</th>\n",
       "      <td>60837</td>\n",
       "    </tr>\n",
       "    <tr>\n",
       "      <th>3</th>\n",
       "      <td>62141</td>\n",
       "    </tr>\n",
       "    <tr>\n",
       "      <th>4</th>\n",
       "      <td>78022</td>\n",
       "    </tr>\n",
       "    <tr>\n",
       "      <th>5</th>\n",
       "      <td>80955</td>\n",
       "    </tr>\n",
       "    <tr>\n",
       "      <th>6</th>\n",
       "      <td>64165</td>\n",
       "    </tr>\n",
       "    <tr>\n",
       "      <th>7</th>\n",
       "      <td>59681</td>\n",
       "    </tr>\n",
       "  </tbody>\n",
       "</table>\n",
       "</div>"
      ],
      "text/plain": [
       "   DAY_OF_WEEK_count\n",
       "1              64167\n",
       "2              60837\n",
       "3              62141\n",
       "4              78022\n",
       "5              80955\n",
       "6              64165\n",
       "7              59681"
      ]
     },
     "execution_count": 9,
     "metadata": {},
     "output_type": "execute_result"
    }
   ],
   "source": [
    "#usuwam nazwę indeksu, żeby było ładniej i zmieniam nazwę kolumny\n",
    "del ile_w_dzien.index.name\n",
    "ile_w_dzien.columns = ['DAY_OF_WEEK_count']\n",
    "ile_w_dzien"
   ]
  },
  {
   "cell_type": "code",
   "execution_count": 10,
   "metadata": {
    "collapsed": false
   },
   "outputs": [
    {
     "data": {
      "text/html": [
       "<div>\n",
       "<table border=\"1\" class=\"dataframe\">\n",
       "  <thead>\n",
       "    <tr style=\"text-align: right;\">\n",
       "      <th></th>\n",
       "      <th>Code</th>\n",
       "      <th>Description</th>\n",
       "    </tr>\n",
       "  </thead>\n",
       "  <tbody>\n",
       "    <tr>\n",
       "      <th>0</th>\n",
       "      <td>1</td>\n",
       "      <td>Monday</td>\n",
       "    </tr>\n",
       "    <tr>\n",
       "      <th>1</th>\n",
       "      <td>2</td>\n",
       "      <td>Tuesday</td>\n",
       "    </tr>\n",
       "    <tr>\n",
       "      <th>2</th>\n",
       "      <td>3</td>\n",
       "      <td>Wednesday</td>\n",
       "    </tr>\n",
       "    <tr>\n",
       "      <th>3</th>\n",
       "      <td>4</td>\n",
       "      <td>Thursday</td>\n",
       "    </tr>\n",
       "    <tr>\n",
       "      <th>4</th>\n",
       "      <td>5</td>\n",
       "      <td>Friday</td>\n",
       "    </tr>\n",
       "    <tr>\n",
       "      <th>5</th>\n",
       "      <td>6</td>\n",
       "      <td>Saturday</td>\n",
       "    </tr>\n",
       "    <tr>\n",
       "      <th>6</th>\n",
       "      <td>7</td>\n",
       "      <td>Sunday</td>\n",
       "    </tr>\n",
       "    <tr>\n",
       "      <th>7</th>\n",
       "      <td>9</td>\n",
       "      <td>Unknown</td>\n",
       "    </tr>\n",
       "  </tbody>\n",
       "</table>\n",
       "</div>"
      ],
      "text/plain": [
       "   Code Description\n",
       "0     1      Monday\n",
       "1     2     Tuesday\n",
       "2     3   Wednesday\n",
       "3     4    Thursday\n",
       "4     5      Friday\n",
       "5     6    Saturday\n",
       "6     7      Sunday\n",
       "7     9     Unknown"
      ]
     },
     "execution_count": 10,
     "metadata": {},
     "output_type": "execute_result"
    }
   ],
   "source": [
    "weekdays_cp = weekdays.copy()\n",
    "weekdays_cp"
   ]
  },
  {
   "cell_type": "code",
   "execution_count": 11,
   "metadata": {
    "collapsed": false
   },
   "outputs": [
    {
     "data": {
      "text/html": [
       "<div>\n",
       "<table border=\"1\" class=\"dataframe\">\n",
       "  <thead>\n",
       "    <tr style=\"text-align: right;\">\n",
       "      <th></th>\n",
       "      <th>Description</th>\n",
       "    </tr>\n",
       "  </thead>\n",
       "  <tbody>\n",
       "    <tr>\n",
       "      <th>1</th>\n",
       "      <td>Monday</td>\n",
       "    </tr>\n",
       "    <tr>\n",
       "      <th>2</th>\n",
       "      <td>Tuesday</td>\n",
       "    </tr>\n",
       "    <tr>\n",
       "      <th>3</th>\n",
       "      <td>Wednesday</td>\n",
       "    </tr>\n",
       "    <tr>\n",
       "      <th>4</th>\n",
       "      <td>Thursday</td>\n",
       "    </tr>\n",
       "    <tr>\n",
       "      <th>5</th>\n",
       "      <td>Friday</td>\n",
       "    </tr>\n",
       "    <tr>\n",
       "      <th>6</th>\n",
       "      <td>Saturday</td>\n",
       "    </tr>\n",
       "    <tr>\n",
       "      <th>7</th>\n",
       "      <td>Sunday</td>\n",
       "    </tr>\n",
       "    <tr>\n",
       "      <th>9</th>\n",
       "      <td>Unknown</td>\n",
       "    </tr>\n",
       "  </tbody>\n",
       "</table>\n",
       "</div>"
      ],
      "text/plain": [
       "  Description\n",
       "1      Monday\n",
       "2     Tuesday\n",
       "3   Wednesday\n",
       "4    Thursday\n",
       "5      Friday\n",
       "6    Saturday\n",
       "7      Sunday\n",
       "9     Unknown"
      ]
     },
     "execution_count": 11,
     "metadata": {},
     "output_type": "execute_result"
    }
   ],
   "source": [
    "#ustawiamy kolumnę Code jako indeks\n",
    "weekdays_cp2 = weekdays_cp.set_index(weekdays_cp[\"Code\"])\n",
    "del weekdays_cp2.index.name\n",
    "weekdays_cp2 = weekdays_cp2.drop(\"Code\", 1)\n",
    "weekdays_cp2"
   ]
  },
  {
   "cell_type": "code",
   "execution_count": 12,
   "metadata": {
    "collapsed": false
   },
   "outputs": [
    {
     "data": {
      "text/html": [
       "<div>\n",
       "<table border=\"1\" class=\"dataframe\">\n",
       "  <thead>\n",
       "    <tr style=\"text-align: right;\">\n",
       "      <th></th>\n",
       "      <th>Description</th>\n",
       "      <th>DAY_OF_WEEK_count</th>\n",
       "    </tr>\n",
       "  </thead>\n",
       "  <tbody>\n",
       "    <tr>\n",
       "      <th>1</th>\n",
       "      <td>Monday</td>\n",
       "      <td>64167</td>\n",
       "    </tr>\n",
       "    <tr>\n",
       "      <th>2</th>\n",
       "      <td>Tuesday</td>\n",
       "      <td>60837</td>\n",
       "    </tr>\n",
       "    <tr>\n",
       "      <th>3</th>\n",
       "      <td>Wednesday</td>\n",
       "      <td>62141</td>\n",
       "    </tr>\n",
       "    <tr>\n",
       "      <th>4</th>\n",
       "      <td>Thursday</td>\n",
       "      <td>78022</td>\n",
       "    </tr>\n",
       "    <tr>\n",
       "      <th>5</th>\n",
       "      <td>Friday</td>\n",
       "      <td>80955</td>\n",
       "    </tr>\n",
       "    <tr>\n",
       "      <th>6</th>\n",
       "      <td>Saturday</td>\n",
       "      <td>64165</td>\n",
       "    </tr>\n",
       "    <tr>\n",
       "      <th>7</th>\n",
       "      <td>Sunday</td>\n",
       "      <td>59681</td>\n",
       "    </tr>\n",
       "    <tr>\n",
       "      <th>9</th>\n",
       "      <td>Unknown</td>\n",
       "      <td>NaN</td>\n",
       "    </tr>\n",
       "  </tbody>\n",
       "</table>\n",
       "</div>"
      ],
      "text/plain": [
       "  Description  DAY_OF_WEEK_count\n",
       "1      Monday              64167\n",
       "2     Tuesday              60837\n",
       "3   Wednesday              62141\n",
       "4    Thursday              78022\n",
       "5      Friday              80955\n",
       "6    Saturday              64165\n",
       "7      Sunday              59681\n",
       "9     Unknown                NaN"
      ]
     },
     "execution_count": 12,
     "metadata": {},
     "output_type": "execute_result"
    }
   ],
   "source": [
    "#łączymy tabele po indeksie\n",
    "ile_w_dzien_join = weekdays_cp2.join(ile_w_dzien)\n",
    "ile_w_dzien_join"
   ]
  },
  {
   "cell_type": "code",
   "execution_count": 13,
   "metadata": {
    "collapsed": false
   },
   "outputs": [
    {
     "data": {
      "image/png": "[encoded data removed]",
      "text/plain": [
       "<matplotlib.figure.Figure at 0x7f6c12455d68>"
      ]
     },
     "metadata": {},
     "output_type": "display_data"
    }
   ],
   "source": [
    "bar = sns.factorplot(x = 'Description', y = 'DAY_OF_WEEK_count', \n",
    "               kind = \"bar\", size = 7, data = ile_w_dzien_join)"
   ]
  },
  {
   "cell_type": "markdown",
   "metadata": {},
   "source": [
    "Najwięcej lotów odbyło się w piątki, a najmniej w niedzielę."
   ]
  },
  {
   "cell_type": "markdown",
   "metadata": {},
   "source": [
    "### Wykres ilości lotów w poszczególne dni miesiąca (2015)"
   ]
  },
  {
   "cell_type": "code",
   "execution_count": 14,
   "metadata": {
    "collapsed": false
   },
   "outputs": [
    {
     "data": {
      "text/html": [
       "<div>\n",
       "<table border=\"1\" class=\"dataframe\">\n",
       "  <thead>\n",
       "    <tr style=\"text-align: right;\">\n",
       "      <th></th>\n",
       "      <th>FL_DATE</th>\n",
       "    </tr>\n",
       "  </thead>\n",
       "  <tbody>\n",
       "    <tr>\n",
       "      <th>2015-01-01</th>\n",
       "      <td>13950</td>\n",
       "    </tr>\n",
       "    <tr>\n",
       "      <th>2015-01-02</th>\n",
       "      <td>16741</td>\n",
       "    </tr>\n",
       "    <tr>\n",
       "      <th>2015-01-03</th>\n",
       "      <td>15434</td>\n",
       "    </tr>\n",
       "    <tr>\n",
       "      <th>2015-01-04</th>\n",
       "      <td>16352</td>\n",
       "    </tr>\n",
       "    <tr>\n",
       "      <th>2015-01-05</th>\n",
       "      <td>16548</td>\n",
       "    </tr>\n",
       "    <tr>\n",
       "      <th>2015-01-06</th>\n",
       "      <td>15315</td>\n",
       "    </tr>\n",
       "    <tr>\n",
       "      <th>2015-01-07</th>\n",
       "      <td>15571</td>\n",
       "    </tr>\n",
       "    <tr>\n",
       "      <th>2015-01-08</th>\n",
       "      <td>16009</td>\n",
       "    </tr>\n",
       "    <tr>\n",
       "      <th>2015-01-09</th>\n",
       "      <td>16008</td>\n",
       "    </tr>\n",
       "    <tr>\n",
       "      <th>2015-01-10</th>\n",
       "      <td>12344</td>\n",
       "    </tr>\n",
       "  </tbody>\n",
       "</table>\n",
       "</div>"
      ],
      "text/plain": [
       "            FL_DATE\n",
       "2015-01-01    13950\n",
       "2015-01-02    16741\n",
       "2015-01-03    15434\n",
       "2015-01-04    16352\n",
       "2015-01-05    16548\n",
       "2015-01-06    15315\n",
       "2015-01-07    15571\n",
       "2015-01-08    16009\n",
       "2015-01-09    16008\n",
       "2015-01-10    12344"
      ]
     },
     "execution_count": 14,
     "metadata": {},
     "output_type": "execute_result"
    }
   ],
   "source": [
    "codziennie = pd.DataFrame(dane2015.FL_DATE.value_counts())\n",
    "#sortujemy wg daty\n",
    "codziennie_sort = codziennie.sort_index()\n",
    "codziennie_sort.head(10)"
   ]
  },
  {
   "cell_type": "code",
   "execution_count": 15,
   "metadata": {
    "collapsed": false
   },
   "outputs": [
    {
     "data": {
      "image/png": "[encoded data removed]",
      "text/plain": [
       "<matplotlib.figure.Figure at 0x7f6c1247da58>"
      ]
     },
     "metadata": {},
     "output_type": "display_data"
    }
   ],
   "source": [
    "#szereg czasowy - łatwiej jeżeli na osi x nie będzie całych dat, tylko dni więc zostawiam w ten sposób\n",
    "ts = sns.tsplot(data = codziennie_sort.FL_DATE)\n",
    "plt.title(\"Liczba lotów w poszczególne dni stycznia\")\n",
    "plt.xlabel('Kolejne dni')\n",
    "plt.ylabel('Liczba lotów')\n",
    "plt.show()"
   ]
  },
  {
   "cell_type": "code",
   "execution_count": 16,
   "metadata": {
    "collapsed": false
   },
   "outputs": [
    {
     "data": {
      "text/html": [
       "<div>\n",
       "<table border=\"1\" class=\"dataframe\">\n",
       "  <thead>\n",
       "    <tr style=\"text-align: right;\">\n",
       "      <th></th>\n",
       "      <th>FL_DATE</th>\n",
       "    </tr>\n",
       "  </thead>\n",
       "  <tbody>\n",
       "    <tr>\n",
       "      <th>2015-01-10</th>\n",
       "      <td>12344</td>\n",
       "    </tr>\n",
       "    <tr>\n",
       "      <th>2015-01-17</th>\n",
       "      <td>12070</td>\n",
       "    </tr>\n",
       "    <tr>\n",
       "      <th>2015-01-24</th>\n",
       "      <td>12280</td>\n",
       "    </tr>\n",
       "    <tr>\n",
       "      <th>2015-01-31</th>\n",
       "      <td>12037</td>\n",
       "    </tr>\n",
       "  </tbody>\n",
       "</table>\n",
       "</div>"
      ],
      "text/plain": [
       "            FL_DATE\n",
       "2015-01-10    12344\n",
       "2015-01-17    12070\n",
       "2015-01-24    12280\n",
       "2015-01-31    12037"
      ]
     },
     "execution_count": 16,
     "metadata": {},
     "output_type": "execute_result"
    }
   ],
   "source": [
    "#widać ciekawą sezonowość - cztery najmniejsze wartości to daty dokładnie co tydzień\n",
    "codziennie.sort_values(\"FL_DATE\").head(4).sort_index()"
   ]
  },
  {
   "cell_type": "code",
   "execution_count": 17,
   "metadata": {
    "collapsed": false
   },
   "outputs": [
    {
     "data": {
      "text/html": [
       "<div>\n",
       "<table border=\"1\" class=\"dataframe\">\n",
       "  <thead>\n",
       "    <tr style=\"text-align: right;\">\n",
       "      <th></th>\n",
       "      <th>DAY_OF_WEEK</th>\n",
       "      <th>Code</th>\n",
       "      <th>Description</th>\n",
       "    </tr>\n",
       "  </thead>\n",
       "  <tbody>\n",
       "    <tr>\n",
       "      <th>0</th>\n",
       "      <td>6</td>\n",
       "      <td>6</td>\n",
       "      <td>Saturday</td>\n",
       "    </tr>\n",
       "  </tbody>\n",
       "</table>\n",
       "</div>"
      ],
      "text/plain": [
       "   DAY_OF_WEEK  Code Description\n",
       "0            6     6    Saturday"
      ]
     },
     "execution_count": 17,
     "metadata": {},
     "output_type": "execute_result"
    }
   ],
   "source": [
    "#jaki to dzień tygodnia?\n",
    "ktory_dzien = pd.DataFrame(dane2015.DAY_OF_WEEK[dane2015.FL_DATE == \"2015-01-10\"].head(1))\n",
    "ktory_dzien\n",
    "pd.merge(ktory_dzien, weekdays_cp, how = \"left\", left_on = \"DAY_OF_WEEK\", right_on = \"Code\")"
   ]
  },
  {
   "cell_type": "markdown",
   "metadata": {},
   "source": [
    "Widać znaczny spadek ilości lotów w soboty. Jednak sumarycznie wyszło nam, że to w niedzielę jest najmniej lotów (patrz poprzedni wykres). Ta rozbieżność spowodowana jest początkiem roku, gdzie widać, że ta sezonowosć nie obowiązuje (ludzie wracają z wakacji, urlopów itd., dopiero potem \"wpadają\" w normalny rytm tygodnia :))"
   ]
  },
  {
   "cell_type": "markdown",
   "metadata": {},
   "source": [
    "### Jak rozkładają się loty ze względu na destynację?"
   ]
  },
  {
   "cell_type": "code",
   "execution_count": 18,
   "metadata": {
    "collapsed": false
   },
   "outputs": [],
   "source": [
    "dest2005 = pd.DataFrame(dane2005.DEST_STATE_ABR.value_counts())\n",
    "dest2015 = pd.DataFrame(dane2015.DEST_STATE_ABR.value_counts())\n",
    "dest_razem = pd.merge(dest2005, dest2015, left_index = True, right_index = True)"
   ]
  },
  {
   "cell_type": "code",
   "execution_count": 28,
   "metadata": {
    "collapsed": false
   },
   "outputs": [
    {
     "name": "stdout",
     "output_type": "stream",
     "text": [
      "10 najbardziej popularnych kierunków:\n"
     ]
    },
    {
     "data": {
      "text/html": [
       "<div>\n",
       "<table border=\"1\" class=\"dataframe\">\n",
       "  <thead>\n",
       "    <tr style=\"text-align: right;\">\n",
       "      <th></th>\n",
       "      <th>2005</th>\n",
       "      <th>2015</th>\n",
       "      <th>Description</th>\n",
       "    </tr>\n",
       "  </thead>\n",
       "  <tbody>\n",
       "    <tr>\n",
       "      <th>CA</th>\n",
       "      <td>68348</td>\n",
       "      <td>57654</td>\n",
       "      <td>California</td>\n",
       "    </tr>\n",
       "    <tr>\n",
       "      <th>TX</th>\n",
       "      <td>67852</td>\n",
       "      <td>58407</td>\n",
       "      <td>Texas</td>\n",
       "    </tr>\n",
       "    <tr>\n",
       "      <th>FL</th>\n",
       "      <td>39445</td>\n",
       "      <td>39546</td>\n",
       "      <td>Florida</td>\n",
       "    </tr>\n",
       "    <tr>\n",
       "      <th>GA</th>\n",
       "      <td>37018</td>\n",
       "      <td>30636</td>\n",
       "      <td>Georgia</td>\n",
       "    </tr>\n",
       "    <tr>\n",
       "      <th>IL</th>\n",
       "      <td>36635</td>\n",
       "      <td>31637</td>\n",
       "      <td>Illinois</td>\n",
       "    </tr>\n",
       "    <tr>\n",
       "      <th>NY</th>\n",
       "      <td>27439</td>\n",
       "      <td>22306</td>\n",
       "      <td>New York</td>\n",
       "    </tr>\n",
       "    <tr>\n",
       "      <th>VA</th>\n",
       "      <td>24979</td>\n",
       "      <td>12990</td>\n",
       "      <td>Virginia</td>\n",
       "    </tr>\n",
       "    <tr>\n",
       "      <th>KY</th>\n",
       "      <td>20840</td>\n",
       "      <td>3216</td>\n",
       "      <td>Kentucky</td>\n",
       "    </tr>\n",
       "    <tr>\n",
       "      <th>PA</th>\n",
       "      <td>17529</td>\n",
       "      <td>8731</td>\n",
       "      <td>Pennsylvania</td>\n",
       "    </tr>\n",
       "    <tr>\n",
       "      <th>NC</th>\n",
       "      <td>17422</td>\n",
       "      <td>13447</td>\n",
       "      <td>North Carolina</td>\n",
       "    </tr>\n",
       "  </tbody>\n",
       "</table>\n",
       "</div>"
      ],
      "text/plain": [
       "     2005   2015     Description\n",
       "CA  68348  57654      California\n",
       "TX  67852  58407           Texas\n",
       "FL  39445  39546         Florida\n",
       "GA  37018  30636         Georgia\n",
       "IL  36635  31637        Illinois\n",
       "NY  27439  22306        New York\n",
       "VA  24979  12990        Virginia\n",
       "KY  20840   3216        Kentucky\n",
       "PA  17529   8731    Pennsylvania\n",
       "NC  17422  13447  North Carolina"
      ]
     },
     "execution_count": 28,
     "metadata": {},
     "output_type": "execute_result"
    }
   ],
   "source": [
    "ile_dokad = dest_razem.sort_values(\"DEST_STATE_ABR_x\", ascending = False).head(10)\n",
    "ile_dokad.columns = [\"2005\", \"2015\"]\n",
    "\n",
    "states_cp = states.copy()\n",
    "states_cp2 = states_cp.set_index(states_cp[\"Code\"])\n",
    "del states_cp2.index.name\n",
    "states_cp2 = states_cp2.drop(\"Code\", 1)\n",
    "\n",
    "ile_dokad_nazwy = ile_dokad.join(states_cp2)\n",
    "print(\"10 najbardziej popularnych kierunków:\")\n",
    "ile_dokad_nazwy"
   ]
  },
  {
   "cell_type": "code",
   "execution_count": 35,
   "metadata": {
    "collapsed": false
   },
   "outputs": [
    {
     "data": {
      "image/png": "[encoded data removed]",
      "text/plain": [
       "<matplotlib.figure.Figure at 0x7f6c12180908>"
      ]
     },
     "metadata": {},
     "output_type": "display_data"
    }
   ],
   "source": [
    "bar_nested = ile_dokad.plot(kind = \"bar\")\n",
    "plt.title(\"10 stanów/terytoriów z największą ilością lotów\")\n",
    "plt.show()"
   ]
  },
  {
   "cell_type": "markdown",
   "metadata": {},
   "source": [
    "### Ile precent lotów to loty do Kalifornii? (2015)"
   ]
  },
  {
   "cell_type": "code",
   "execution_count": 36,
   "metadata": {
    "collapsed": false
   },
   "outputs": [],
   "source": [
    "dest2015 = pd.DataFrame(dane2015.DEST_STATE_ABR.value_counts())\n",
    "CA = dest2015[dest2015.index == 'CA'].DEST_STATE_ABR\n",
    "rest = dest2015[dest2015.index != 'CA'].DEST_STATE_ABR.sum()"
   ]
  },
  {
   "cell_type": "code",
   "execution_count": 37,
   "metadata": {
    "collapsed": false
   },
   "outputs": [
    {
     "data": {
      "image/png": "[encoded data removed]",
      "text/plain": [
       "<matplotlib.figure.Figure at 0x7f6c11fb5f98>"
      ]
     },
     "metadata": {},
     "output_type": "display_data"
    }
   ],
   "source": [
    "labels = ['CA', 'rest']\n",
    "sizes = [CA, rest]\n",
    "colors = ['gold', 'yellowgreen']\n",
    "explode = (0.1, 0)\n",
    "plt.pie(sizes, explode = explode, labels = labels, colors = colors, autopct = '%1.1f%%')\n",
    "plt.axis('equal')\n",
    "plt.show()"
   ]
  },
  {
   "cell_type": "markdown",
   "metadata": {},
   "source": [
    "### Ile procent lotów rozpoczyna się z opóźnieniem? Ile wylatuje wcześniej? (2015)"
   ]
  },
  {
   "cell_type": "code",
   "execution_count": 38,
   "metadata": {
    "collapsed": false
   },
   "outputs": [
    {
     "data": {
      "text/html": [
       "<div>\n",
       "<table border=\"1\" class=\"dataframe\">\n",
       "  <thead>\n",
       "    <tr style=\"text-align: right;\">\n",
       "      <th></th>\n",
       "      <th>DEP_DELAY_GROUP</th>\n",
       "    </tr>\n",
       "  </thead>\n",
       "  <tbody>\n",
       "    <tr>\n",
       "      <th>-2</th>\n",
       "      <td>1946</td>\n",
       "    </tr>\n",
       "    <tr>\n",
       "      <th>-1</th>\n",
       "      <td>255453</td>\n",
       "    </tr>\n",
       "    <tr>\n",
       "      <th>0</th>\n",
       "      <td>109934</td>\n",
       "    </tr>\n",
       "    <tr>\n",
       "      <th>1</th>\n",
       "      <td>34459</td>\n",
       "    </tr>\n",
       "    <tr>\n",
       "      <th>2</th>\n",
       "      <td>17906</td>\n",
       "    </tr>\n",
       "    <tr>\n",
       "      <th>3</th>\n",
       "      <td>11003</td>\n",
       "    </tr>\n",
       "    <tr>\n",
       "      <th>4</th>\n",
       "      <td>7178</td>\n",
       "    </tr>\n",
       "    <tr>\n",
       "      <th>5</th>\n",
       "      <td>4990</td>\n",
       "    </tr>\n",
       "    <tr>\n",
       "      <th>6</th>\n",
       "      <td>3617</td>\n",
       "    </tr>\n",
       "    <tr>\n",
       "      <th>7</th>\n",
       "      <td>2648</td>\n",
       "    </tr>\n",
       "    <tr>\n",
       "      <th>8</th>\n",
       "      <td>1957</td>\n",
       "    </tr>\n",
       "    <tr>\n",
       "      <th>9</th>\n",
       "      <td>1564</td>\n",
       "    </tr>\n",
       "    <tr>\n",
       "      <th>10</th>\n",
       "      <td>1184</td>\n",
       "    </tr>\n",
       "    <tr>\n",
       "      <th>11</th>\n",
       "      <td>908</td>\n",
       "    </tr>\n",
       "    <tr>\n",
       "      <th>12</th>\n",
       "      <td>3564</td>\n",
       "    </tr>\n",
       "  </tbody>\n",
       "</table>\n",
       "</div>"
      ],
      "text/plain": [
       "     DEP_DELAY_GROUP\n",
       "-2              1946\n",
       "-1            255453\n",
       " 0            109934\n",
       " 1             34459\n",
       " 2             17906\n",
       " 3             11003\n",
       " 4              7178\n",
       " 5              4990\n",
       " 6              3617\n",
       " 7              2648\n",
       " 8              1957\n",
       " 9              1564\n",
       " 10             1184\n",
       " 11              908\n",
       " 12             3564"
      ]
     },
     "execution_count": 38,
     "metadata": {},
     "output_type": "execute_result"
    }
   ],
   "source": [
    "opoznienie = pd.DataFrame(dane2015.DEP_DELAY_GROUP.value_counts().sort_index())\n",
    "opoznienie"
   ]
  },
  {
   "cell_type": "code",
   "execution_count": 39,
   "metadata": {
    "collapsed": false
   },
   "outputs": [
    {
     "data": {
      "text/html": [
       "<div>\n",
       "<table border=\"1\" class=\"dataframe\">\n",
       "  <thead>\n",
       "    <tr style=\"text-align: right;\">\n",
       "      <th></th>\n",
       "      <th>liczba_lotow</th>\n",
       "    </tr>\n",
       "  </thead>\n",
       "  <tbody>\n",
       "    <tr>\n",
       "      <th>wcześniej</th>\n",
       "      <td>257399</td>\n",
       "    </tr>\n",
       "    <tr>\n",
       "      <th>o czasie</th>\n",
       "      <td>109934</td>\n",
       "    </tr>\n",
       "    <tr>\n",
       "      <th>później</th>\n",
       "      <td>90978</td>\n",
       "    </tr>\n",
       "  </tbody>\n",
       "</table>\n",
       "</div>"
      ],
      "text/plain": [
       "           liczba_lotow\n",
       "wcześniej        257399\n",
       "o czasie         109934\n",
       "później           90978"
      ]
     },
     "execution_count": 39,
     "metadata": {},
     "output_type": "execute_result"
    }
   ],
   "source": [
    "wczesniej = opoznienie.loc[-2:-1].sum()\n",
    "o_czasie = opoznienie.loc[0:0].sum()\n",
    "pozniej = opoznienie.loc[1:].sum()\n",
    "opoznienie_agg = pd.DataFrame([wczesniej, o_czasie, pozniej], index = ['wcześniej', 'o czasie', 'później'])\n",
    "opoznienie_agg.columns = [\"liczba_lotow\"]\n",
    "opoznienie_agg"
   ]
  },
  {
   "cell_type": "code",
   "execution_count": 40,
   "metadata": {
    "collapsed": false
   },
   "outputs": [
    {
     "data": {
      "image/png": "[encoded data removed]",
      "text/plain": [
       "<matplotlib.figure.Figure at 0x7f6c120947f0>"
      ]
     },
     "metadata": {},
     "output_type": "display_data"
    }
   ],
   "source": [
    "width = 0.8\n",
    "ind = np.arange(3)\n",
    "plt.bar(left = ind, height = (wczesniej[0], o_czasie[0], pozniej[0]), width = width)\n",
    "plt.title('Liczba lotów ze względu na spóźnienie', fontsize = 15)\n",
    "plt.ylabel('Liczba lotów')\n",
    "plt.xlabel('Spóźnienie')\n",
    "plt.xticks(ind + width/2., ('Wcześniej', 'O czasie', 'Później'))\n",
    "plt.show()"
   ]
  },
  {
   "cell_type": "markdown",
   "metadata": {},
   "source": [
    "### Wykres liczby anulowań od dnia miesiąca"
   ]
  },
  {
   "cell_type": "code",
   "execution_count": 151,
   "metadata": {
    "collapsed": false
   },
   "outputs": [
    {
     "data": {
      "text/html": [
       "<div>\n",
       "<table border=\"1\" class=\"dataframe\">\n",
       "  <thead>\n",
       "    <tr style=\"text-align: right;\">\n",
       "      <th></th>\n",
       "      <th>CANCELLED</th>\n",
       "    </tr>\n",
       "    <tr>\n",
       "      <th>FL_DATE</th>\n",
       "      <th></th>\n",
       "    </tr>\n",
       "  </thead>\n",
       "  <tbody>\n",
       "    <tr>\n",
       "      <th>2015-01-01</th>\n",
       "      <td>466</td>\n",
       "    </tr>\n",
       "    <tr>\n",
       "      <th>2015-01-02</th>\n",
       "      <td>257</td>\n",
       "    </tr>\n",
       "    <tr>\n",
       "      <th>2015-01-03</th>\n",
       "      <td>331</td>\n",
       "    </tr>\n",
       "    <tr>\n",
       "      <th>2015-01-04</th>\n",
       "      <td>433</td>\n",
       "    </tr>\n",
       "    <tr>\n",
       "      <th>2015-01-05</th>\n",
       "      <td>435</td>\n",
       "    </tr>\n",
       "  </tbody>\n",
       "</table>\n",
       "</div>"
      ],
      "text/plain": [
       "            CANCELLED\n",
       "FL_DATE              \n",
       "2015-01-01        466\n",
       "2015-01-02        257\n",
       "2015-01-03        331\n",
       "2015-01-04        433\n",
       "2015-01-05        435"
      ]
     },
     "execution_count": 151,
     "metadata": {},
     "output_type": "execute_result"
    }
   ],
   "source": [
    "anul2005 = dane2005.groupby(\"FL_DATE\").sum()[[\"CANCELLED\"]]\n",
    "anul2015 = dane2015.groupby(\"FL_DATE\").sum()[[\"CANCELLED\"]]\n",
    "anul2015.head()"
   ]
  },
  {
   "cell_type": "code",
   "execution_count": 154,
   "metadata": {
    "collapsed": false
   },
   "outputs": [
    {
     "data": {
      "text/plain": [
       "['01', '02', '03', '04', '05']"
      ]
     },
     "execution_count": 154,
     "metadata": {},
     "output_type": "execute_result"
    }
   ],
   "source": [
    "new_index = list()\n",
    "for i in anul2005.index:\n",
    "    new_index.append(i[8:])\n",
    "new_index[0:5]"
   ]
  },
  {
   "cell_type": "code",
   "execution_count": 191,
   "metadata": {
    "collapsed": false
   },
   "outputs": [
    {
     "data": {
      "text/html": [
       "<div>\n",
       "<table border=\"1\" class=\"dataframe\">\n",
       "  <thead>\n",
       "    <tr style=\"text-align: right;\">\n",
       "      <th></th>\n",
       "      <th>2005</th>\n",
       "      <th>2015</th>\n",
       "    </tr>\n",
       "    <tr>\n",
       "      <th>Dzień</th>\n",
       "      <th></th>\n",
       "      <th></th>\n",
       "    </tr>\n",
       "  </thead>\n",
       "  <tbody>\n",
       "    <tr>\n",
       "      <th>01</th>\n",
       "      <td>212</td>\n",
       "      <td>466</td>\n",
       "    </tr>\n",
       "    <tr>\n",
       "      <th>02</th>\n",
       "      <td>184</td>\n",
       "      <td>257</td>\n",
       "    </tr>\n",
       "    <tr>\n",
       "      <th>03</th>\n",
       "      <td>330</td>\n",
       "      <td>331</td>\n",
       "    </tr>\n",
       "    <tr>\n",
       "      <th>04</th>\n",
       "      <td>589</td>\n",
       "      <td>433</td>\n",
       "    </tr>\n",
       "    <tr>\n",
       "      <th>05</th>\n",
       "      <td>1473</td>\n",
       "      <td>435</td>\n",
       "    </tr>\n",
       "    <tr>\n",
       "      <th>06</th>\n",
       "      <td>886</td>\n",
       "      <td>395</td>\n",
       "    </tr>\n",
       "    <tr>\n",
       "      <th>07</th>\n",
       "      <td>484</td>\n",
       "      <td>303</td>\n",
       "    </tr>\n",
       "    <tr>\n",
       "      <th>08</th>\n",
       "      <td>406</td>\n",
       "      <td>813</td>\n",
       "    </tr>\n",
       "    <tr>\n",
       "      <th>09</th>\n",
       "      <td>302</td>\n",
       "      <td>469</td>\n",
       "    </tr>\n",
       "    <tr>\n",
       "      <th>10</th>\n",
       "      <td>398</td>\n",
       "      <td>190</td>\n",
       "    </tr>\n",
       "    <tr>\n",
       "      <th>11</th>\n",
       "      <td>502</td>\n",
       "      <td>354</td>\n",
       "    </tr>\n",
       "    <tr>\n",
       "      <th>12</th>\n",
       "      <td>963</td>\n",
       "      <td>436</td>\n",
       "    </tr>\n",
       "    <tr>\n",
       "      <th>13</th>\n",
       "      <td>1231</td>\n",
       "      <td>197</td>\n",
       "    </tr>\n",
       "    <tr>\n",
       "      <th>14</th>\n",
       "      <td>362</td>\n",
       "      <td>178</td>\n",
       "    </tr>\n",
       "    <tr>\n",
       "      <th>15</th>\n",
       "      <td>315</td>\n",
       "      <td>104</td>\n",
       "    </tr>\n",
       "    <tr>\n",
       "      <th>16</th>\n",
       "      <td>297</td>\n",
       "      <td>58</td>\n",
       "    </tr>\n",
       "    <tr>\n",
       "      <th>17</th>\n",
       "      <td>337</td>\n",
       "      <td>32</td>\n",
       "    </tr>\n",
       "    <tr>\n",
       "      <th>18</th>\n",
       "      <td>345</td>\n",
       "      <td>114</td>\n",
       "    </tr>\n",
       "    <tr>\n",
       "      <th>19</th>\n",
       "      <td>647</td>\n",
       "      <td>65</td>\n",
       "    </tr>\n",
       "    <tr>\n",
       "      <th>20</th>\n",
       "      <td>871</td>\n",
       "      <td>92</td>\n",
       "    </tr>\n",
       "    <tr>\n",
       "      <th>21</th>\n",
       "      <td>750</td>\n",
       "      <td>119</td>\n",
       "    </tr>\n",
       "    <tr>\n",
       "      <th>22</th>\n",
       "      <td>3566</td>\n",
       "      <td>104</td>\n",
       "    </tr>\n",
       "    <tr>\n",
       "      <th>23</th>\n",
       "      <td>2995</td>\n",
       "      <td>110</td>\n",
       "    </tr>\n",
       "    <tr>\n",
       "      <th>24</th>\n",
       "      <td>865</td>\n",
       "      <td>208</td>\n",
       "    </tr>\n",
       "    <tr>\n",
       "      <th>25</th>\n",
       "      <td>269</td>\n",
       "      <td>163</td>\n",
       "    </tr>\n",
       "    <tr>\n",
       "      <th>26</th>\n",
       "      <td>607</td>\n",
       "      <td>1603</td>\n",
       "    </tr>\n",
       "    <tr>\n",
       "      <th>27</th>\n",
       "      <td>235</td>\n",
       "      <td>2884</td>\n",
       "    </tr>\n",
       "    <tr>\n",
       "      <th>28</th>\n",
       "      <td>496</td>\n",
       "      <td>742</td>\n",
       "    </tr>\n",
       "    <tr>\n",
       "      <th>29</th>\n",
       "      <td>2514</td>\n",
       "      <td>83</td>\n",
       "    </tr>\n",
       "    <tr>\n",
       "      <th>30</th>\n",
       "      <td>1291</td>\n",
       "      <td>114</td>\n",
       "    </tr>\n",
       "    <tr>\n",
       "      <th>31</th>\n",
       "      <td>362</td>\n",
       "      <td>130</td>\n",
       "    </tr>\n",
       "  </tbody>\n",
       "</table>\n",
       "</div>"
      ],
      "text/plain": [
       "       2005  2015\n",
       "Dzień            \n",
       "01      212   466\n",
       "02      184   257\n",
       "03      330   331\n",
       "04      589   433\n",
       "05     1473   435\n",
       "06      886   395\n",
       "07      484   303\n",
       "08      406   813\n",
       "09      302   469\n",
       "10      398   190\n",
       "11      502   354\n",
       "12      963   436\n",
       "13     1231   197\n",
       "14      362   178\n",
       "15      315   104\n",
       "16      297    58\n",
       "17      337    32\n",
       "18      345   114\n",
       "19      647    65\n",
       "20      871    92\n",
       "21      750   119\n",
       "22     3566   104\n",
       "23     2995   110\n",
       "24      865   208\n",
       "25      269   163\n",
       "26      607  1603\n",
       "27      235  2884\n",
       "28      496   742\n",
       "29     2514    83\n",
       "30     1291   114\n",
       "31      362   130"
      ]
     },
     "execution_count": 191,
     "metadata": {},
     "output_type": "execute_result"
    }
   ],
   "source": [
    "new_anul = pd.DataFrame({'2005': list(anul2005.CANCELLED), '2015': list(anul2015.CANCELLED)}, index = new_index)\n",
    "new_anul.index.name = 'Dzień'\n",
    "new_anul"
   ]
  },
  {
   "cell_type": "code",
   "execution_count": 194,
   "metadata": {
    "collapsed": false
   },
   "outputs": [
    {
     "data": {
      "image/png": "[encoded data removed]",
      "text/plain": [
       "<matplotlib.figure.Figure at 0x7f6c07e034e0>"
      ]
     },
     "metadata": {},
     "output_type": "display_data"
    }
   ],
   "source": [
    "plt.plot(new_anul)\n",
    "plt.legend(['2005', '2015'])\n",
    "plt.show()"
   ]
  },
  {
   "cell_type": "markdown",
   "metadata": {},
   "source": [
    "### Ile lotów z jednego stanu do drugiego? (2015)"
   ]
  },
  {
   "cell_type": "code",
   "execution_count": 41,
   "metadata": {
    "collapsed": false
   },
   "outputs": [
    {
     "data": {
      "text/plain": [
       "ORIGIN_STATE_ABR  DEST_STATE_ABR\n",
       "AK                AK                1576\n",
       "                  AZ                  39\n",
       "                  CA                  24\n",
       "                  CO                  31\n",
       "                  HI                  44\n",
       "                  IL                   8\n",
       "                  MN                  35\n",
       "                  NV                  14\n",
       "                  OR                  73\n",
       "                  WA                 723\n",
       "AL                CO                  57\n",
       "                  FL                 181\n",
       "                  GA                 946\n",
       "                  IL                 195\n",
       "                  MD                  58\n",
       "                  MI                  71\n",
       "                  NV                  31\n",
       "                  NY                  48\n",
       "                  TX                 814\n",
       "                  VA                   2\n",
       "AR                AZ                  31\n",
       "                  CO                  75\n",
       "                  GA                 383\n",
       "                  IL                 410\n",
       "                  MD                  27\n",
       "                  MI                  26\n",
       "                  MN                  18\n",
       "                  NJ                  24\n",
       "                  NV                  31\n",
       "                  NY                  72\n",
       "                                    ... \n",
       "WI                KY                  43\n",
       "                  LA                   4\n",
       "                  MA                  54\n",
       "                  MD                  60\n",
       "                  MI                 345\n",
       "                  MN                 417\n",
       "                  MO                 105\n",
       "                  NJ                 116\n",
       "                  NV                  89\n",
       "                  NY                  85\n",
       "                  OH                  64\n",
       "                  TX                 314\n",
       "                  UT                  18\n",
       "                  VA                  90\n",
       "                  WA                  27\n",
       "WV                GA                  87\n",
       "                  IL                  35\n",
       "                  TX                  54\n",
       "WY                CA                  67\n",
       "                  CO                 419\n",
       "                  GA                   8\n",
       "                  IL                  29\n",
       "                  MN                   8\n",
       "                  NJ                   9\n",
       "                  NY                   2\n",
       "                  TX                  45\n",
       "                  UT                 236\n",
       "                  VA                   1\n",
       "                  WA                   5\n",
       "                  WY                  55\n",
       "Name: ORIGIN_STATE_ABR, dtype: int64"
      ]
     },
     "execution_count": 41,
     "metadata": {},
     "output_type": "execute_result"
    }
   ],
   "source": [
    "stany = dane2015[[\"ORIGIN_STATE_ABR\", \"DEST_STATE_ABR\"]]\n",
    "stany_agg = stany.groupby([\"ORIGIN_STATE_ABR\", \"DEST_STATE_ABR\"])[\"ORIGIN_STATE_ABR\"].count()\n",
    "stany_agg"
   ]
  },
  {
   "cell_type": "code",
   "execution_count": 42,
   "metadata": {
    "collapsed": false
   },
   "outputs": [
    {
     "data": {
      "image/png": "[encoded data removed]",
      "text/plain": [
       "<matplotlib.figure.Figure at 0x7f6c11fd0e10>"
      ]
     },
     "metadata": {},
     "output_type": "display_data"
    }
   ],
   "source": [
    "fig, stany_plot = plt.subplots()\n",
    "fig.set_size_inches(15, 10)\n",
    "stany_plot = sns.heatmap(stany_agg.unstack())"
   ]
  },
  {
   "cell_type": "markdown",
   "metadata": {},
   "source": [
    "Heatmapa raczej nie jest powalająca. Generalnie widać, że najwięcej lotów jest do Texasu i Californi."
   ]
  },
  {
   "cell_type": "code",
   "execution_count": 43,
   "metadata": {
    "collapsed": false
   },
   "outputs": [
    {
     "data": {
      "text/plain": [
       "6     California\n",
       "57         Texas\n",
       "Name: Description, dtype: object"
      ]
     },
     "execution_count": 43,
     "metadata": {},
     "output_type": "execute_result"
    }
   ],
   "source": [
    "states.Description[states.Code.isin([\"CA\", \"TX\"])]"
   ]
  },
  {
   "cell_type": "markdown",
   "metadata": {},
   "source": [
    "### Jak długość lotu skorelowana jest z opóźnieniem? (2015)"
   ]
  },
  {
   "cell_type": "markdown",
   "metadata": {},
   "source": [
    "Uwaga - wyres liczy się dobre kilkadziesiąt minut. I jak widać raczej niewiele z niego wynika..."
   ]
  },
  {
   "cell_type": "code",
   "execution_count": 47,
   "metadata": {
    "collapsed": false
   },
   "outputs": [
    {
     "data": {
      "image/png": "[encoded data removed]",
      "text/plain": [
       "<matplotlib.figure.Figure at 0x7f6c1203a630>"
      ]
     },
     "metadata": {},
     "output_type": "display_data"
    }
   ],
   "source": [
    "g = sns.lmplot(x = \"DEP_DELAY\", y = \"DISTANCE\", data = dane2015)\n",
    "plt.title(\"Wykres zależności opóźnienia od odległości\")\n",
    "plt.show()"
   ]
  },
  {
   "cell_type": "markdown",
   "metadata": {},
   "source": [
    "### Czy wielkość opóźnienia odlotu jest skorelowana z opoźnieniem przylotu? (2015)"
   ]
  },
  {
   "cell_type": "markdown",
   "metadata": {},
   "source": [
    "Tutaj widać już natomiast całkiem ładną zależność, że najczęściej jeżeli samolot wyruszy z opóźnieniem to z takim opoźnieniem też wyląduje (lub nawet większym)."
   ]
  },
  {
   "cell_type": "code",
   "execution_count": 48,
   "metadata": {
    "collapsed": false
   },
   "outputs": [
    {
     "data": {
      "image/png": "[encoded data removed]",
      "text/plain": [
       "<matplotlib.figure.Figure at 0x7f6c07e08588>"
      ]
     },
     "metadata": {},
     "output_type": "display_data"
    }
   ],
   "source": [
    "g = sns.lmplot(x = \"DEP_DELAY\", y = \"ARR_DELAY\", data = dane2015)\n",
    "plt.title(\"Wykres zależności opóźnienia od odległości\")\n",
    "plt.show()"
   ]
  },
  {
   "cell_type": "markdown",
   "metadata": {},
   "source": [
    "### Ile spóźnień jakiego typu w dany dzień? (2015)"
   ]
  },
  {
   "cell_type": "code",
   "execution_count": 66,
   "metadata": {
    "collapsed": false
   },
   "outputs": [
    {
     "data": {
      "text/html": [
       "<div>\n",
       "<table border=\"1\" class=\"dataframe\">\n",
       "  <thead>\n",
       "    <tr style=\"text-align: right;\">\n",
       "      <th></th>\n",
       "      <th>CARRIER_DELAY</th>\n",
       "      <th>WEATHER_DELAY</th>\n",
       "      <th>NAS_DELAY</th>\n",
       "      <th>SECURITY_DELAY</th>\n",
       "      <th>LATE_AIRCRAFT_DELAY</th>\n",
       "    </tr>\n",
       "    <tr>\n",
       "      <th>DAY_OF_WEEK</th>\n",
       "      <th></th>\n",
       "      <th></th>\n",
       "      <th></th>\n",
       "      <th></th>\n",
       "      <th></th>\n",
       "    </tr>\n",
       "  </thead>\n",
       "  <tbody>\n",
       "    <tr>\n",
       "      <th>1</th>\n",
       "      <td>258385</td>\n",
       "      <td>49478</td>\n",
       "      <td>223525</td>\n",
       "      <td>557</td>\n",
       "      <td>364287</td>\n",
       "    </tr>\n",
       "    <tr>\n",
       "      <th>2</th>\n",
       "      <td>196409</td>\n",
       "      <td>33535</td>\n",
       "      <td>156332</td>\n",
       "      <td>698</td>\n",
       "      <td>251467</td>\n",
       "    </tr>\n",
       "    <tr>\n",
       "      <th>3</th>\n",
       "      <td>175262</td>\n",
       "      <td>32191</td>\n",
       "      <td>141250</td>\n",
       "      <td>456</td>\n",
       "      <td>206204</td>\n",
       "    </tr>\n",
       "    <tr>\n",
       "      <th>4</th>\n",
       "      <td>253543</td>\n",
       "      <td>46695</td>\n",
       "      <td>179057</td>\n",
       "      <td>1118</td>\n",
       "      <td>284779</td>\n",
       "    </tr>\n",
       "    <tr>\n",
       "      <th>5</th>\n",
       "      <td>283669</td>\n",
       "      <td>34880</td>\n",
       "      <td>211976</td>\n",
       "      <td>647</td>\n",
       "      <td>371128</td>\n",
       "    </tr>\n",
       "    <tr>\n",
       "      <th>6</th>\n",
       "      <td>258232</td>\n",
       "      <td>29406</td>\n",
       "      <td>150969</td>\n",
       "      <td>1764</td>\n",
       "      <td>282227</td>\n",
       "    </tr>\n",
       "    <tr>\n",
       "      <th>7</th>\n",
       "      <td>282655</td>\n",
       "      <td>36902</td>\n",
       "      <td>214946</td>\n",
       "      <td>1460</td>\n",
       "      <td>423773</td>\n",
       "    </tr>\n",
       "  </tbody>\n",
       "</table>\n",
       "</div>"
      ],
      "text/plain": [
       "             CARRIER_DELAY  WEATHER_DELAY  NAS_DELAY  SECURITY_DELAY  \\\n",
       "DAY_OF_WEEK                                                            \n",
       "1                   258385          49478     223525             557   \n",
       "2                   196409          33535     156332             698   \n",
       "3                   175262          32191     141250             456   \n",
       "4                   253543          46695     179057            1118   \n",
       "5                   283669          34880     211976             647   \n",
       "6                   258232          29406     150969            1764   \n",
       "7                   282655          36902     214946            1460   \n",
       "\n",
       "             LATE_AIRCRAFT_DELAY  \n",
       "DAY_OF_WEEK                       \n",
       "1                         364287  \n",
       "2                         251467  \n",
       "3                         206204  \n",
       "4                         284779  \n",
       "5                         371128  \n",
       "6                         282227  \n",
       "7                         423773  "
      ]
     },
     "execution_count": 66,
     "metadata": {},
     "output_type": "execute_result"
    }
   ],
   "source": [
    "spoznienia = dane2015[[\"DAY_OF_WEEK\", \"CARRIER_DELAY\", \"WEATHER_DELAY\", \"NAS_DELAY\", \"SECURITY_DELAY\", \"LATE_AIRCRAFT_DELAY\"]].groupby(\"DAY_OF_WEEK\").sum()\n",
    "spoznienia"
   ]
  },
  {
   "cell_type": "code",
   "execution_count": 67,
   "metadata": {
    "collapsed": false
   },
   "outputs": [
    {
     "data": {
      "image/png": "[encoded data removed]",
      "text/plain": [
       "<matplotlib.figure.Figure at 0x7f6c11f668d0>"
      ]
     },
     "metadata": {},
     "output_type": "display_data"
    }
   ],
   "source": [
    "fig, spoznienia_plot = plt.subplots()\n",
    "fig.set_size_inches(10, 7)\n",
    "spoznienia_plot = sns.heatmap(spoznienia)"
   ]
  },
  {
   "cell_type": "markdown",
   "metadata": {},
   "source": [
    "Największe spóźnienia (z największą ilością minut) to te związane z opóźnieniem samolotu, najmniej czasu i najmniejsza ilośc to opóźnienia związane z ochroną i bezpieczeństwem. Najwięcej spóźenień jest w niedzieję, poniedziałek i piątek."
   ]
  },
  {
   "cell_type": "markdown",
   "metadata": {},
   "source": [
    "### Ile procent lotów jest anulowana i z jakich powodów? (2015)"
   ]
  },
  {
   "cell_type": "code",
   "execution_count": 87,
   "metadata": {
    "collapsed": false
   },
   "outputs": [
    {
     "name": "stdout",
     "output_type": "stream",
     "text": [
      "Procent anulowanych lotów w styczniu 2015 to 0.0254953528751\n"
     ]
    }
   ],
   "source": [
    "anulowania = dane2015[[\"CANCELLED\", \"CANCELLATION_CODE\"]]\n",
    "frakcja_anulowanych = anulowania.CANCELLED[dane2015.CANCELLED == 1].count()/anulowania.CANCELLED.count()\n",
    "print(\"Procent anulowanych lotów w styczniu 2015 to \" + str(frakcja_anulowanych))"
   ]
  },
  {
   "cell_type": "code",
   "execution_count": 95,
   "metadata": {
    "collapsed": false
   },
   "outputs": [
    {
     "data": {
      "text/html": [
       "<div>\n",
       "<table border=\"1\" class=\"dataframe\">\n",
       "  <thead>\n",
       "    <tr style=\"text-align: right;\">\n",
       "      <th></th>\n",
       "      <th>CANCELLED</th>\n",
       "    </tr>\n",
       "    <tr>\n",
       "      <th>CANCELLATION_CODE</th>\n",
       "      <th></th>\n",
       "    </tr>\n",
       "  </thead>\n",
       "  <tbody>\n",
       "    <tr>\n",
       "      <th>A</th>\n",
       "      <td>2874</td>\n",
       "    </tr>\n",
       "    <tr>\n",
       "      <th>B</th>\n",
       "      <td>7020</td>\n",
       "    </tr>\n",
       "    <tr>\n",
       "      <th>C</th>\n",
       "      <td>2087</td>\n",
       "    </tr>\n",
       "    <tr>\n",
       "      <th>D</th>\n",
       "      <td>1</td>\n",
       "    </tr>\n",
       "  </tbody>\n",
       "</table>\n",
       "</div>"
      ],
      "text/plain": [
       "                   CANCELLED\n",
       "CANCELLATION_CODE           \n",
       "A                       2874\n",
       "B                       7020\n",
       "C                       2087\n",
       "D                          1"
      ]
     },
     "execution_count": 95,
     "metadata": {},
     "output_type": "execute_result"
    }
   ],
   "source": [
    "anulowane = anulowania[anulowania.CANCELLED == 1]\n",
    "anulowane_agg = anulowane.groupby(\"CANCELLATION_CODE\").count()\n",
    "anulowane_agg"
   ]
  },
  {
   "cell_type": "code",
   "execution_count": 98,
   "metadata": {
    "collapsed": false
   },
   "outputs": [
    {
     "data": {
      "text/html": [
       "<div>\n",
       "<table border=\"1\" class=\"dataframe\">\n",
       "  <thead>\n",
       "    <tr style=\"text-align: right;\">\n",
       "      <th></th>\n",
       "      <th>Description</th>\n",
       "      <th>CANCELLED</th>\n",
       "    </tr>\n",
       "  </thead>\n",
       "  <tbody>\n",
       "    <tr>\n",
       "      <th>0</th>\n",
       "      <td>Carrier</td>\n",
       "      <td>2874</td>\n",
       "    </tr>\n",
       "    <tr>\n",
       "      <th>1</th>\n",
       "      <td>Weather</td>\n",
       "      <td>7020</td>\n",
       "    </tr>\n",
       "    <tr>\n",
       "      <th>2</th>\n",
       "      <td>National Air System</td>\n",
       "      <td>2087</td>\n",
       "    </tr>\n",
       "    <tr>\n",
       "      <th>3</th>\n",
       "      <td>Security</td>\n",
       "      <td>1</td>\n",
       "    </tr>\n",
       "  </tbody>\n",
       "</table>\n",
       "</div>"
      ],
      "text/plain": [
       "           Description  CANCELLED\n",
       "0              Carrier       2874\n",
       "1              Weather       7020\n",
       "2  National Air System       2087\n",
       "3             Security          1"
      ]
     },
     "execution_count": 98,
     "metadata": {},
     "output_type": "execute_result"
    }
   ],
   "source": [
    "anulowane_kod = pd.merge(anulowane_agg, cancel, how = \"left\", left_index = True, right_on = \"Code\")\n",
    "anulowane_kod = anulowane_kod[[\"Description\", \"CANCELLED\"]]\n",
    "anulowane_kod"
   ]
  }
 ],
 "metadata": {
  "kernelspec": {
   "display_name": "Python 3",
   "language": "python",
   "name": "python3"
  },
  "language_info": {
   "codemirror_mode": {
    "name": "ipython",
    "version": 3
   },
   "file_extension": ".py",
   "mimetype": "text/x-python",
   "name": "python",
   "nbconvert_exporter": "python",
   "pygments_lexer": "ipython3",
   "version": "3.4.3"
  }
 },
 "nbformat": 4,
 "nbformat_minor": 0
}
