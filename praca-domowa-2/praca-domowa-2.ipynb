{
 "cells": [
  {
   "cell_type": "markdown",
   "metadata": {},
   "source": [
    "# Praca domowa nr 2\n",
    "## Justyna Jankowiak"
   ]
  },
  {
   "cell_type": "code",
   "execution_count": 1,
   "metadata": {
    "collapsed": true
   },
   "outputs": [],
   "source": [
    "#ładowanie numpy\n",
    "import numpy as np"
   ]
  },
  {
   "cell_type": "markdown",
   "metadata": {},
   "source": [
    "#### 1. Zadanie 1\n",
    "Przy uzyciu petli napisz funkcję `movingavg()`, która dla wektora $x$ o $n$ elementach oraz nieparzystej liczby naturalnej $k$ wyznaczy $k$-średnią ruchomą, $k < n$, tj. ciag $(w_1,\\dots,w_{n-k+1})$, dla którego $w_i=\\sum_{j=1}^k x_{i+j-1}/k$."
   ]
  },
  {
   "cell_type": "code",
   "execution_count": 2,
   "metadata": {
    "collapsed": false
   },
   "outputs": [],
   "source": [
    "def movingavg(x, k):\n",
    "    \"\"\"\n",
    "    Funckja 'movingavg' przyjmuje dwa argumenty:\n",
    "    - wektor x o długości n\n",
    "    - liczbę naturalną k, nieparzystą i mniejszą od n\n",
    "    Funkcja zwraca wektor o długości n - k + 1, na i-tym miejscu wektora jest i-ta średnia ruchoma (z k elementów)\n",
    "    \"\"\" \n",
    "    assert isinstance(x, np.ndarray), \"x nie jest wektorem!\"\n",
    "    n = len(x)\n",
    "    assert int(k) == k and k >=1, \"k nie jest liczbą naturalną!\"\n",
    "    assert k % 2 != 0, \"k nie jest liczbą nieparzystą!\"\n",
    "    assert k < n, \"k musi być mniejsze od n (długość wektora x)\"\n",
    "    \n",
    "    w = np.zeros(n - k + 1)\n",
    "    for i in range(0, n - k + 1):\n",
    "        w[i] = np.sum(x[i:(i + k)])/k\n",
    "    return w"
   ]
  },
  {
   "cell_type": "code",
   "execution_count": 3,
   "metadata": {
    "collapsed": false
   },
   "outputs": [
    {
     "data": {
      "text/plain": [
       "array([ 3.33333333,  5.        ,  5.        ])"
      ]
     },
     "execution_count": 3,
     "metadata": {},
     "output_type": "execute_result"
    }
   ],
   "source": [
    "movingavg(np.array([1, 4, 5, 6, 4]), 3)"
   ]
  },
  {
   "cell_type": "code",
   "execution_count": 4,
   "metadata": {
    "collapsed": false
   },
   "outputs": [
    {
     "name": "stdout",
     "output_type": "stream",
     "text": [
      "[ 0.87227546  0.08986752  0.67431078  0.78335044  0.53470222  0.92283163\n",
      "  0.92095     0.71085267  0.6292328   0.4321097   0.38883237  0.04613963\n",
      "  0.80465012  0.94312483  0.79962539  0.24876326  0.01013801  0.99782507\n",
      "  0.12662217  0.60478387  0.91770889  0.06795882  0.72546889  0.27958276\n",
      "  0.48919012  0.82944781  0.16994086  0.41602822  0.55821179  0.24781765]\n"
     ]
    },
    {
     "data": {
      "text/plain": [
       "array([ 0.59090129,  0.60101252,  0.76722902,  0.77453739,  0.74371387,\n",
       "        0.72319536,  0.61639551,  0.44143343,  0.46019292,  0.52297133,\n",
       "        0.59647447,  0.56846065,  0.56126032,  0.59989532,  0.43659478,\n",
       "        0.39762648,  0.5314156 ,  0.54297977,  0.48850853,  0.51910065,\n",
       "        0.4959819 ,  0.47832968,  0.49872609,  0.43683796,  0.49256376,\n",
       "        0.44428927])"
      ]
     },
     "execution_count": 4,
     "metadata": {},
     "output_type": "execute_result"
    }
   ],
   "source": [
    "x = np.random.rand(30)\n",
    "print(x)\n",
    "movingavg(x, 5)"
   ]
  },
  {
   "cell_type": "markdown",
   "metadata": {},
   "source": [
    "#### 2. Zadanie 2\n",
    "Napisz funkcje `logiderle()`, która jako argumenty przyjmuje równoliczne wektory całkowitoliczbowe $i$, $j$ oraz wartość całkowitą $n$. Jeśli dla każdego możliwego $l$ nie zachodzi $1 \\le i_l \\le j_l \\le n$ oraz $i_l > j_{l-1}$, natychmiast zakończ działanie błędem (raise Exception(\"komunikat\")). Funkcja ma generować $n$-elementowy wektor logiczny $w$ taki, że $w_l == \\mathtt{True}$ wtw $(\\exists p)$ $l\\in[i_p; j_p]$. Dla przykładu, jeśli $n=7$, $\\mathtt{i}=(1, 4)$, $\\mathtt{j}=(1, 6)$, to w wyniku powinniśmy otrzymać łaskawie $(\\mathtt{True},\\mathtt{False},\\mathtt{False}, \\mathtt{True},\\mathtt{True},\\mathtt{True},\\mathtt{False})$."
   ]
  },
  {
   "cell_type": "code",
   "execution_count": 5,
   "metadata": {
    "collapsed": false
   },
   "outputs": [],
   "source": [
    "def logiderle(i, j, n):\n",
    "    \"\"\"\n",
    "    Funkcja przyjmuje 3 argumenty:\n",
    "    - i - wektor całkowitoliczbiwy\n",
    "    - j - wektor całkowitoliczbowy takiej samej długości jak i oraz taki, że każdy element jest większy bądź równy\n",
    "    od odpowiadającemu mu elementowi z i\n",
    "    - n - liczba naturalna\n",
    "    Funkcja zwraca n-elementowy wektor logiczny taki, że na l-tym miejscu jest True, jeżeli l należy do [i_p, j_p]\n",
    "    dla pewnego p.\n",
    "    \"\"\"\n",
    "    assert isinstance(i, np.ndarray), \"i nie jest wektorem!\"\n",
    "    assert isinstance(j, np.ndarray), \"j nie jest wektorem!\"\n",
    "    assert np.all(np.equal(np.mod(i, 1), 0)), \"i nie jest wektorem całkowitoliczbowym!\"\n",
    "    assert np.all(np.equal(np.mod(j, 1), 0)), \"j nie jest wektorem całkowitoliczbowym!\"\n",
    "    assert int(n) == n and n >= 1, \"n nie jest liczbą naturalną!\"\n",
    "    assert len(i) == len(j), \"wektory i i j są różnej długości!\"\n",
    "    assert np.all(i <= j), \"każda wartość w wektorze i musi być mniejsza bądź równa od odpowiadajacej \\\n",
    "    jej wartości w wektorze j!\"\n",
    "    \n",
    "    #zdefiniowanie w wektorze w pola dtype jako bool gwarantuje mi wynik jako wektor True/False a nie 0/1\n",
    "    w = np.zeros(n, dtype = bool)\n",
    "    #zakładam, ze indeksowanie od 1\n",
    "    for k in range(1, n + 1): \n",
    "        log = np.any(np.logical_and(k >= i, k <= j))\n",
    "        w[k - 1] = log\n",
    "    return w"
   ]
  },
  {
   "cell_type": "code",
   "execution_count": 6,
   "metadata": {
    "collapsed": false
   },
   "outputs": [
    {
     "data": {
      "text/plain": [
       "array([ True, False, False,  True,  True,  True, False], dtype=bool)"
      ]
     },
     "execution_count": 6,
     "metadata": {},
     "output_type": "execute_result"
    }
   ],
   "source": [
    "i = np.array([1, 4])\n",
    "j = np.array([1, 6])\n",
    "n = 7\n",
    "logiderle(i, j, n)"
   ]
  },
  {
   "cell_type": "code",
   "execution_count": 7,
   "metadata": {
    "collapsed": false
   },
   "outputs": [
    {
     "data": {
      "text/plain": [
       "array([False, False, False, False, False], dtype=bool)"
      ]
     },
     "execution_count": 7,
     "metadata": {},
     "output_type": "execute_result"
    }
   ],
   "source": [
    "np.repeat(False, 5)"
   ]
  },
  {
   "cell_type": "markdown",
   "metadata": {},
   "source": [
    "#### 3. Zadanie 3\n",
    "Napisz funkcję `gendyskr()`, która jako argumenty przyjmuje:\n",
    "\n",
    "* wartość całkowitą dodatnią $n$,\n",
    "* $k$-elementowy wektor liczbowy $x$ o unikalnych wartościach,\n",
    "* $k$-elementowy wektor prawdopodobieństw $p$ - jeśli wartości w $p$ nie sumują się do 1, należy go przed wykonaniem obliczeń unormować.\n",
    "\n",
    "Naszym zadaniem jest implementacja algorytmu, który generuje $n$-elementową pseudolosową próbkę z rozkładu dyskretnego zmiennej losowej $X$ takiego, że $\\Pr(X=x_i)=p_i$ $(\\forall i=1,\\dots,k)$. Pojedynczą wartość otrzymujemy tak oto:\n",
    "\n",
    "1. Wygeneruj obserwację $u$ z rozkładu jednostajnego na $(0,1)$. \n",
    "2. Znajdź $m\\in{1,\\dots,k}$ takie, że $u\\in(\\sum_{j=1}^{m-1} p_{j}, \\sum_{j=1}^m p_{j}]$, przy założeniu $\\sum_{j=1}^0 \\cdot =0$. \n",
    "3. Zwróć $x_m$ jako wynik."
   ]
  },
  {
   "cell_type": "code",
   "execution_count": 8,
   "metadata": {
    "collapsed": true
   },
   "outputs": [],
   "source": [
    "def gendyskr(n, x, p):\n",
    "    \"\"\"\n",
    "    Funkcja przyjmuje trzy argumenty:\n",
    "    - n - liczbą naturalną, wielkość próby\n",
    "    - x - wektor unikalnych wartości\n",
    "    - p - wagi dla poszczególnych wartości z wektora x \n",
    "    (gdy jest unormowany p możemy przyjąć jako wektor prawdopodobieństw)\n",
    "    Funkcja zwraca n-elementową próbę z rozkładu dyskretnego o wartościach x i prawdopodobieństwach p\n",
    "    \"\"\"\n",
    "    assert int(n) == n and n >= 1, \"n nie jest liczbą całkowitą dodatnią\"\n",
    "    assert isinstance(x, np.ndarray), \"x nie jest wektorem!\"\n",
    "    k = len(x)\n",
    "    assert len(set(x)) == k, \"x nie jest wektorem o unikalnych wartościach!\"\n",
    "    assert len(p) == k, \"wektory p i k nie są tej samej długości\"\n",
    "    \n",
    "    #jeżeli potrzeba to normalizujemy wektor p\n",
    "    sump = np.sum(p)\n",
    "    if sump != 1: \n",
    "        p = p/sump\n",
    "    \n",
    "    cumsump = np.append(0, np.cumsum(p))\n",
    "    value = np.zeros(n)\n",
    "    for i in range(0, n):\n",
    "        #generujemy obserwację z rozkładu jednostajnego (0, 1)\n",
    "        u = np.random.uniform()\n",
    "        #znajdujemy odpowiedni indeks\n",
    "        index = np.max(np.where(u > cumsump))\n",
    "        #zwracamy m-tą wartość wektora x\n",
    "        value[i] = x[index]\n",
    "    return value"
   ]
  },
  {
   "cell_type": "code",
   "execution_count": 9,
   "metadata": {
    "collapsed": false
   },
   "outputs": [
    {
     "data": {
      "text/plain": [
       "array([ 4.,  3.,  4.,  3.,  4.,  4.,  4.,  3.,  4.,  3.,  6.,  3.,  3.,\n",
       "        4.,  3.,  3.,  4.,  3.,  4.,  4.])"
      ]
     },
     "execution_count": 9,
     "metadata": {},
     "output_type": "execute_result"
    }
   ],
   "source": [
    "n = 20\n",
    "x = np.array([1, 2, 3, 4, 5, 6])\n",
    "p = np.array([0, 0, 0.5, 0.9, 0, 0.2])\n",
    "gendyskr(n, x, p)"
   ]
  },
  {
   "cell_type": "markdown",
   "metadata": {},
   "source": [
    "#### 4. Zadanie 4\n",
    "Zaimplementuj algorytm sortowania przez scalanie danej tablicy liczb rzeczywistych."
   ]
  },
  {
   "cell_type": "code",
   "execution_count": 10,
   "metadata": {
    "collapsed": false
   },
   "outputs": [],
   "source": [
    "def mergesort(array):\n",
    "    \"\"\"\n",
    "    Funkcja przyjmuje wektor nieposortowanych wartości rzeczywistych\n",
    "    Funkcja zwraca wektor posortowanych wartości (za pomocą algorytmu sortowania przez scalanie)\n",
    "    \"\"\"\n",
    "    assert isinstance(array, np.ndarray), \"array nie jest wektorem!\"\n",
    "    assert len(array) >= 1, \"array powinna mieć długość większą bądź równą 1!\" \n",
    "    \n",
    "    if len(array) >= 2:\n",
    "        #wyznaczamy środek i dzielimy względem niego tablicę na dwie cześci - prawą i lewą\n",
    "        mid = len(array) // 2\n",
    "        left = array[:mid]\n",
    "        right = array[mid:]\n",
    "        #rekurencyjnie zapuszczamy algorytm na połówkach\n",
    "        left = mergesort(left)\n",
    "        right = mergesort(right)\n",
    "        #sklejamy posortowane już części\n",
    "        return merge(left, right)\n",
    "    else:\n",
    "        return array\n",
    "    \n",
    "def merge(arrayl, arrayr):\n",
    "    \"\"\"\n",
    "    Funkcja \"skleja\" dwie posortowane już tablice\n",
    "    \"\"\"\n",
    "    merged = np.array([])\n",
    "    idl = 0\n",
    "    idr = 0 \n",
    "    #dopóki w obu tablicach mamy niewykorzystane elementy to porządkujemy je względem siebie\n",
    "    while idl < len(arrayl) and idr < len(arrayr):\n",
    "        if arrayl[idl] <= arrayr[idr]:\n",
    "            merged = np.append(merged, arrayl[idl])\n",
    "            idl += 1\n",
    "        else:\n",
    "            merged = np.append(merged, arrayr[idr])\n",
    "            idr += 1\n",
    "    #ale możemy być tak, że elementy z jednej tablicy skończą się wcześniej niż w drugiej\n",
    "    #to znaczy, że możemy wtedy dokleić wszystkie niewykorzystane elementy tablicy na koniec\n",
    "    while idl < len(arrayl):\n",
    "        merged = np.append(merged, arrayl[idl])\n",
    "        idl +=1\n",
    "    while idr < len(arrayr):\n",
    "        merged = np.append(merged, arrayr[idr])\n",
    "        idr +=1\n",
    "    return merged"
   ]
  },
  {
   "cell_type": "code",
   "execution_count": 11,
   "metadata": {
    "collapsed": false
   },
   "outputs": [
    {
     "data": {
      "text/plain": [
       "array([  2.5 ,   3.  ,   5.  ,   7.  ,   7.  ,   8.  ,  45.12,  54.  ])"
      ]
     },
     "execution_count": 11,
     "metadata": {},
     "output_type": "execute_result"
    }
   ],
   "source": [
    "mergesort(np.array([54, 7, 8, 2.5, 3, 45.12, 5, 7]))"
   ]
  },
  {
   "cell_type": "code",
   "execution_count": 12,
   "metadata": {
    "collapsed": false
   },
   "outputs": [
    {
     "data": {
      "text/plain": [
       "array([ 3.,  3.,  3.,  4.])"
      ]
     },
     "execution_count": 12,
     "metadata": {},
     "output_type": "execute_result"
    }
   ],
   "source": [
    "mergesort(np.array([3, 4, 3, 3]))"
   ]
  },
  {
   "cell_type": "markdown",
   "metadata": {},
   "source": [
    "#### 5. Zadanie 6\n",
    "Napisz funkcję `liniowa()`, która jako argumenty przyjmuje:\n",
    "\n",
    "* posortowany rosnąco $n$-elementowy wektor liczbowy $x$,\n",
    "* $n$-elementowy wektor liczbowy $y$ (dowolny),\n",
    "* $k$-elementowy wektor liczbowy $z$ o wartościach z przedziału $[x_1, x_n)$.\n",
    "\n",
    "Funkcja ta powinna zwracać $k$-elementowy wektor, którego $i$-ty element jest wynikiem obliczenia wartości funkcji kawałkami liniowej (tj. łamanej) interpolującej liniowo punkty $(x_1,y_1),\\dots,(x_n,y_n)$ w punkcie $z_i$. Formalnie, jeśli $j\\in{1,\\dots,n-1}$ jest taki, że $x_j \\le z_i < x_{j+1}$, to $i$-tą wartością wynikową będzie $y_j + (y_{j+1}-y_j)(z_i-x_j)/(x_{j+1}-x_j)$."
   ]
  },
  {
   "cell_type": "code",
   "execution_count": 13,
   "metadata": {
    "collapsed": false
   },
   "outputs": [],
   "source": [
    "def liniowa(x, y, z):\n",
    "    \"\"\"\n",
    "    Funkcja przyjmuje trzy argumenty:\n",
    "    - x - wektor uporządkowanych rosnąco wartości\n",
    "    - y - dowolny wektor długości takiej jak x\n",
    "    - wektor z o wartościach z przedziału [x1, xn)\n",
    "    Funkcja zwraca wektor długości takiej jak z, którego i-ty element jest wynikiem obliczenia wartości funkcji\n",
    "    kawałkami liniowej interpolującej liniowo punkty (x1, y1), ..., (xn, yn) w punkcie zi.\n",
    "    \"\"\"\n",
    "    assert isinstance(x, np.ndarray), \"array nie jest wektorem!\"\n",
    "    assert isinstance(y, np.ndarray), \"array nie jest wektorem!\"\n",
    "    assert isinstance(z, np.ndarray), \"array nie jest wektorem!\"\n",
    "    n = len(x)\n",
    "    assert len(y) == n, \"wektory x i y nie są takiej samej długości!\"\n",
    "    assert np.all(x == np.sort(x)), \"wektor x nie jest posortowany!\"\n",
    "    assert np.all(np.logical_and(z >= x[0], z < x[n - 1])), \"z przyjmuje inne wartości niż z przedziału [x_1, x_n)!\"\n",
    "\n",
    "    k = len(z)\n",
    "    inter = np.zeros(k)\n",
    "    for i in range(0, k):\n",
    "        zz = z[i]\n",
    "        index = np.max(np.where(zz >= x))\n",
    "        inter[i] = y[index] + ((y[index + 1] - y[index]) * (zz - x[index]))/(x[index + 1] - x[index])\n",
    "    return inter"
   ]
  },
  {
   "cell_type": "code",
   "execution_count": 14,
   "metadata": {
    "collapsed": false
   },
   "outputs": [
    {
     "name": "stdout",
     "output_type": "stream",
     "text": [
      "[ 0.          0.32222222  0.64444444  0.96666667  1.28888889  1.61111111\n",
      "  1.93333333  2.25555556  2.57777778  2.9       ]\n"
     ]
    },
    {
     "data": {
      "text/plain": [
       "array([ 0.        ,  0.32222222,  0.64444444,  0.96666667,  1.86666667,\n",
       "        2.83333333,  3.8       ,  5.27777778,  6.88888889,  8.5       ])"
      ]
     },
     "execution_count": 14,
     "metadata": {},
     "output_type": "execute_result"
    }
   ],
   "source": [
    "x = np.array([0, 1, 2, 3])\n",
    "y = x ** 2\n",
    "z = np.linspace(0, 2.9, 10)\n",
    "print(z)\n",
    "liniowa(x, y, z)"
   ]
  },
  {
   "cell_type": "markdown",
   "metadata": {},
   "source": [
    "#### 6. Zadanie 8\n",
    "Implement the $k$-means clustering algorithm for a given $n\\times m$ matrix: \n",
    "\n",
    "1.  Choose initial cluster centroids, $\\mu_i$, $i=1,\\dots,k$ (component-wise means). \n",
    "2. Assign each point to the nearest centroid.\n",
    "3. Recalculate cluster centroids by computing the means $\\mu_i$ of all the points assigned to each cluster. \n",
    "4. If convergence not reached: Goto 2."
   ]
  },
  {
   "cell_type": "code",
   "execution_count": 37,
   "metadata": {
    "collapsed": false
   },
   "outputs": [],
   "source": [
    "def first_centroid(M, k):\n",
    "    #generujemy piersze środki klastrów jako średnie z próbek losowych punktów\n",
    "    n = M.shape[0]\n",
    "    m = M.shape[1]\n",
    "    cent = [[]] * k\n",
    "    for i in range(0, k):\n",
    "        #losowe ~20% obserwacji\n",
    "        probka = np.random.choice(n, n // 5)\n",
    "        #wyliczamy ich średnią\n",
    "        cent[i] = [np.mean(M[probka, x]) for x in range(0, m)]\n",
    "    return np.array(cent)\n",
    "\n",
    "def find_class(M, means):\n",
    "    n = M.shape[0]\n",
    "    m = M.shape[1]\n",
    "    clas = np.zeros(n)\n",
    "    for i in range(0, n):\n",
    "        #wektor odległości między punktem a środkami \n",
    "        distance = [(np.sum((M[i] - x) ** 2)) ** 0.5 for x in means]\n",
    "        #wybrana klasa to ta z najmniejsża odległością\n",
    "        klasa = np.where(distance == min(distance))[0][0]\n",
    "        clas[i] = klasa\n",
    "    return clas\n",
    "\n",
    "def recalculate(M, cent, k):\n",
    "    #ponowne policzenie środków klastró gdy mamy już przypisane klasy\n",
    "    m = M.shape[1]\n",
    "    nowe_sr = [[]] * k\n",
    "    for i in range(0, k):\n",
    "        ktore_wiersze = (cent == i)\n",
    "        sr = [np.mean(M[ktore_wiersze, x]) for x in range(0, m)]\n",
    "        nowe_sr[i] = sr\n",
    "    return np.array(nowe_sr)\n",
    "\n",
    "def kmeans(M, k, maxiter = 20):\n",
    "    \"\"\"\n",
    "    Funcja przyjmuje dwa argumenty\n",
    "    - M - macierz n x m\n",
    "    - k - ilość klastrów, na które chcemy podzielić\n",
    "    Dodatkwo ustawiona jest liczba maksymalnych iteracji na 20\n",
    "    Funkcja zwraca wektor z wyliczonymi średnimi dla poszczególnych klastrów \n",
    "    oraz wektor klas, do których zostałe przypisane pszczególne punkty\n",
    "    \"\"\"\n",
    "    assert len(M.shape) == 2, \"M nie jest macierzą!\"\n",
    "    assert int(k) == k and k > 1, \"liczba klastrów musi być co najmniej 2!\"\n",
    "    assert int(maxiter) == maxiter and maxiter > 0, \"liczba iteracji musi być co najmniej 1!\"\n",
    "    \n",
    "    cent = first_centroid(M, k)\n",
    "    clas = find_class(M, cent)\n",
    "    for i in range(maxiter):\n",
    "        nowe_cent = recalculate(M, clas, k)\n",
    "        diff = np.zeros(k)\n",
    "        for j in range(0, k):\n",
    "            diff[j] = (np.sum((cent[j] - nowe_cent[j]) ** 2)) ** 0.5\n",
    "        diffmax = max(diff)\n",
    "        if diffmax < 0.001:\n",
    "            break\n",
    "        else:\n",
    "            cent = nowe_cent\n",
    "            nowe_klasy = find_class(M, cent)\n",
    "            nowe_cent = recalculate(M, nowe_klasy, k)\n",
    "    return [nowe_cent, nowe_klasy]"
   ]
  },
  {
   "cell_type": "code",
   "execution_count": 39,
   "metadata": {
    "collapsed": false
   },
   "outputs": [
    {
     "name": "stdout",
     "output_type": "stream",
     "text": [
      "[array([[ 1.12604046,  3.29654835],\n",
      "       [ 1.44436138,  0.96614781],\n",
      "       [ 2.52558031,  1.92351128]]), array([ 2.,  2.,  2.,  2.,  2.,  2.,  2.,  2.,  2.,  2.,  2.,  0.,  2.,\n",
      "        2.,  0.,  2.,  2.,  0.,  2.,  0.,  2.,  0.,  2.,  2.,  2.,  2.,\n",
      "        2.,  2.,  2.,  0.,  2.,  2.,  2.,  2.,  2.,  2.,  0.,  2.,  2.,\n",
      "        2.,  2.,  2.,  2.,  2.,  2.,  2.,  2.,  2.,  2.,  2.,  1.,  1.,\n",
      "        1.,  1.,  1.,  2.,  1.,  1.,  1.,  2.,  1.,  2.,  1.,  1.,  1.,\n",
      "        1.,  1.,  1.,  1.,  1.,  2.,  1.,  1.,  2.,  1.,  1.,  1.,  1.,\n",
      "        1.,  1.,  1.,  2.,  1.,  2.,  1.,  1.,  1.,  1.,  1.,  1.,  2.,\n",
      "        1.,  1.,  1.,  2.,  1.,  1.,  1.,  1.,  1.,  0.,  0.,  0.,  0.,\n",
      "        0.,  0.,  0.,  0.,  0.,  0.,  0.,  1.,  0.,  0.,  0.,  0.,  0.,\n",
      "        0.,  0.,  0.,  0.,  0.,  0.,  0.,  0.,  0.,  0.,  0.,  0.,  0.,\n",
      "        0.,  0.,  0.,  0.,  0.,  0.,  0.,  0.,  0.,  0.,  0.,  0.,  1.,\n",
      "        0.,  0.,  1.,  0.,  0.,  0.,  0.])]\n"
     ]
    }
   ],
   "source": [
    "#wygenerowanie odpowiedniej macierzy\n",
    "A = np.random.multivariate_normal((3, 3), np.array([[0.05, 0], [0, 0.3]]), 50)\n",
    "B = np.random.multivariate_normal((2, 1), np.array([[0.1, 0], [0, 0.1]]), 50)\n",
    "C = np.random.multivariate_normal((1, 3), np.array([[0.2, 0], [0, 0.4]]), 50)\n",
    "M = np.vstack((A, B, C))\n",
    "\n",
    "wynik = kmeans(M, k = 3)\n",
    "print(wynik)\n",
    "kolory = ['g' for i in range(0, len(wynik[1]))]\n",
    "for i in range(0, len(wynik[1])):\n",
    "    if wynik[1][i] == 1: \n",
    "        kolory[i] = 'y'\n",
    "    if wynik[1][i]== 2:\n",
    "        kolory[i] = 'b'\n",
    "\n",
    "import matplotlib.pyplot as plt\n",
    "fig = plt.figure()\n",
    "ax = fig.add_subplot(1, 1, 1)\n",
    "ax.scatter(M[:, 0], M[:, 1], color = kolory)\n",
    "plt.show()"
   ]
  },
  {
   "cell_type": "markdown",
   "metadata": {},
   "source": [
    "#### 7. Zadanie 9\n",
    "Macierz kwadratowa $E$ o rozmiarze $n\\times n$ i elementach calkowitych nieujemnych może reprezentować graf skierowany ważony $G=(\\{0,1,\\dots,n-1\\}, E)$. Zaimplementuj algorytm Dijkstry znajdowania najkrótszej ścieżki między dwoma danymi wierzchołkami $i,j\\in{0,1,\\dots,n-1}$ w $G$."
   ]
  },
  {
   "cell_type": "code",
   "execution_count": 22,
   "metadata": {
    "collapsed": false
   },
   "outputs": [],
   "source": [
    "INF = 1000 #\"nieskończoność\"\n",
    "\n",
    "def min_distance(dist, Q):\n",
    "    #funkcja szuka wierzchołka z najmniejszą odległością spośród wierzchołków będących jeszcze w puli\n",
    "    mini = INF\n",
    "    for v in range(len(dist)):\n",
    "        if Q[v] == False and dist[v] <= mini:\n",
    "            mini = dist[v]\n",
    "            mini_id = v\n",
    "    return mini_id\n",
    "\n",
    "def dijkstra(G, source1, source2):\n",
    "    \"\"\"\n",
    "    Funcja przyjmuje trzy argumenty\n",
    "    - macierz G opisująca odległości w grafie (symetryczna)\n",
    "    - source1 - indeks wierzchołka1\n",
    "    - source2 - indeks wierzchołka2\n",
    "    Funkcja wypisuje najmniejszą odległość pomiędzy tymi wierzchołkami wyliczoną algorytmem Dijkstry\n",
    "    \"\"\"\n",
    "    assert len(G.shape) == 2, \"G nie jest macierzą!\"\n",
    "    assert G.shape[0] == G.shape[1], \"G musi być macierzą kwadratową!\"\n",
    "    assert source1 in range(G.shape[0]) and source2 in range(G.shape[0]), \"Błędne indeksy wierzchołków!\"\n",
    "    V = G.shape[1]\n",
    "    dist = np.repeat(INF, V)\n",
    "    dist[source1] = 0\n",
    "    Q = np.zeros(V, dtype = bool)\n",
    "    \n",
    "    for i in range(0, V - 1):\n",
    "        #wybieramy wierzchołek o najmniejszej odległości, który jest jeszcze w puli\n",
    "        u = min_distance(dist, Q)\n",
    "        #oznaczamy go jako już wybrany\n",
    "        Q[u] = True\n",
    "        for v in range(0, V):\n",
    "            #aktualizacja odległości dla tych, dla których odległość idące przez wierzchołek u jest mniejsza\n",
    "            if Q[v] == False and G[u, v] > 0 and dist[u] != INF and dist[u] + G[u, v] < dist[v]:\n",
    "                dist[v] = dist[u] + G[u, v]\n",
    "    print(\"Dystans między wierzchołkiem \" + str(source1) + \" a wierzchołkiem \" \n",
    "          + str(source2) + \" wynosi \" + str(dist[source2]) + \".\")"
   ]
  },
  {
   "cell_type": "code",
   "execution_count": 23,
   "metadata": {
    "collapsed": false
   },
   "outputs": [
    {
     "name": "stdout",
     "output_type": "stream",
     "text": [
      "Dystans między wierzchołkiem 0 a wierzchołkiem 1 wynosi 4.\n"
     ]
    }
   ],
   "source": [
    "G = np.array([[0, 4, 0, 0, 0, 0, 0, 8, 0],\n",
    "             [4, 0, 8, 0, 0, 0, 0, 11, 0],\n",
    "             [0, 8, 0, 7, 0, 4, 0, 0, 2],\n",
    "             [0, 0, 7, 0, 9, 14, 0, 0, 0],\n",
    "             [0, 0, 0, 9, 0, 10, 0, 0, 0],\n",
    "             [0, 0, 4, 0, 10, 0, 2, 0, 0],\n",
    "             [0, 0, 0, 14, 0, 2, 0, 1, 6],\n",
    "             [8, 11, 0, 0, 0, 0, 1, 0, 7],\n",
    "             [0, 0, 2, 0, 0, 0, 6, 7, 0]])\n",
    "dijkstra(G, 0, 1);"
   ]
  },
  {
   "cell_type": "markdown",
   "metadata": {},
   "source": [
    "Nie lubie grafów, więc reszta zadań to algorytmy nie wymienione w liście zadań.\n",
    "#### 8. Zadanie\n",
    "Zaimplementuj algorytm IWLS\n",
    "(https://en.wikipedia.org/wiki/Iteratively_reweighted_least_squares)."
   ]
  },
  {
   "cell_type": "code",
   "execution_count": 24,
   "metadata": {
    "collapsed": false
   },
   "outputs": [],
   "source": [
    "def IWLS(x, y, max_iter):\n",
    "    \"\"\"\n",
    "    Funkcja przyjmuje 3 argumenty:\n",
    "    - macierz x (wartości objaśniających)\n",
    "    - wektor y wartości objaśnianych\n",
    "    - max_iter - maksymalna liczba iteracji\n",
    "    Za pomocą algorytmy IWLS obliczane są współczynniki w równaniu y ~ x1 + x2 + ... + xp (razem z wyrazem wolnym)\n",
    "    Funkcja zwraca wektor współczynników b\n",
    "    \"\"\"\n",
    "    n = x.shape[0]\n",
    "    p = x.shape[1]\n",
    "    \n",
    "    assert len(y) == n, \"Błędny wymiar wektora odpowiedzi!\"\n",
    "    assert int(max_iter) == max_iter and max_iter > 0, \"Liczba iteracji musi być liczbą naturalną!\"\n",
    "    \n",
    "    eps = 1e-10\n",
    "    oldpr = np.repeat(1, n)\n",
    "    b = np.zeros(p + 1)\n",
    "    X = np.column_stack((np.repeat(1, n), x))\n",
    "    \n",
    "    for i in range(max_iter):\n",
    "        bX = np.dot(X, b)\n",
    "        pr = 1/(1 + np.exp(-bX))\n",
    "        W = np.zeros((n, n))\n",
    "        W[range(n), range(n)] = pr * (1 - pr)\n",
    "        b = b + np.dot(np.dot(np.linalg.inv(np.dot(np.dot(np.matrix.transpose(X), W), X)), np.matrix.transpose(X)), y - pr)\n",
    "    \n",
    "        if np.sum(np.abs(oldpr - pr)) < n * eps:\n",
    "            break\n",
    "        oldpr = pr\n",
    "    return b"
   ]
  },
  {
   "cell_type": "code",
   "execution_count": 25,
   "metadata": {
    "collapsed": false
   },
   "outputs": [
    {
     "data": {
      "text/plain": [
       "array([   2.02465455,  172.87638772,  597.0070275 ,  292.62770623,\n",
       "       -418.15442155, -266.05412591])"
      ]
     },
     "execution_count": 25,
     "metadata": {},
     "output_type": "execute_result"
    }
   ],
   "source": [
    "x = np.random.rand(20, 5)\n",
    "y = np.random.binomial(1, 0.75, size = 20)\n",
    "IWLS(x, y, 500)"
   ]
  },
  {
   "cell_type": "markdown",
   "metadata": {
    "collapsed": true
   },
   "source": [
    "#### 9. Zadanie\n",
    "Zaimplementuj dekompozycję LU (https://en.wikipedia.org/wiki/LU_decomposition)"
   ]
  },
  {
   "cell_type": "code",
   "execution_count": 26,
   "metadata": {
    "collapsed": false
   },
   "outputs": [],
   "source": [
    "def LU(A):\n",
    "    \"\"\"\n",
    "    Funkcja przyjmuje jeden argument - macierz kwadratową A\n",
    "    Zwraca dwie macierze dolną i górną trójkątną, zgodnie z rozkładem LU\n",
    "    \"\"\"\n",
    "    n = A.shape[0] \n",
    "    assert A.shape[1] == n, \"Macierz A musi być macierzą kwadratową!\"\n",
    "    \n",
    "    L = np.zeros((n,n)) \n",
    "    U = np.zeros((n,n)) \n",
    "    U[:] = A \n",
    "    L[range(n), range(n)] = 1\n",
    "    for i in range(n - 1):\n",
    "        for j in range(i + 1, n):\n",
    "            L[j, i] = U[j, i] / U[i, i]\n",
    "            U[j, i:] = U[j, i:] - L[j, i] * U[i, i:]\n",
    "            U[j, i] = 0\n",
    "    return [L, U]"
   ]
  },
  {
   "cell_type": "code",
   "execution_count": 27,
   "metadata": {
    "collapsed": false
   },
   "outputs": [
    {
     "data": {
      "text/plain": [
       "[array([[ 1. ,  0. ],\n",
       "        [ 1.5,  1. ]]), array([[ 4. ,  3. ],\n",
       "        [ 0. , -1.5]])]"
      ]
     },
     "execution_count": 27,
     "metadata": {},
     "output_type": "execute_result"
    }
   ],
   "source": [
    "A = np.array([[4, 3], [6, 3]])\n",
    "LU(A)"
   ]
  },
  {
   "cell_type": "markdown",
   "metadata": {
    "collapsed": true
   },
   "source": [
    "#### 10. Zadanie\n",
    "Zaimplementuj dekompozycję Cholewskiego (https://en.wikipedia.org/wiki/Cholesky_decomposition)."
   ]
  },
  {
   "cell_type": "code",
   "execution_count": 28,
   "metadata": {
    "collapsed": true
   },
   "outputs": [],
   "source": [
    "def cholesky(A):\n",
    "    \"\"\"\n",
    "    Funkcja przymuje macierz kwadratową i symetryczną A.\n",
    "    Zwraca macierz L - dolną z dekompozycji Cholewskiego (druga to jej odbicie)\n",
    "    \"\"\"\n",
    "    n = A.shape[0]\n",
    "    assert A.shape[1] == n, \"Macierz nie jest kwadratowa!\"\n",
    "    \n",
    "    L = np.zeros((n, n))\n",
    "    for i in range(n):\n",
    "        for k in range(i + 1):\n",
    "            suma = sum(L[i, j] * L[k, j] for j in range(k))\n",
    "            if (i == k):\n",
    "                L[i, k] = (A[i, i] - suma) ** 0.5\n",
    "            else:\n",
    "                L[i, k] = (1.0 / L[k, k] * (A[i, k] - suma))\n",
    "    return L"
   ]
  },
  {
   "cell_type": "code",
   "execution_count": 29,
   "metadata": {
    "collapsed": false
   },
   "outputs": [
    {
     "data": {
      "text/plain": [
       "array([[ 2.,  0.,  0.],\n",
       "       [ 6.,  1.,  0.],\n",
       "       [-8.,  5.,  3.]])"
      ]
     },
     "execution_count": 29,
     "metadata": {},
     "output_type": "execute_result"
    }
   ],
   "source": [
    "A = np.array([[4, 12, -16], [12, 37, -43], [-16, -43, 98]])\n",
    "cholesky(A)"
   ]
  }
 ],
 "metadata": {
  "kernelspec": {
   "display_name": "Python 3",
   "language": "python",
   "name": "python3"
  },
  "language_info": {
   "codemirror_mode": {
    "name": "ipython",
    "version": 3
   },
   "file_extension": ".py",
   "mimetype": "text/x-python",
   "name": "python",
   "nbconvert_exporter": "python",
   "pygments_lexer": "ipython3",
   "version": "3.4.3"
  }
 },
 "nbformat": 4,
 "nbformat_minor": 0
}
